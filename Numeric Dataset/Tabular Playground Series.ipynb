{
 "cells": [
  {
   "cell_type": "markdown",
   "id": "d64d5824",
   "metadata": {},
   "source": [
    "# Table of Contents\n",
    "<a id=\"toc\"></a>\n",
    "- [1. Data Description](#1)\n",
    "- [2. Import Necssaries Libraries](#2)\n",
    "- [3. Exploaring the Data](#3)\n",
    "    - [3.1 Exploring Train Data](#3.1)\n",
    "    - [3.2 Exploring Test Data](#3.2)\n",
    "- [4. Data Preparation and Analysis](#4)\n",
    "    - [4.1 Drop Unwanted rows and columns](#4.1)\n",
    "- [5. Feature Engineering](#5)\n",
    "- [6. Assign Feature and target variables](#6)\n",
    "- [7. SVM model](#7)\n",
    "    - [7.1 Accuarcy of the model](#7.1)\n",
    "    - [7.2 Confusion Matrix](#7.2)\n",
    "    - [7.3 ROC Curve](#7.3)\n",
    "- [8. ANN](#8)\n",
    "    - [8.1 Build and Train the NN](#8.1)\n",
    "    - [8.2 Accuarcy of NN](#8.2)\n",
    "    - [8.3 Loss Curve](#8.3)\n",
    "    - [8.4 Confusion Matrix](#8.4)"
   ]
  },
  {
   "cell_type": "markdown",
   "id": "24e7df42",
   "metadata": {},
   "source": [
    "<a id=\"1\"></a>\n",
    "<h1>Data Description</h1><br><br>\n",
    "\n",
    "The study area includes four wilderness areas located in the Roosevelt National Forest of northern Colorado. Each observation is a 30m x 30m patch. You are asked to predict an integer classification for the forest cover type. The two types are:<br>\n",
    "\n",
    "1 - Spruce/Fir<br>\n",
    "2 - Lodgepole Pine<br>\n",
    "\n",
    "\n",
    "The training set contains both features and the Cover_Type. The test set contains only the features.<br>\n",
    "\n",
    "**Data Fields**:<br>\n",
    "Elevation - Elevation in meters<br>\n",
    "Aspect - Aspect in degrees azimuth<br>\n",
    "Slope - Slope in degrees<br>\n",
    "Horizontal_Distance_To_Hydrology - Horz Dist to nearest surface water features<br>\n",
    "Vertical_Distance_To_Hydrology - Vert Dist to nearest surface water features<br>\n",
    "Horizontal_Distance_To_Roadways - Horz Dist to nearest roadway<br>\n",
    "Hillshade_9am (0 to 255 index) - Hillshade index at 9am, summer solstice<br>\n",
    "Hillshade_Noon (0 to 255 index) - Hillshade index at noon, summer solstice<br>\n",
    "Hillshade_3pm (0 to 255 index) - Hillshade index at 3pm, summer solstice<br>\n",
    "Horizontal_Distance_To_Fire_Points - Horz Dist to nearest wildfire ignition points<br>\n",
    "Wilderness_Area (4 binary columns, 0 = absence or 1 = presence) - Wilderness area designation<br>\n",
    "Soil_Type (40 binary columns, 0 = absence or 1 = presence) - Soil Type designation<br>\n",
    "Cover_Type (7 types, integers 1 to 7) - Forest Cover Type designation<br>\n",
    "\n",
    "**The wilderness areas are:**<br>\n",
    "\n",
    "1 - Rawah Wilderness Area<br>\n",
    "2 - Neota Wilderness Area<br>\n",
    "3 - Comanche Peak Wilderness Area<br>\n",
    "4 - Cache la Poudre Wilderness Area<br>\n",
    "\n",
    "**The soil types are:**<br>\n",
    "\n",
    "1 Cathedral family - Rock outcrop complex, extremely stony.<br>\n",
    "2 Vanet - Ratake families complex, very stony.<br>\n",
    "3 Haploborolis - Rock outcrop complex, rubbly.<br>\n",
    "4 Ratake family - Rock outcrop complex, rubbly.<br>\n",
    "5 Vanet family - Rock outcrop complex complex, rubbly.<br>\n",
    "6 Vanet - Wetmore families - Rock outcrop complex, stony.<br>\n",
    "7 Gothic family.<br>\n",
    "8 Supervisor - Limber families complex.<br>\n",
    "9 Troutville family, very stony.<br>\n",
    "10 Bullwark - Catamount families - Rock outcrop complex, rubbly.<br>\n",
    "11 Bullwark - Catamount families - Rock land complex, rubbly.<br>\n",
    "12 Legault family - Rock land complex, stony.<br>\n",
    "13 Catamount family - Rock land - Bullwark family complex, rubbly.<br>\n",
    "14 Pachic Argiborolis - Aquolis complex.<br>\n",
    "15 unspecified in the USFS Soil and ELU Survey.<br>\n",
    "16 Cryaquolis - Cryoborolis complex.<br>\n",
    "17 Gateview family - Cryaquolis complex.<br>\n",
    "18 Rogert family, very stony.<br>\n",
    "19 Typic Cryaquolis - Borohemists complex.<br>\n",
    "20 Typic Cryaquepts - Typic Cryaquolls complex.<br>\n",
    "21 Typic Cryaquolls - Leighcan family, till substratum complex.<br>\n",
    "22 Leighcan family, till substratum, extremely bouldery.<br>\n",
    "23 Leighcan family, till substratum - Typic Cryaquolls complex.<br>\n",
    "24 Leighcan family, extremely stony.<br>\n",
    "25 Leighcan family, warm, extremely stony.<br>\n",
    "26 Granile - Catamount families complex, very stony.<br>\n",
    "27 Leighcan family, warm - Rock outcrop complex, extremely stony.<br>\n",
    "28 Leighcan family - Rock outcrop complex, extremely stony.<br>\n",
    "29 Como - Legault families complex, extremely stony.<br>\n",
    "30 Como family - Rock land - Legault family complex, extremely stony.<br>\n",
    "31 Leighcan - Catamount families complex, extremely stony.<br>\n",
    "32 Catamount family - Rock outcrop - Leighcan family complex, extremely stony.<br>\n",
    "33 Leighcan - Catamount families - Rock outcrop complex, extremely stony.<br>\n",
    "34 Cryorthents - Rock land complex, extremely stony.<br>\n",
    "35 Cryumbrepts - Rock outcrop - Cryaquepts complex.<br>\n",
    "36 Bross family - Rock land - Cryumbrepts complex, extremely stony.<br>\n",
    "37 Rock outcrop - Cryumbrepts - Cryorthents complex, extremely stony.<br>\n",
    "38 Leighcan - Moran families - Cryaquolls complex, extremely stony.<br>\n",
    "39 Moran family - Cryorthents - Leighcan family complex, extremely stony.<br>\n",
    "40 Moran family - Cryorthents - Rock land complex, extremely stony.<br>"
   ]
  },
  {
   "cell_type": "markdown",
   "id": "312fc1fc",
   "metadata": {},
   "source": [
    "<a id=\"2\"></a>\n",
    "# Import Necessaries Libaries"
   ]
  },
  {
   "cell_type": "code",
   "execution_count": 1,
   "id": "3e4f6bcf",
   "metadata": {
    "ExecuteTime": {
     "end_time": "2021-12-31T08:33:55.686439Z",
     "start_time": "2021-12-31T08:33:35.774267Z"
    }
   },
   "outputs": [],
   "source": [
    "import numpy as np\n",
    "import pandas as pd\n",
    "from matplotlib import pyplot as plt\n",
    "%matplotlib inline\n",
    "import seaborn as sns\n",
    "\n",
    "from sklearn.model_selection import train_test_split\n",
    "from sklearn.preprocessing import StandardScaler, LabelEncoder\n",
    "from sklearn.metrics import confusion_matrix, roc_curve, auc\n",
    "from sklearn.svm import SVC\n",
    "\n",
    "import tensorflow as tf\n",
    "from tensorflow.keras.layers import Dense\n",
    "from tensorflow.keras.utils import to_categorical\n",
    "from tensorflow.keras import Sequential"
   ]
  },
  {
   "cell_type": "markdown",
   "id": "e4c0918a",
   "metadata": {},
   "source": [
    "<a id=\"3\"></a>\n",
    "# Exploaring the data"
   ]
  },
  {
   "cell_type": "markdown",
   "id": "fd653aa4",
   "metadata": {},
   "source": [
    "<a id=\"3.1\"></a>\n",
    "**Explore Training data**"
   ]
  },
  {
   "cell_type": "code",
   "execution_count": 2,
   "id": "6669b232",
   "metadata": {
    "ExecuteTime": {
     "end_time": "2021-12-31T08:33:59.566912Z",
     "start_time": "2021-12-31T08:33:55.687437Z"
    }
   },
   "outputs": [],
   "source": [
    "df = pd.read_csv('TPS.zip') # read training data"
   ]
  },
  {
   "cell_type": "code",
   "execution_count": 3,
   "id": "95b718ea",
   "metadata": {
    "ExecuteTime": {
     "end_time": "2021-12-31T08:33:59.640098Z",
     "start_time": "2021-12-31T08:33:59.572606Z"
    }
   },
   "outputs": [
    {
     "data": {
      "text/html": [
       "<div>\n",
       "<style scoped>\n",
       "    .dataframe tbody tr th:only-of-type {\n",
       "        vertical-align: middle;\n",
       "    }\n",
       "\n",
       "    .dataframe tbody tr th {\n",
       "        vertical-align: top;\n",
       "    }\n",
       "\n",
       "    .dataframe thead th {\n",
       "        text-align: right;\n",
       "    }\n",
       "</style>\n",
       "<table border=\"1\" class=\"dataframe\">\n",
       "  <thead>\n",
       "    <tr style=\"text-align: right;\">\n",
       "      <th></th>\n",
       "      <th>Elevation</th>\n",
       "      <th>Aspect</th>\n",
       "      <th>Slope</th>\n",
       "      <th>Horizontal_Distance_To_Hydrology</th>\n",
       "      <th>Vertical_Distance_To_Hydrology</th>\n",
       "      <th>Horizontal_Distance_To_Roadways</th>\n",
       "      <th>Hillshade_9am</th>\n",
       "      <th>Hillshade_Noon</th>\n",
       "      <th>Hillshade_3pm</th>\n",
       "      <th>Horizontal_Distance_To_Fire_Points</th>\n",
       "      <th>...</th>\n",
       "      <th>Soil_Type32</th>\n",
       "      <th>Soil_Type33</th>\n",
       "      <th>Soil_Type34</th>\n",
       "      <th>Soil_Type35</th>\n",
       "      <th>Soil_Type36</th>\n",
       "      <th>Soil_Type37</th>\n",
       "      <th>Soil_Type38</th>\n",
       "      <th>Soil_Type39</th>\n",
       "      <th>Soil_Type40</th>\n",
       "      <th>Cover_Type</th>\n",
       "    </tr>\n",
       "  </thead>\n",
       "  <tbody>\n",
       "    <tr>\n",
       "      <th>0</th>\n",
       "      <td>3305</td>\n",
       "      <td>263</td>\n",
       "      <td>5</td>\n",
       "      <td>341</td>\n",
       "      <td>264</td>\n",
       "      <td>1520</td>\n",
       "      <td>197</td>\n",
       "      <td>229</td>\n",
       "      <td>161</td>\n",
       "      <td>1070</td>\n",
       "      <td>...</td>\n",
       "      <td>0</td>\n",
       "      <td>0</td>\n",
       "      <td>0</td>\n",
       "      <td>0</td>\n",
       "      <td>0</td>\n",
       "      <td>0</td>\n",
       "      <td>0</td>\n",
       "      <td>1</td>\n",
       "      <td>0</td>\n",
       "      <td>1</td>\n",
       "    </tr>\n",
       "    <tr>\n",
       "      <th>1</th>\n",
       "      <td>2877</td>\n",
       "      <td>68</td>\n",
       "      <td>17</td>\n",
       "      <td>252</td>\n",
       "      <td>249</td>\n",
       "      <td>1435</td>\n",
       "      <td>197</td>\n",
       "      <td>208</td>\n",
       "      <td>90</td>\n",
       "      <td>759</td>\n",
       "      <td>...</td>\n",
       "      <td>0</td>\n",
       "      <td>0</td>\n",
       "      <td>0</td>\n",
       "      <td>0</td>\n",
       "      <td>0</td>\n",
       "      <td>0</td>\n",
       "      <td>0</td>\n",
       "      <td>0</td>\n",
       "      <td>0</td>\n",
       "      <td>2</td>\n",
       "    </tr>\n",
       "    <tr>\n",
       "      <th>2</th>\n",
       "      <td>3215</td>\n",
       "      <td>362</td>\n",
       "      <td>8</td>\n",
       "      <td>373</td>\n",
       "      <td>35</td>\n",
       "      <td>807</td>\n",
       "      <td>252</td>\n",
       "      <td>226</td>\n",
       "      <td>183</td>\n",
       "      <td>915</td>\n",
       "      <td>...</td>\n",
       "      <td>0</td>\n",
       "      <td>0</td>\n",
       "      <td>0</td>\n",
       "      <td>0</td>\n",
       "      <td>0</td>\n",
       "      <td>0</td>\n",
       "      <td>0</td>\n",
       "      <td>0</td>\n",
       "      <td>0</td>\n",
       "      <td>1</td>\n",
       "    </tr>\n",
       "    <tr>\n",
       "      <th>3</th>\n",
       "      <td>3379</td>\n",
       "      <td>101</td>\n",
       "      <td>35</td>\n",
       "      <td>721</td>\n",
       "      <td>21</td>\n",
       "      <td>1515</td>\n",
       "      <td>244</td>\n",
       "      <td>207</td>\n",
       "      <td>48</td>\n",
       "      <td>2732</td>\n",
       "      <td>...</td>\n",
       "      <td>0</td>\n",
       "      <td>0</td>\n",
       "      <td>1</td>\n",
       "      <td>0</td>\n",
       "      <td>0</td>\n",
       "      <td>0</td>\n",
       "      <td>0</td>\n",
       "      <td>0</td>\n",
       "      <td>0</td>\n",
       "      <td>1</td>\n",
       "    </tr>\n",
       "    <tr>\n",
       "      <th>4</th>\n",
       "      <td>2628</td>\n",
       "      <td>132</td>\n",
       "      <td>15</td>\n",
       "      <td>174</td>\n",
       "      <td>-9</td>\n",
       "      <td>561</td>\n",
       "      <td>150</td>\n",
       "      <td>209</td>\n",
       "      <td>2</td>\n",
       "      <td>566</td>\n",
       "      <td>...</td>\n",
       "      <td>0</td>\n",
       "      <td>0</td>\n",
       "      <td>0</td>\n",
       "      <td>0</td>\n",
       "      <td>0</td>\n",
       "      <td>0</td>\n",
       "      <td>0</td>\n",
       "      <td>0</td>\n",
       "      <td>0</td>\n",
       "      <td>2</td>\n",
       "    </tr>\n",
       "  </tbody>\n",
       "</table>\n",
       "<p>5 rows × 55 columns</p>\n",
       "</div>"
      ],
      "text/plain": [
       "   Elevation  Aspect  Slope  Horizontal_Distance_To_Hydrology  \\\n",
       "0       3305     263      5                               341   \n",
       "1       2877      68     17                               252   \n",
       "2       3215     362      8                               373   \n",
       "3       3379     101     35                               721   \n",
       "4       2628     132     15                               174   \n",
       "\n",
       "   Vertical_Distance_To_Hydrology  Horizontal_Distance_To_Roadways  \\\n",
       "0                             264                             1520   \n",
       "1                             249                             1435   \n",
       "2                              35                              807   \n",
       "3                              21                             1515   \n",
       "4                              -9                              561   \n",
       "\n",
       "   Hillshade_9am  Hillshade_Noon  Hillshade_3pm  \\\n",
       "0            197             229            161   \n",
       "1            197             208             90   \n",
       "2            252             226            183   \n",
       "3            244             207             48   \n",
       "4            150             209              2   \n",
       "\n",
       "   Horizontal_Distance_To_Fire_Points  ...  Soil_Type32  Soil_Type33  \\\n",
       "0                                1070  ...            0            0   \n",
       "1                                 759  ...            0            0   \n",
       "2                                 915  ...            0            0   \n",
       "3                                2732  ...            0            0   \n",
       "4                                 566  ...            0            0   \n",
       "\n",
       "   Soil_Type34  Soil_Type35  Soil_Type36  Soil_Type37  Soil_Type38  \\\n",
       "0            0            0            0            0            0   \n",
       "1            0            0            0            0            0   \n",
       "2            0            0            0            0            0   \n",
       "3            1            0            0            0            0   \n",
       "4            0            0            0            0            0   \n",
       "\n",
       "   Soil_Type39  Soil_Type40  Cover_Type  \n",
       "0            1            0           1  \n",
       "1            0            0           2  \n",
       "2            0            0           1  \n",
       "3            0            0           1  \n",
       "4            0            0           2  \n",
       "\n",
       "[5 rows x 55 columns]"
      ]
     },
     "execution_count": 3,
     "metadata": {},
     "output_type": "execute_result"
    }
   ],
   "source": [
    "df.head()"
   ]
  },
  {
   "cell_type": "code",
   "execution_count": 4,
   "id": "26a0a1fd",
   "metadata": {
    "ExecuteTime": {
     "end_time": "2021-12-31T08:33:59.664466Z",
     "start_time": "2021-12-31T08:33:59.645137Z"
    }
   },
   "outputs": [
    {
     "data": {
      "text/plain": [
       "(500000, 55)"
      ]
     },
     "execution_count": 4,
     "metadata": {},
     "output_type": "execute_result"
    }
   ],
   "source": [
    "df.shape # 500k rows and 55 Features in the training data"
   ]
  },
  {
   "cell_type": "code",
   "execution_count": 5,
   "id": "3d1ac635",
   "metadata": {
    "ExecuteTime": {
     "end_time": "2021-12-31T08:33:59.863050Z",
     "start_time": "2021-12-31T08:33:59.665425Z"
    }
   },
   "outputs": [
    {
     "name": "stdout",
     "output_type": "stream",
     "text": [
      "<class 'pandas.core.frame.DataFrame'>\n",
      "RangeIndex: 500000 entries, 0 to 499999\n",
      "Data columns (total 55 columns):\n",
      " #   Column                              Non-Null Count   Dtype\n",
      "---  ------                              --------------   -----\n",
      " 0   Elevation                           500000 non-null  int64\n",
      " 1   Aspect                              500000 non-null  int64\n",
      " 2   Slope                               500000 non-null  int64\n",
      " 3   Horizontal_Distance_To_Hydrology    500000 non-null  int64\n",
      " 4   Vertical_Distance_To_Hydrology      500000 non-null  int64\n",
      " 5   Horizontal_Distance_To_Roadways     500000 non-null  int64\n",
      " 6   Hillshade_9am                       500000 non-null  int64\n",
      " 7   Hillshade_Noon                      500000 non-null  int64\n",
      " 8   Hillshade_3pm                       500000 non-null  int64\n",
      " 9   Horizontal_Distance_To_Fire_Points  500000 non-null  int64\n",
      " 10  Wilderness_Area1                    500000 non-null  int64\n",
      " 11  Wilderness_Area2                    500000 non-null  int64\n",
      " 12  Wilderness_Area3                    500000 non-null  int64\n",
      " 13  Wilderness_Area4                    500000 non-null  int64\n",
      " 14  Soil_Type1                          500000 non-null  int64\n",
      " 15  Soil_Type2                          500000 non-null  int64\n",
      " 16  Soil_Type3                          500000 non-null  int64\n",
      " 17  Soil_Type4                          500000 non-null  int64\n",
      " 18  Soil_Type5                          500000 non-null  int64\n",
      " 19  Soil_Type6                          500000 non-null  int64\n",
      " 20  Soil_Type7                          500000 non-null  int64\n",
      " 21  Soil_Type8                          500000 non-null  int64\n",
      " 22  Soil_Type9                          500000 non-null  int64\n",
      " 23  Soil_Type10                         500000 non-null  int64\n",
      " 24  Soil_Type11                         500000 non-null  int64\n",
      " 25  Soil_Type12                         500000 non-null  int64\n",
      " 26  Soil_Type13                         500000 non-null  int64\n",
      " 27  Soil_Type14                         500000 non-null  int64\n",
      " 28  Soil_Type15                         500000 non-null  int64\n",
      " 29  Soil_Type16                         500000 non-null  int64\n",
      " 30  Soil_Type17                         500000 non-null  int64\n",
      " 31  Soil_Type18                         500000 non-null  int64\n",
      " 32  Soil_Type19                         500000 non-null  int64\n",
      " 33  Soil_Type20                         500000 non-null  int64\n",
      " 34  Soil_Type21                         500000 non-null  int64\n",
      " 35  Soil_Type22                         500000 non-null  int64\n",
      " 36  Soil_Type23                         500000 non-null  int64\n",
      " 37  Soil_Type24                         500000 non-null  int64\n",
      " 38  Soil_Type25                         500000 non-null  int64\n",
      " 39  Soil_Type26                         500000 non-null  int64\n",
      " 40  Soil_Type27                         500000 non-null  int64\n",
      " 41  Soil_Type28                         500000 non-null  int64\n",
      " 42  Soil_Type29                         500000 non-null  int64\n",
      " 43  Soil_Type30                         500000 non-null  int64\n",
      " 44  Soil_Type31                         500000 non-null  int64\n",
      " 45  Soil_Type32                         500000 non-null  int64\n",
      " 46  Soil_Type33                         500000 non-null  int64\n",
      " 47  Soil_Type34                         500000 non-null  int64\n",
      " 48  Soil_Type35                         500000 non-null  int64\n",
      " 49  Soil_Type36                         500000 non-null  int64\n",
      " 50  Soil_Type37                         500000 non-null  int64\n",
      " 51  Soil_Type38                         500000 non-null  int64\n",
      " 52  Soil_Type39                         500000 non-null  int64\n",
      " 53  Soil_Type40                         500000 non-null  int64\n",
      " 54  Cover_Type                          500000 non-null  int64\n",
      "dtypes: int64(55)\n",
      "memory usage: 209.8 MB\n"
     ]
    }
   ],
   "source": [
    "df.info()"
   ]
  },
  {
   "cell_type": "code",
   "execution_count": 6,
   "id": "7d87a740",
   "metadata": {
    "ExecuteTime": {
     "end_time": "2021-12-31T08:34:01.540326Z",
     "start_time": "2021-12-31T08:33:59.864090Z"
    }
   },
   "outputs": [
    {
     "data": {
      "text/html": [
       "<div>\n",
       "<style scoped>\n",
       "    .dataframe tbody tr th:only-of-type {\n",
       "        vertical-align: middle;\n",
       "    }\n",
       "\n",
       "    .dataframe tbody tr th {\n",
       "        vertical-align: top;\n",
       "    }\n",
       "\n",
       "    .dataframe thead th {\n",
       "        text-align: right;\n",
       "    }\n",
       "</style>\n",
       "<table border=\"1\" class=\"dataframe\">\n",
       "  <thead>\n",
       "    <tr style=\"text-align: right;\">\n",
       "      <th></th>\n",
       "      <th>Elevation</th>\n",
       "      <th>Aspect</th>\n",
       "      <th>Slope</th>\n",
       "      <th>Horizontal_Distance_To_Hydrology</th>\n",
       "      <th>Vertical_Distance_To_Hydrology</th>\n",
       "      <th>Horizontal_Distance_To_Roadways</th>\n",
       "      <th>Hillshade_9am</th>\n",
       "      <th>Hillshade_Noon</th>\n",
       "      <th>Hillshade_3pm</th>\n",
       "      <th>Horizontal_Distance_To_Fire_Points</th>\n",
       "      <th>...</th>\n",
       "      <th>Soil_Type32</th>\n",
       "      <th>Soil_Type33</th>\n",
       "      <th>Soil_Type34</th>\n",
       "      <th>Soil_Type35</th>\n",
       "      <th>Soil_Type36</th>\n",
       "      <th>Soil_Type37</th>\n",
       "      <th>Soil_Type38</th>\n",
       "      <th>Soil_Type39</th>\n",
       "      <th>Soil_Type40</th>\n",
       "      <th>Cover_Type</th>\n",
       "    </tr>\n",
       "  </thead>\n",
       "  <tbody>\n",
       "    <tr>\n",
       "      <th>count</th>\n",
       "      <td>500000.000000</td>\n",
       "      <td>500000.000000</td>\n",
       "      <td>500000.000000</td>\n",
       "      <td>500000.000000</td>\n",
       "      <td>500000.000000</td>\n",
       "      <td>500000.000000</td>\n",
       "      <td>500000.000000</td>\n",
       "      <td>500000.000000</td>\n",
       "      <td>500000.000000</td>\n",
       "      <td>500000.000000</td>\n",
       "      <td>...</td>\n",
       "      <td>500000.000000</td>\n",
       "      <td>500000.000000</td>\n",
       "      <td>500000.000000</td>\n",
       "      <td>500000.000000</td>\n",
       "      <td>500000.000000</td>\n",
       "      <td>500000.000000</td>\n",
       "      <td>500000.000000</td>\n",
       "      <td>500000.000000</td>\n",
       "      <td>500000.000000</td>\n",
       "      <td>500000.000000</td>\n",
       "    </tr>\n",
       "    <tr>\n",
       "      <th>mean</th>\n",
       "      <td>2998.670064</td>\n",
       "      <td>151.514102</td>\n",
       "      <td>15.020952</td>\n",
       "      <td>273.284724</td>\n",
       "      <td>51.366596</td>\n",
       "      <td>1808.319074</td>\n",
       "      <td>211.806542</td>\n",
       "      <td>221.157852</td>\n",
       "      <td>141.701978</td>\n",
       "      <td>1593.188710</td>\n",
       "      <td>...</td>\n",
       "      <td>0.036588</td>\n",
       "      <td>0.039138</td>\n",
       "      <td>0.012154</td>\n",
       "      <td>0.015846</td>\n",
       "      <td>0.010904</td>\n",
       "      <td>0.012298</td>\n",
       "      <td>0.038248</td>\n",
       "      <td>0.036396</td>\n",
       "      <td>0.029328</td>\n",
       "      <td>1.617268</td>\n",
       "    </tr>\n",
       "    <tr>\n",
       "      <th>std</th>\n",
       "      <td>251.286263</td>\n",
       "      <td>109.404390</td>\n",
       "      <td>8.489674</td>\n",
       "      <td>226.664690</td>\n",
       "      <td>67.986341</td>\n",
       "      <td>1315.169159</td>\n",
       "      <td>30.551112</td>\n",
       "      <td>22.043741</td>\n",
       "      <td>42.628432</td>\n",
       "      <td>1098.247417</td>\n",
       "      <td>...</td>\n",
       "      <td>0.187748</td>\n",
       "      <td>0.193923</td>\n",
       "      <td>0.109573</td>\n",
       "      <td>0.124880</td>\n",
       "      <td>0.103851</td>\n",
       "      <td>0.110212</td>\n",
       "      <td>0.191795</td>\n",
       "      <td>0.187274</td>\n",
       "      <td>0.168724</td>\n",
       "      <td>0.486054</td>\n",
       "    </tr>\n",
       "    <tr>\n",
       "      <th>min</th>\n",
       "      <td>2360.000000</td>\n",
       "      <td>-33.000000</td>\n",
       "      <td>-3.000000</td>\n",
       "      <td>-50.000000</td>\n",
       "      <td>-299.000000</td>\n",
       "      <td>-257.000000</td>\n",
       "      <td>0.000000</td>\n",
       "      <td>49.000000</td>\n",
       "      <td>-52.000000</td>\n",
       "      <td>-257.000000</td>\n",
       "      <td>...</td>\n",
       "      <td>0.000000</td>\n",
       "      <td>0.000000</td>\n",
       "      <td>0.000000</td>\n",
       "      <td>0.000000</td>\n",
       "      <td>0.000000</td>\n",
       "      <td>0.000000</td>\n",
       "      <td>0.000000</td>\n",
       "      <td>0.000000</td>\n",
       "      <td>0.000000</td>\n",
       "      <td>1.000000</td>\n",
       "    </tr>\n",
       "    <tr>\n",
       "      <th>25%</th>\n",
       "      <td>2792.000000</td>\n",
       "      <td>61.000000</td>\n",
       "      <td>9.000000</td>\n",
       "      <td>113.000000</td>\n",
       "      <td>4.000000</td>\n",
       "      <td>865.000000</td>\n",
       "      <td>198.000000</td>\n",
       "      <td>210.000000</td>\n",
       "      <td>116.000000</td>\n",
       "      <td>811.000000</td>\n",
       "      <td>...</td>\n",
       "      <td>0.000000</td>\n",
       "      <td>0.000000</td>\n",
       "      <td>0.000000</td>\n",
       "      <td>0.000000</td>\n",
       "      <td>0.000000</td>\n",
       "      <td>0.000000</td>\n",
       "      <td>0.000000</td>\n",
       "      <td>0.000000</td>\n",
       "      <td>0.000000</td>\n",
       "      <td>1.000000</td>\n",
       "    </tr>\n",
       "    <tr>\n",
       "      <th>50%</th>\n",
       "      <td>2978.000000</td>\n",
       "      <td>122.000000</td>\n",
       "      <td>14.000000</td>\n",
       "      <td>214.000000</td>\n",
       "      <td>31.000000</td>\n",
       "      <td>1480.000000</td>\n",
       "      <td>218.000000</td>\n",
       "      <td>224.000000</td>\n",
       "      <td>142.000000</td>\n",
       "      <td>1397.000000</td>\n",
       "      <td>...</td>\n",
       "      <td>0.000000</td>\n",
       "      <td>0.000000</td>\n",
       "      <td>0.000000</td>\n",
       "      <td>0.000000</td>\n",
       "      <td>0.000000</td>\n",
       "      <td>0.000000</td>\n",
       "      <td>0.000000</td>\n",
       "      <td>0.000000</td>\n",
       "      <td>0.000000</td>\n",
       "      <td>2.000000</td>\n",
       "    </tr>\n",
       "    <tr>\n",
       "      <th>75%</th>\n",
       "      <td>3207.000000</td>\n",
       "      <td>246.000000</td>\n",
       "      <td>20.000000</td>\n",
       "      <td>363.000000</td>\n",
       "      <td>78.000000</td>\n",
       "      <td>2423.000000</td>\n",
       "      <td>233.000000</td>\n",
       "      <td>237.000000</td>\n",
       "      <td>169.000000</td>\n",
       "      <td>2104.000000</td>\n",
       "      <td>...</td>\n",
       "      <td>0.000000</td>\n",
       "      <td>0.000000</td>\n",
       "      <td>0.000000</td>\n",
       "      <td>0.000000</td>\n",
       "      <td>0.000000</td>\n",
       "      <td>0.000000</td>\n",
       "      <td>0.000000</td>\n",
       "      <td>0.000000</td>\n",
       "      <td>0.000000</td>\n",
       "      <td>2.000000</td>\n",
       "    </tr>\n",
       "    <tr>\n",
       "      <th>max</th>\n",
       "      <td>4296.000000</td>\n",
       "      <td>404.000000</td>\n",
       "      <td>62.000000</td>\n",
       "      <td>1592.000000</td>\n",
       "      <td>614.000000</td>\n",
       "      <td>7664.000000</td>\n",
       "      <td>289.000000</td>\n",
       "      <td>269.000000</td>\n",
       "      <td>272.000000</td>\n",
       "      <td>8004.000000</td>\n",
       "      <td>...</td>\n",
       "      <td>1.000000</td>\n",
       "      <td>1.000000</td>\n",
       "      <td>1.000000</td>\n",
       "      <td>1.000000</td>\n",
       "      <td>1.000000</td>\n",
       "      <td>1.000000</td>\n",
       "      <td>1.000000</td>\n",
       "      <td>1.000000</td>\n",
       "      <td>1.000000</td>\n",
       "      <td>2.000000</td>\n",
       "    </tr>\n",
       "  </tbody>\n",
       "</table>\n",
       "<p>8 rows × 55 columns</p>\n",
       "</div>"
      ],
      "text/plain": [
       "           Elevation         Aspect          Slope  \\\n",
       "count  500000.000000  500000.000000  500000.000000   \n",
       "mean     2998.670064     151.514102      15.020952   \n",
       "std       251.286263     109.404390       8.489674   \n",
       "min      2360.000000     -33.000000      -3.000000   \n",
       "25%      2792.000000      61.000000       9.000000   \n",
       "50%      2978.000000     122.000000      14.000000   \n",
       "75%      3207.000000     246.000000      20.000000   \n",
       "max      4296.000000     404.000000      62.000000   \n",
       "\n",
       "       Horizontal_Distance_To_Hydrology  Vertical_Distance_To_Hydrology  \\\n",
       "count                     500000.000000                   500000.000000   \n",
       "mean                         273.284724                       51.366596   \n",
       "std                          226.664690                       67.986341   \n",
       "min                          -50.000000                     -299.000000   \n",
       "25%                          113.000000                        4.000000   \n",
       "50%                          214.000000                       31.000000   \n",
       "75%                          363.000000                       78.000000   \n",
       "max                         1592.000000                      614.000000   \n",
       "\n",
       "       Horizontal_Distance_To_Roadways  Hillshade_9am  Hillshade_Noon  \\\n",
       "count                    500000.000000  500000.000000   500000.000000   \n",
       "mean                       1808.319074     211.806542      221.157852   \n",
       "std                        1315.169159      30.551112       22.043741   \n",
       "min                        -257.000000       0.000000       49.000000   \n",
       "25%                         865.000000     198.000000      210.000000   \n",
       "50%                        1480.000000     218.000000      224.000000   \n",
       "75%                        2423.000000     233.000000      237.000000   \n",
       "max                        7664.000000     289.000000      269.000000   \n",
       "\n",
       "       Hillshade_3pm  Horizontal_Distance_To_Fire_Points  ...    Soil_Type32  \\\n",
       "count  500000.000000                       500000.000000  ...  500000.000000   \n",
       "mean      141.701978                         1593.188710  ...       0.036588   \n",
       "std        42.628432                         1098.247417  ...       0.187748   \n",
       "min       -52.000000                         -257.000000  ...       0.000000   \n",
       "25%       116.000000                          811.000000  ...       0.000000   \n",
       "50%       142.000000                         1397.000000  ...       0.000000   \n",
       "75%       169.000000                         2104.000000  ...       0.000000   \n",
       "max       272.000000                         8004.000000  ...       1.000000   \n",
       "\n",
       "         Soil_Type33    Soil_Type34    Soil_Type35    Soil_Type36  \\\n",
       "count  500000.000000  500000.000000  500000.000000  500000.000000   \n",
       "mean        0.039138       0.012154       0.015846       0.010904   \n",
       "std         0.193923       0.109573       0.124880       0.103851   \n",
       "min         0.000000       0.000000       0.000000       0.000000   \n",
       "25%         0.000000       0.000000       0.000000       0.000000   \n",
       "50%         0.000000       0.000000       0.000000       0.000000   \n",
       "75%         0.000000       0.000000       0.000000       0.000000   \n",
       "max         1.000000       1.000000       1.000000       1.000000   \n",
       "\n",
       "         Soil_Type37    Soil_Type38    Soil_Type39    Soil_Type40  \\\n",
       "count  500000.000000  500000.000000  500000.000000  500000.000000   \n",
       "mean        0.012298       0.038248       0.036396       0.029328   \n",
       "std         0.110212       0.191795       0.187274       0.168724   \n",
       "min         0.000000       0.000000       0.000000       0.000000   \n",
       "25%         0.000000       0.000000       0.000000       0.000000   \n",
       "50%         0.000000       0.000000       0.000000       0.000000   \n",
       "75%         0.000000       0.000000       0.000000       0.000000   \n",
       "max         1.000000       1.000000       1.000000       1.000000   \n",
       "\n",
       "          Cover_Type  \n",
       "count  500000.000000  \n",
       "mean        1.617268  \n",
       "std         0.486054  \n",
       "min         1.000000  \n",
       "25%         1.000000  \n",
       "50%         2.000000  \n",
       "75%         2.000000  \n",
       "max         2.000000  \n",
       "\n",
       "[8 rows x 55 columns]"
      ]
     },
     "execution_count": 6,
     "metadata": {},
     "output_type": "execute_result"
    }
   ],
   "source": [
    "df.describe()"
   ]
  },
  {
   "cell_type": "code",
   "execution_count": 7,
   "id": "bdfbd2b6",
   "metadata": {
    "ExecuteTime": {
     "end_time": "2021-12-31T08:34:01.578356Z",
     "start_time": "2021-12-31T08:34:01.544198Z"
    }
   },
   "outputs": [
    {
     "data": {
      "text/plain": [
       "array([0, 1], dtype=int64)"
      ]
     },
     "execution_count": 7,
     "metadata": {},
     "output_type": "execute_result"
    }
   ],
   "source": [
    "df.Wilderness_Area1.unique()"
   ]
  },
  {
   "cell_type": "code",
   "execution_count": 8,
   "id": "f5e4fde7",
   "metadata": {
    "ExecuteTime": {
     "end_time": "2021-12-31T08:34:02.917885Z",
     "start_time": "2021-12-31T08:34:01.580612Z"
    },
    "scrolled": false
   },
   "outputs": [
    {
     "data": {
      "text/plain": [
       "Elevation                             1766\n",
       "Aspect                                 433\n",
       "Slope                                   66\n",
       "Horizontal_Distance_To_Hydrology      1570\n",
       "Vertical_Distance_To_Hydrology         812\n",
       "Horizontal_Distance_To_Roadways       7392\n",
       "Hillshade_9am                          268\n",
       "Hillshade_Noon                         207\n",
       "Hillshade_3pm                          319\n",
       "Horizontal_Distance_To_Fire_Points    7559\n",
       "Wilderness_Area1                         2\n",
       "Wilderness_Area2                         2\n",
       "Wilderness_Area3                         2\n",
       "Wilderness_Area4                         2\n",
       "Soil_Type1                               2\n",
       "Soil_Type2                               2\n",
       "Soil_Type3                               2\n",
       "Soil_Type4                               2\n",
       "Soil_Type5                               2\n",
       "Soil_Type6                               2\n",
       "Soil_Type7                               1\n",
       "Soil_Type8                               2\n",
       "Soil_Type9                               2\n",
       "Soil_Type10                              2\n",
       "Soil_Type11                              2\n",
       "Soil_Type12                              2\n",
       "Soil_Type13                              2\n",
       "Soil_Type14                              2\n",
       "Soil_Type15                              1\n",
       "Soil_Type16                              2\n",
       "Soil_Type17                              2\n",
       "Soil_Type18                              2\n",
       "Soil_Type19                              2\n",
       "Soil_Type20                              2\n",
       "Soil_Type21                              2\n",
       "Soil_Type22                              2\n",
       "Soil_Type23                              2\n",
       "Soil_Type24                              2\n",
       "Soil_Type25                              2\n",
       "Soil_Type26                              2\n",
       "Soil_Type27                              2\n",
       "Soil_Type28                              2\n",
       "Soil_Type29                              2\n",
       "Soil_Type30                              2\n",
       "Soil_Type31                              2\n",
       "Soil_Type32                              2\n",
       "Soil_Type33                              2\n",
       "Soil_Type34                              2\n",
       "Soil_Type35                              2\n",
       "Soil_Type36                              2\n",
       "Soil_Type37                              2\n",
       "Soil_Type38                              2\n",
       "Soil_Type39                              2\n",
       "Soil_Type40                              2\n",
       "Cover_Type                               2\n",
       "dtype: int64"
      ]
     },
     "execution_count": 8,
     "metadata": {},
     "output_type": "execute_result"
    }
   ],
   "source": [
    "df.nunique()"
   ]
  },
  {
   "cell_type": "markdown",
   "id": "b9911a92",
   "metadata": {},
   "source": [
    "**Soil_Type7 and Soil_Type15 has only 1 value so, we will drop them**"
   ]
  },
  {
   "cell_type": "code",
   "execution_count": 9,
   "id": "99ec78d4",
   "metadata": {
    "ExecuteTime": {
     "end_time": "2021-12-31T08:34:02.950343Z",
     "start_time": "2021-12-31T08:34:02.918919Z"
    }
   },
   "outputs": [
    {
     "data": {
      "text/plain": [
       "0    500000\n",
       "Name: Soil_Type7, dtype: int64"
      ]
     },
     "execution_count": 9,
     "metadata": {},
     "output_type": "execute_result"
    }
   ],
   "source": [
    "df.Soil_Type7.value_counts()"
   ]
  },
  {
   "cell_type": "code",
   "execution_count": 10,
   "id": "775a582a",
   "metadata": {
    "ExecuteTime": {
     "end_time": "2021-12-31T08:34:02.979035Z",
     "start_time": "2021-12-31T08:34:02.951414Z"
    }
   },
   "outputs": [
    {
     "data": {
      "text/plain": [
       "0    500000\n",
       "Name: Soil_Type15, dtype: int64"
      ]
     },
     "execution_count": 10,
     "metadata": {},
     "output_type": "execute_result"
    }
   ],
   "source": [
    "df.Soil_Type15.value_counts()"
   ]
  },
  {
   "cell_type": "code",
   "execution_count": 11,
   "id": "fe046ad8",
   "metadata": {
    "ExecuteTime": {
     "end_time": "2021-12-31T08:34:03.002613Z",
     "start_time": "2021-12-31T08:34:02.980116Z"
    }
   },
   "outputs": [
    {
     "data": {
      "text/plain": [
       "Index(['Elevation', 'Aspect', 'Slope', 'Horizontal_Distance_To_Hydrology',\n",
       "       'Vertical_Distance_To_Hydrology', 'Horizontal_Distance_To_Roadways',\n",
       "       'Hillshade_9am', 'Hillshade_Noon', 'Hillshade_3pm',\n",
       "       'Horizontal_Distance_To_Fire_Points', 'Wilderness_Area1',\n",
       "       'Wilderness_Area2', 'Wilderness_Area3', 'Wilderness_Area4',\n",
       "       'Soil_Type1', 'Soil_Type2', 'Soil_Type3', 'Soil_Type4', 'Soil_Type5',\n",
       "       'Soil_Type6', 'Soil_Type7', 'Soil_Type8', 'Soil_Type9', 'Soil_Type10',\n",
       "       'Soil_Type11', 'Soil_Type12', 'Soil_Type13', 'Soil_Type14',\n",
       "       'Soil_Type15', 'Soil_Type16', 'Soil_Type17', 'Soil_Type18',\n",
       "       'Soil_Type19', 'Soil_Type20', 'Soil_Type21', 'Soil_Type22',\n",
       "       'Soil_Type23', 'Soil_Type24', 'Soil_Type25', 'Soil_Type26',\n",
       "       'Soil_Type27', 'Soil_Type28', 'Soil_Type29', 'Soil_Type30',\n",
       "       'Soil_Type31', 'Soil_Type32', 'Soil_Type33', 'Soil_Type34',\n",
       "       'Soil_Type35', 'Soil_Type36', 'Soil_Type37', 'Soil_Type38',\n",
       "       'Soil_Type39', 'Soil_Type40', 'Cover_Type'],\n",
       "      dtype='object')"
      ]
     },
     "execution_count": 11,
     "metadata": {},
     "output_type": "execute_result"
    }
   ],
   "source": [
    "df.columns"
   ]
  },
  {
   "cell_type": "code",
   "execution_count": 12,
   "id": "95913db6",
   "metadata": {
    "ExecuteTime": {
     "end_time": "2021-12-31T08:34:03.029645Z",
     "start_time": "2021-12-31T08:34:03.006227Z"
    }
   },
   "outputs": [
    {
     "data": {
      "text/plain": [
       "Elevation                             int64\n",
       "Aspect                                int64\n",
       "Slope                                 int64\n",
       "Horizontal_Distance_To_Hydrology      int64\n",
       "Vertical_Distance_To_Hydrology        int64\n",
       "Horizontal_Distance_To_Roadways       int64\n",
       "Hillshade_9am                         int64\n",
       "Hillshade_Noon                        int64\n",
       "Hillshade_3pm                         int64\n",
       "Horizontal_Distance_To_Fire_Points    int64\n",
       "Wilderness_Area1                      int64\n",
       "Wilderness_Area2                      int64\n",
       "Wilderness_Area3                      int64\n",
       "Wilderness_Area4                      int64\n",
       "Soil_Type1                            int64\n",
       "Soil_Type2                            int64\n",
       "Soil_Type3                            int64\n",
       "Soil_Type4                            int64\n",
       "Soil_Type5                            int64\n",
       "Soil_Type6                            int64\n",
       "Soil_Type7                            int64\n",
       "Soil_Type8                            int64\n",
       "Soil_Type9                            int64\n",
       "Soil_Type10                           int64\n",
       "Soil_Type11                           int64\n",
       "Soil_Type12                           int64\n",
       "Soil_Type13                           int64\n",
       "Soil_Type14                           int64\n",
       "Soil_Type15                           int64\n",
       "Soil_Type16                           int64\n",
       "Soil_Type17                           int64\n",
       "Soil_Type18                           int64\n",
       "Soil_Type19                           int64\n",
       "Soil_Type20                           int64\n",
       "Soil_Type21                           int64\n",
       "Soil_Type22                           int64\n",
       "Soil_Type23                           int64\n",
       "Soil_Type24                           int64\n",
       "Soil_Type25                           int64\n",
       "Soil_Type26                           int64\n",
       "Soil_Type27                           int64\n",
       "Soil_Type28                           int64\n",
       "Soil_Type29                           int64\n",
       "Soil_Type30                           int64\n",
       "Soil_Type31                           int64\n",
       "Soil_Type32                           int64\n",
       "Soil_Type33                           int64\n",
       "Soil_Type34                           int64\n",
       "Soil_Type35                           int64\n",
       "Soil_Type36                           int64\n",
       "Soil_Type37                           int64\n",
       "Soil_Type38                           int64\n",
       "Soil_Type39                           int64\n",
       "Soil_Type40                           int64\n",
       "Cover_Type                            int64\n",
       "dtype: object"
      ]
     },
     "execution_count": 12,
     "metadata": {},
     "output_type": "execute_result"
    }
   ],
   "source": [
    "df.dtypes"
   ]
  },
  {
   "cell_type": "markdown",
   "id": "5f1f63fa",
   "metadata": {},
   "source": [
    "<a id = '4'></a>\n",
    "# Data Preparation and Analysis"
   ]
  },
  {
   "cell_type": "code",
   "execution_count": 13,
   "id": "82ed0cb8",
   "metadata": {
    "ExecuteTime": {
     "end_time": "2021-12-31T08:34:26.632889Z",
     "start_time": "2021-12-31T08:34:26.622036Z"
    }
   },
   "outputs": [],
   "source": [
    "FEATURES = [col for col in df.columns if col not in ['Cover_Type']]"
   ]
  },
  {
   "cell_type": "code",
   "execution_count": 14,
   "id": "379d3c80",
   "metadata": {
    "ExecuteTime": {
     "end_time": "2021-12-31T08:34:26.942815Z",
     "start_time": "2021-12-31T08:34:26.927592Z"
    }
   },
   "outputs": [
    {
     "data": {
      "text/plain": [
       "['Elevation',\n",
       " 'Aspect',\n",
       " 'Slope',\n",
       " 'Horizontal_Distance_To_Hydrology',\n",
       " 'Vertical_Distance_To_Hydrology',\n",
       " 'Horizontal_Distance_To_Roadways',\n",
       " 'Hillshade_9am',\n",
       " 'Hillshade_Noon',\n",
       " 'Hillshade_3pm',\n",
       " 'Horizontal_Distance_To_Fire_Points',\n",
       " 'Wilderness_Area1',\n",
       " 'Wilderness_Area2',\n",
       " 'Wilderness_Area3',\n",
       " 'Wilderness_Area4',\n",
       " 'Soil_Type1',\n",
       " 'Soil_Type2',\n",
       " 'Soil_Type3',\n",
       " 'Soil_Type4',\n",
       " 'Soil_Type5',\n",
       " 'Soil_Type6',\n",
       " 'Soil_Type7',\n",
       " 'Soil_Type8',\n",
       " 'Soil_Type9',\n",
       " 'Soil_Type10',\n",
       " 'Soil_Type11',\n",
       " 'Soil_Type12',\n",
       " 'Soil_Type13',\n",
       " 'Soil_Type14',\n",
       " 'Soil_Type15',\n",
       " 'Soil_Type16',\n",
       " 'Soil_Type17',\n",
       " 'Soil_Type18',\n",
       " 'Soil_Type19',\n",
       " 'Soil_Type20',\n",
       " 'Soil_Type21',\n",
       " 'Soil_Type22',\n",
       " 'Soil_Type23',\n",
       " 'Soil_Type24',\n",
       " 'Soil_Type25',\n",
       " 'Soil_Type26',\n",
       " 'Soil_Type27',\n",
       " 'Soil_Type28',\n",
       " 'Soil_Type29',\n",
       " 'Soil_Type30',\n",
       " 'Soil_Type31',\n",
       " 'Soil_Type32',\n",
       " 'Soil_Type33',\n",
       " 'Soil_Type34',\n",
       " 'Soil_Type35',\n",
       " 'Soil_Type36',\n",
       " 'Soil_Type37',\n",
       " 'Soil_Type38',\n",
       " 'Soil_Type39',\n",
       " 'Soil_Type40']"
      ]
     },
     "execution_count": 14,
     "metadata": {},
     "output_type": "execute_result"
    }
   ],
   "source": [
    "FEATURES"
   ]
  },
  {
   "cell_type": "code",
   "execution_count": 15,
   "id": "126e7721",
   "metadata": {
    "ExecuteTime": {
     "end_time": "2021-12-31T08:34:33.528628Z",
     "start_time": "2021-12-31T08:34:33.502877Z"
    }
   },
   "outputs": [
    {
     "data": {
      "text/plain": [
       "2    308634\n",
       "1    191366\n",
       "Name: Cover_Type, dtype: int64"
      ]
     },
     "execution_count": 15,
     "metadata": {},
     "output_type": "execute_result"
    }
   ],
   "source": [
    "df.Cover_Type.value_counts()"
   ]
  },
  {
   "cell_type": "code",
   "execution_count": 16,
   "id": "2f0fe11b",
   "metadata": {
    "ExecuteTime": {
     "end_time": "2021-12-31T08:34:54.884280Z",
     "start_time": "2021-12-31T08:34:53.711608Z"
    }
   },
   "outputs": [
    {
     "data": {
      "image/png": "[encoded data removed]",
      "text/plain": [
       "<Figure size 1152x864 with 2 Axes>"
      ]
     },
     "metadata": {
      "needs_background": "light"
     },
     "output_type": "display_data"
    }
   ],
   "source": [
    "# count plot for the target variable\n",
    "plt.figure(figsize=(16,12))\n",
    "plt.subplot(2,2,1)\n",
    "plt.title(\"Count of the Cover Type of the data\", {'fontsize' : '15'})\n",
    "sns.countplot(x='Cover_Type', data=df, palette='autumn');\n",
    "\n",
    "plt.subplot(2,2,2)\n",
    "class_1 = df.Cover_Type[df.Cover_Type == 1].count()\n",
    "class_2 = df.Cover_Type[df.Cover_Type == 2].count()\n",
    "plt.title(\"Distrbution of the Cover Type of the data\", {'fontsize' : '15'})\n",
    "plt.pie([class_1, class_2], labels=['Spruce/Fir','Lodgepole Pine'], autopct=\"%.2f%%\", explode=[0.01,0.01], colors=['lightgreen', 'yellow'])\n",
    "plt.show()"
   ]
  },
  {
   "cell_type": "markdown",
   "id": "1e7d5c4d",
   "metadata": {},
   "source": [
    "**We have about 300k values for Class 2 and about 200k value for Class 1**"
   ]
  },
  {
   "cell_type": "markdown",
   "id": "53e5b55d",
   "metadata": {},
   "source": [
    "**Soil_type7 and Soil_Type15 are all zero values**"
   ]
  },
  {
   "cell_type": "markdown",
   "id": "3e90ca83",
   "metadata": {},
   "source": [
    "<a id = '4.1'></a>\n",
    "### Drop Unwanted columns"
   ]
  },
  {
   "cell_type": "code",
   "execution_count": 17,
   "id": "b8cf5aad",
   "metadata": {
    "ExecuteTime": {
     "end_time": "2021-12-31T08:35:35.407130Z",
     "start_time": "2021-12-31T08:35:35.282355Z"
    }
   },
   "outputs": [],
   "source": [
    "df.drop(['Soil_Type7', 'Soil_Type15'], axis=1, inplace=True)"
   ]
  },
  {
   "cell_type": "code",
   "execution_count": 18,
   "id": "edcfeac1",
   "metadata": {
    "ExecuteTime": {
     "end_time": "2021-12-31T08:35:36.829147Z",
     "start_time": "2021-12-31T08:35:36.820345Z"
    }
   },
   "outputs": [],
   "source": [
    "FEATURES.remove('Soil_Type7')\n",
    "FEATURES.remove('Soil_Type15')"
   ]
  },
  {
   "cell_type": "code",
   "execution_count": 19,
   "id": "58b1df10",
   "metadata": {
    "ExecuteTime": {
     "end_time": "2021-12-31T08:35:37.683131Z",
     "start_time": "2021-12-31T08:35:37.668083Z"
    }
   },
   "outputs": [
    {
     "data": {
      "text/plain": [
       "(500000, 53)"
      ]
     },
     "execution_count": 19,
     "metadata": {},
     "output_type": "execute_result"
    }
   ],
   "source": [
    "df.shape"
   ]
  },
  {
   "cell_type": "code",
   "execution_count": 20,
   "id": "ca5a8667",
   "metadata": {
    "ExecuteTime": {
     "end_time": "2021-12-31T08:35:38.393810Z",
     "start_time": "2021-12-31T08:35:38.375063Z"
    }
   },
   "outputs": [
    {
     "data": {
      "text/plain": [
       "['Elevation',\n",
       " 'Aspect',\n",
       " 'Slope',\n",
       " 'Horizontal_Distance_To_Hydrology',\n",
       " 'Vertical_Distance_To_Hydrology',\n",
       " 'Horizontal_Distance_To_Roadways',\n",
       " 'Hillshade_9am',\n",
       " 'Hillshade_Noon',\n",
       " 'Hillshade_3pm',\n",
       " 'Horizontal_Distance_To_Fire_Points',\n",
       " 'Wilderness_Area1',\n",
       " 'Wilderness_Area2',\n",
       " 'Wilderness_Area3',\n",
       " 'Wilderness_Area4',\n",
       " 'Soil_Type1',\n",
       " 'Soil_Type2',\n",
       " 'Soil_Type3',\n",
       " 'Soil_Type4',\n",
       " 'Soil_Type5',\n",
       " 'Soil_Type6',\n",
       " 'Soil_Type8',\n",
       " 'Soil_Type9',\n",
       " 'Soil_Type10',\n",
       " 'Soil_Type11',\n",
       " 'Soil_Type12',\n",
       " 'Soil_Type13',\n",
       " 'Soil_Type14',\n",
       " 'Soil_Type16',\n",
       " 'Soil_Type17',\n",
       " 'Soil_Type18',\n",
       " 'Soil_Type19',\n",
       " 'Soil_Type20',\n",
       " 'Soil_Type21',\n",
       " 'Soil_Type22',\n",
       " 'Soil_Type23',\n",
       " 'Soil_Type24',\n",
       " 'Soil_Type25',\n",
       " 'Soil_Type26',\n",
       " 'Soil_Type27',\n",
       " 'Soil_Type28',\n",
       " 'Soil_Type29',\n",
       " 'Soil_Type30',\n",
       " 'Soil_Type31',\n",
       " 'Soil_Type32',\n",
       " 'Soil_Type33',\n",
       " 'Soil_Type34',\n",
       " 'Soil_Type35',\n",
       " 'Soil_Type36',\n",
       " 'Soil_Type37',\n",
       " 'Soil_Type38',\n",
       " 'Soil_Type39',\n",
       " 'Soil_Type40']"
      ]
     },
     "execution_count": 20,
     "metadata": {},
     "output_type": "execute_result"
    }
   ],
   "source": [
    "FEATURES"
   ]
  },
  {
   "cell_type": "markdown",
   "id": "ce9e4771",
   "metadata": {},
   "source": [
    "<a id = '5'></a>\n",
    "# Features Engineering"
   ]
  },
  {
   "cell_type": "code",
   "execution_count": 21,
   "id": "ae65f1ee",
   "metadata": {
    "ExecuteTime": {
     "end_time": "2021-12-31T08:35:39.679848Z",
     "start_time": "2021-12-31T08:35:39.366399Z"
    }
   },
   "outputs": [
    {
     "data": {
      "text/plain": [
       "Elevation                             2998.670064\n",
       "Aspect                                 151.514102\n",
       "Slope                                   15.020952\n",
       "Horizontal_Distance_To_Hydrology       273.284724\n",
       "Vertical_Distance_To_Hydrology          51.366596\n",
       "Horizontal_Distance_To_Roadways       1808.319074\n",
       "Hillshade_9am                          211.806542\n",
       "Hillshade_Noon                         221.157852\n",
       "Hillshade_3pm                          141.701978\n",
       "Horizontal_Distance_To_Fire_Points    1593.188710\n",
       "Wilderness_Area1                         0.286090\n",
       "Wilderness_Area2                         0.037502\n",
       "Wilderness_Area3                         0.682494\n",
       "Wilderness_Area4                         0.000528\n",
       "Soil_Type1                               0.012864\n",
       "Soil_Type2                               0.024798\n",
       "Soil_Type3                               0.000634\n",
       "Soil_Type4                               0.034308\n",
       "Soil_Type5                               0.014976\n",
       "Soil_Type6                               0.001984\n",
       "Soil_Type8                               0.002966\n",
       "Soil_Type9                               0.011148\n",
       "Soil_Type10                              0.043976\n",
       "Soil_Type11                              0.028322\n",
       "Soil_Type12                              0.018070\n",
       "Soil_Type13                              0.032166\n",
       "Soil_Type14                              0.014380\n",
       "Soil_Type16                              0.016048\n",
       "Soil_Type17                              0.015364\n",
       "Soil_Type18                              0.013610\n",
       "Soil_Type19                              0.014172\n",
       "Soil_Type20                              0.017696\n",
       "Soil_Type21                              0.011844\n",
       "Soil_Type22                              0.031230\n",
       "Soil_Type23                              0.050246\n",
       "Soil_Type24                              0.025580\n",
       "Soil_Type25                              0.003282\n",
       "Soil_Type26                              0.013860\n",
       "Soil_Type27                              0.011686\n",
       "Soil_Type28                              0.011070\n",
       "Soil_Type29                              0.027582\n",
       "Soil_Type30                              0.025282\n",
       "Soil_Type31                              0.028074\n",
       "Soil_Type32                              0.036588\n",
       "Soil_Type33                              0.039138\n",
       "Soil_Type34                              0.012154\n",
       "Soil_Type35                              0.015846\n",
       "Soil_Type36                              0.010904\n",
       "Soil_Type37                              0.012298\n",
       "Soil_Type38                              0.038248\n",
       "Soil_Type39                              0.036396\n",
       "Soil_Type40                              0.029328\n",
       "dtype: float64"
      ]
     },
     "execution_count": 21,
     "metadata": {},
     "output_type": "execute_result"
    }
   ],
   "source": [
    "df[FEATURES].mean()"
   ]
  },
  {
   "cell_type": "code",
   "execution_count": 22,
   "id": "a5e0c23d",
   "metadata": {
    "ExecuteTime": {
     "end_time": "2021-12-31T08:35:41.585838Z",
     "start_time": "2021-12-31T08:35:40.193071Z"
    }
   },
   "outputs": [],
   "source": [
    "df[\"mean\"] = df[FEATURES].mean(axis=1)\n",
    "df[\"std\"] = df[FEATURES].std(axis=1)\n",
    "df[\"min\"] = df[FEATURES].min(axis=1)\n",
    "df[\"max\"] = df[FEATURES].max(axis=1)\n",
    "\n",
    "FEATURES.extend(['mean', 'std', 'min', 'max'])"
   ]
  },
  {
   "cell_type": "code",
   "execution_count": 23,
   "id": "c40b2c43",
   "metadata": {
    "ExecuteTime": {
     "end_time": "2021-12-31T08:35:41.606905Z",
     "start_time": "2021-12-31T08:35:41.588484Z"
    }
   },
   "outputs": [
    {
     "data": {
      "text/plain": [
       "(500000, 57)"
      ]
     },
     "execution_count": 23,
     "metadata": {},
     "output_type": "execute_result"
    }
   ],
   "source": [
    "df.shape"
   ]
  },
  {
   "cell_type": "code",
   "execution_count": 24,
   "id": "5a48fae9",
   "metadata": {
    "ExecuteTime": {
     "end_time": "2021-12-31T08:35:41.915096Z",
     "start_time": "2021-12-31T08:35:41.843475Z"
    }
   },
   "outputs": [
    {
     "data": {
      "text/html": [
       "<div>\n",
       "<style scoped>\n",
       "    .dataframe tbody tr th:only-of-type {\n",
       "        vertical-align: middle;\n",
       "    }\n",
       "\n",
       "    .dataframe tbody tr th {\n",
       "        vertical-align: top;\n",
       "    }\n",
       "\n",
       "    .dataframe thead th {\n",
       "        text-align: right;\n",
       "    }\n",
       "</style>\n",
       "<table border=\"1\" class=\"dataframe\">\n",
       "  <thead>\n",
       "    <tr style=\"text-align: right;\">\n",
       "      <th></th>\n",
       "      <th>Elevation</th>\n",
       "      <th>Aspect</th>\n",
       "      <th>Slope</th>\n",
       "      <th>Horizontal_Distance_To_Hydrology</th>\n",
       "      <th>Vertical_Distance_To_Hydrology</th>\n",
       "      <th>Horizontal_Distance_To_Roadways</th>\n",
       "      <th>Hillshade_9am</th>\n",
       "      <th>Hillshade_Noon</th>\n",
       "      <th>Hillshade_3pm</th>\n",
       "      <th>Horizontal_Distance_To_Fire_Points</th>\n",
       "      <th>...</th>\n",
       "      <th>Soil_Type36</th>\n",
       "      <th>Soil_Type37</th>\n",
       "      <th>Soil_Type38</th>\n",
       "      <th>Soil_Type39</th>\n",
       "      <th>Soil_Type40</th>\n",
       "      <th>Cover_Type</th>\n",
       "      <th>mean</th>\n",
       "      <th>std</th>\n",
       "      <th>min</th>\n",
       "      <th>max</th>\n",
       "    </tr>\n",
       "  </thead>\n",
       "  <tbody>\n",
       "    <tr>\n",
       "      <th>0</th>\n",
       "      <td>3305</td>\n",
       "      <td>263</td>\n",
       "      <td>5</td>\n",
       "      <td>341</td>\n",
       "      <td>264</td>\n",
       "      <td>1520</td>\n",
       "      <td>197</td>\n",
       "      <td>229</td>\n",
       "      <td>161</td>\n",
       "      <td>1070</td>\n",
       "      <td>...</td>\n",
       "      <td>0</td>\n",
       "      <td>0</td>\n",
       "      <td>0</td>\n",
       "      <td>1</td>\n",
       "      <td>0</td>\n",
       "      <td>1</td>\n",
       "      <td>141.480769</td>\n",
       "      <td>518.478070</td>\n",
       "      <td>0</td>\n",
       "      <td>3305</td>\n",
       "    </tr>\n",
       "    <tr>\n",
       "      <th>1</th>\n",
       "      <td>2877</td>\n",
       "      <td>68</td>\n",
       "      <td>17</td>\n",
       "      <td>252</td>\n",
       "      <td>249</td>\n",
       "      <td>1435</td>\n",
       "      <td>197</td>\n",
       "      <td>208</td>\n",
       "      <td>90</td>\n",
       "      <td>759</td>\n",
       "      <td>...</td>\n",
       "      <td>0</td>\n",
       "      <td>0</td>\n",
       "      <td>0</td>\n",
       "      <td>0</td>\n",
       "      <td>0</td>\n",
       "      <td>2</td>\n",
       "      <td>118.346154</td>\n",
       "      <td>451.679345</td>\n",
       "      <td>0</td>\n",
       "      <td>2877</td>\n",
       "    </tr>\n",
       "    <tr>\n",
       "      <th>2</th>\n",
       "      <td>3215</td>\n",
       "      <td>362</td>\n",
       "      <td>8</td>\n",
       "      <td>373</td>\n",
       "      <td>35</td>\n",
       "      <td>807</td>\n",
       "      <td>252</td>\n",
       "      <td>226</td>\n",
       "      <td>183</td>\n",
       "      <td>915</td>\n",
       "      <td>...</td>\n",
       "      <td>0</td>\n",
       "      <td>0</td>\n",
       "      <td>0</td>\n",
       "      <td>0</td>\n",
       "      <td>0</td>\n",
       "      <td>1</td>\n",
       "      <td>122.634615</td>\n",
       "      <td>474.076813</td>\n",
       "      <td>0</td>\n",
       "      <td>3215</td>\n",
       "    </tr>\n",
       "    <tr>\n",
       "      <th>3</th>\n",
       "      <td>3379</td>\n",
       "      <td>101</td>\n",
       "      <td>35</td>\n",
       "      <td>721</td>\n",
       "      <td>21</td>\n",
       "      <td>1515</td>\n",
       "      <td>244</td>\n",
       "      <td>207</td>\n",
       "      <td>48</td>\n",
       "      <td>2732</td>\n",
       "      <td>...</td>\n",
       "      <td>0</td>\n",
       "      <td>0</td>\n",
       "      <td>0</td>\n",
       "      <td>0</td>\n",
       "      <td>0</td>\n",
       "      <td>1</td>\n",
       "      <td>173.211538</td>\n",
       "      <td>630.172318</td>\n",
       "      <td>0</td>\n",
       "      <td>3379</td>\n",
       "    </tr>\n",
       "    <tr>\n",
       "      <th>4</th>\n",
       "      <td>2628</td>\n",
       "      <td>132</td>\n",
       "      <td>15</td>\n",
       "      <td>174</td>\n",
       "      <td>-9</td>\n",
       "      <td>561</td>\n",
       "      <td>150</td>\n",
       "      <td>209</td>\n",
       "      <td>2</td>\n",
       "      <td>566</td>\n",
       "      <td>...</td>\n",
       "      <td>0</td>\n",
       "      <td>0</td>\n",
       "      <td>0</td>\n",
       "      <td>0</td>\n",
       "      <td>0</td>\n",
       "      <td>2</td>\n",
       "      <td>85.192308</td>\n",
       "      <td>377.770863</td>\n",
       "      <td>-9</td>\n",
       "      <td>2628</td>\n",
       "    </tr>\n",
       "  </tbody>\n",
       "</table>\n",
       "<p>5 rows × 57 columns</p>\n",
       "</div>"
      ],
      "text/plain": [
       "   Elevation  Aspect  Slope  Horizontal_Distance_To_Hydrology  \\\n",
       "0       3305     263      5                               341   \n",
       "1       2877      68     17                               252   \n",
       "2       3215     362      8                               373   \n",
       "3       3379     101     35                               721   \n",
       "4       2628     132     15                               174   \n",
       "\n",
       "   Vertical_Distance_To_Hydrology  Horizontal_Distance_To_Roadways  \\\n",
       "0                             264                             1520   \n",
       "1                             249                             1435   \n",
       "2                              35                              807   \n",
       "3                              21                             1515   \n",
       "4                              -9                              561   \n",
       "\n",
       "   Hillshade_9am  Hillshade_Noon  Hillshade_3pm  \\\n",
       "0            197             229            161   \n",
       "1            197             208             90   \n",
       "2            252             226            183   \n",
       "3            244             207             48   \n",
       "4            150             209              2   \n",
       "\n",
       "   Horizontal_Distance_To_Fire_Points  ...  Soil_Type36  Soil_Type37  \\\n",
       "0                                1070  ...            0            0   \n",
       "1                                 759  ...            0            0   \n",
       "2                                 915  ...            0            0   \n",
       "3                                2732  ...            0            0   \n",
       "4                                 566  ...            0            0   \n",
       "\n",
       "   Soil_Type38  Soil_Type39  Soil_Type40  Cover_Type        mean         std  \\\n",
       "0            0            1            0           1  141.480769  518.478070   \n",
       "1            0            0            0           2  118.346154  451.679345   \n",
       "2            0            0            0           1  122.634615  474.076813   \n",
       "3            0            0            0           1  173.211538  630.172318   \n",
       "4            0            0            0           2   85.192308  377.770863   \n",
       "\n",
       "   min   max  \n",
       "0    0  3305  \n",
       "1    0  2877  \n",
       "2    0  3215  \n",
       "3    0  3379  \n",
       "4   -9  2628  \n",
       "\n",
       "[5 rows x 57 columns]"
      ]
     },
     "execution_count": 24,
     "metadata": {},
     "output_type": "execute_result"
    }
   ],
   "source": [
    "df.head()"
   ]
  },
  {
   "cell_type": "markdown",
   "id": "bc50984b",
   "metadata": {},
   "source": [
    "<a id='6'></a>\n",
    "# Assign Feature and Target variables"
   ]
  },
  {
   "cell_type": "code",
   "execution_count": 25,
   "id": "c6fa2b72",
   "metadata": {
    "ExecuteTime": {
     "end_time": "2021-12-31T08:35:49.090026Z",
     "start_time": "2021-12-31T08:35:44.290899Z"
    }
   },
   "outputs": [],
   "source": [
    "# Scalling the features\n",
    "scaler = StandardScaler()\n",
    "for col in FEATURES:\n",
    "    df[col] = scaler.fit_transform(df[col].to_numpy().reshape(-1,1))"
   ]
  },
  {
   "cell_type": "code",
   "execution_count": 26,
   "id": "2f9be271",
   "metadata": {
    "ExecuteTime": {
     "end_time": "2021-12-31T08:35:49.150546Z",
     "start_time": "2021-12-31T08:35:49.091046Z"
    }
   },
   "outputs": [
    {
     "data": {
      "text/html": [
       "<div>\n",
       "<style scoped>\n",
       "    .dataframe tbody tr th:only-of-type {\n",
       "        vertical-align: middle;\n",
       "    }\n",
       "\n",
       "    .dataframe tbody tr th {\n",
       "        vertical-align: top;\n",
       "    }\n",
       "\n",
       "    .dataframe thead th {\n",
       "        text-align: right;\n",
       "    }\n",
       "</style>\n",
       "<table border=\"1\" class=\"dataframe\">\n",
       "  <thead>\n",
       "    <tr style=\"text-align: right;\">\n",
       "      <th></th>\n",
       "      <th>Elevation</th>\n",
       "      <th>Aspect</th>\n",
       "      <th>Slope</th>\n",
       "      <th>Horizontal_Distance_To_Hydrology</th>\n",
       "      <th>Vertical_Distance_To_Hydrology</th>\n",
       "      <th>Horizontal_Distance_To_Roadways</th>\n",
       "      <th>Hillshade_9am</th>\n",
       "      <th>Hillshade_Noon</th>\n",
       "      <th>Hillshade_3pm</th>\n",
       "      <th>Horizontal_Distance_To_Fire_Points</th>\n",
       "      <th>...</th>\n",
       "      <th>Soil_Type36</th>\n",
       "      <th>Soil_Type37</th>\n",
       "      <th>Soil_Type38</th>\n",
       "      <th>Soil_Type39</th>\n",
       "      <th>Soil_Type40</th>\n",
       "      <th>Cover_Type</th>\n",
       "      <th>mean</th>\n",
       "      <th>std</th>\n",
       "      <th>min</th>\n",
       "      <th>max</th>\n",
       "    </tr>\n",
       "  </thead>\n",
       "  <tbody>\n",
       "    <tr>\n",
       "      <th>0</th>\n",
       "      <td>1.219049</td>\n",
       "      <td>1.019027</td>\n",
       "      <td>-1.180371</td>\n",
       "      <td>0.298747</td>\n",
       "      <td>3.127593</td>\n",
       "      <td>-0.219226</td>\n",
       "      <td>-0.484649</td>\n",
       "      <td>0.355754</td>\n",
       "      <td>0.452704</td>\n",
       "      <td>-0.476386</td>\n",
       "      <td>...</td>\n",
       "      <td>-0.104996</td>\n",
       "      <td>-0.111585</td>\n",
       "      <td>-0.199422</td>\n",
       "      <td>5.145439</td>\n",
       "      <td>-0.173822</td>\n",
       "      <td>1</td>\n",
       "      <td>-0.061334</td>\n",
       "      <td>-0.315841</td>\n",
       "      <td>0.213587</td>\n",
       "      <td>0.032529</td>\n",
       "    </tr>\n",
       "    <tr>\n",
       "      <th>1</th>\n",
       "      <td>-0.484190</td>\n",
       "      <td>-0.763353</td>\n",
       "      <td>0.233113</td>\n",
       "      <td>-0.093904</td>\n",
       "      <td>2.906960</td>\n",
       "      <td>-0.283857</td>\n",
       "      <td>-0.484649</td>\n",
       "      <td>-0.596898</td>\n",
       "      <td>-1.212853</td>\n",
       "      <td>-0.759564</td>\n",
       "      <td>...</td>\n",
       "      <td>-0.104996</td>\n",
       "      <td>-0.111585</td>\n",
       "      <td>-0.199422</td>\n",
       "      <td>-0.194347</td>\n",
       "      <td>-0.173822</td>\n",
       "      <td>2</td>\n",
       "      <td>-0.727112</td>\n",
       "      <td>-0.814984</td>\n",
       "      <td>0.213587</td>\n",
       "      <td>-0.549995</td>\n",
       "    </tr>\n",
       "    <tr>\n",
       "      <th>2</th>\n",
       "      <td>0.860891</td>\n",
       "      <td>1.923927</td>\n",
       "      <td>-0.827000</td>\n",
       "      <td>0.439925</td>\n",
       "      <td>-0.240734</td>\n",
       "      <td>-0.761362</td>\n",
       "      <td>1.315615</td>\n",
       "      <td>0.219661</td>\n",
       "      <td>0.968792</td>\n",
       "      <td>-0.617520</td>\n",
       "      <td>...</td>\n",
       "      <td>-0.104996</td>\n",
       "      <td>-0.111585</td>\n",
       "      <td>-0.199422</td>\n",
       "      <td>-0.194347</td>\n",
       "      <td>-0.173822</td>\n",
       "      <td>1</td>\n",
       "      <td>-0.603696</td>\n",
       "      <td>-0.647623</td>\n",
       "      <td>0.213587</td>\n",
       "      <td>-0.089965</td>\n",
       "    </tr>\n",
       "    <tr>\n",
       "      <th>3</th>\n",
       "      <td>1.513534</td>\n",
       "      <td>-0.461720</td>\n",
       "      <td>2.353338</td>\n",
       "      <td>1.975234</td>\n",
       "      <td>-0.446658</td>\n",
       "      <td>-0.223028</td>\n",
       "      <td>1.053758</td>\n",
       "      <td>-0.642262</td>\n",
       "      <td>-2.198112</td>\n",
       "      <td>1.036936</td>\n",
       "      <td>...</td>\n",
       "      <td>-0.104996</td>\n",
       "      <td>-0.111585</td>\n",
       "      <td>-0.199422</td>\n",
       "      <td>-0.194347</td>\n",
       "      <td>-0.173822</td>\n",
       "      <td>1</td>\n",
       "      <td>0.851827</td>\n",
       "      <td>0.518778</td>\n",
       "      <td>0.213587</td>\n",
       "      <td>0.133245</td>\n",
       "    </tr>\n",
       "    <tr>\n",
       "      <th>4</th>\n",
       "      <td>-1.475092</td>\n",
       "      <td>-0.178367</td>\n",
       "      <td>-0.002468</td>\n",
       "      <td>-0.438025</td>\n",
       "      <td>-0.887923</td>\n",
       "      <td>-0.948411</td>\n",
       "      <td>-2.023056</td>\n",
       "      <td>-0.551534</td>\n",
       "      <td>-3.277205</td>\n",
       "      <td>-0.935299</td>\n",
       "      <td>...</td>\n",
       "      <td>-0.104996</td>\n",
       "      <td>-0.111585</td>\n",
       "      <td>-0.199422</td>\n",
       "      <td>-0.194347</td>\n",
       "      <td>-0.173822</td>\n",
       "      <td>2</td>\n",
       "      <td>-1.681226</td>\n",
       "      <td>-1.367255</td>\n",
       "      <td>-0.450339</td>\n",
       "      <td>-0.888893</td>\n",
       "    </tr>\n",
       "  </tbody>\n",
       "</table>\n",
       "<p>5 rows × 57 columns</p>\n",
       "</div>"
      ],
      "text/plain": [
       "   Elevation    Aspect     Slope  Horizontal_Distance_To_Hydrology  \\\n",
       "0   1.219049  1.019027 -1.180371                          0.298747   \n",
       "1  -0.484190 -0.763353  0.233113                         -0.093904   \n",
       "2   0.860891  1.923927 -0.827000                          0.439925   \n",
       "3   1.513534 -0.461720  2.353338                          1.975234   \n",
       "4  -1.475092 -0.178367 -0.002468                         -0.438025   \n",
       "\n",
       "   Vertical_Distance_To_Hydrology  Horizontal_Distance_To_Roadways  \\\n",
       "0                        3.127593                        -0.219226   \n",
       "1                        2.906960                        -0.283857   \n",
       "2                       -0.240734                        -0.761362   \n",
       "3                       -0.446658                        -0.223028   \n",
       "4                       -0.887923                        -0.948411   \n",
       "\n",
       "   Hillshade_9am  Hillshade_Noon  Hillshade_3pm  \\\n",
       "0      -0.484649        0.355754       0.452704   \n",
       "1      -0.484649       -0.596898      -1.212853   \n",
       "2       1.315615        0.219661       0.968792   \n",
       "3       1.053758       -0.642262      -2.198112   \n",
       "4      -2.023056       -0.551534      -3.277205   \n",
       "\n",
       "   Horizontal_Distance_To_Fire_Points  ...  Soil_Type36  Soil_Type37  \\\n",
       "0                           -0.476386  ...    -0.104996    -0.111585   \n",
       "1                           -0.759564  ...    -0.104996    -0.111585   \n",
       "2                           -0.617520  ...    -0.104996    -0.111585   \n",
       "3                            1.036936  ...    -0.104996    -0.111585   \n",
       "4                           -0.935299  ...    -0.104996    -0.111585   \n",
       "\n",
       "   Soil_Type38  Soil_Type39  Soil_Type40  Cover_Type      mean       std  \\\n",
       "0    -0.199422     5.145439    -0.173822           1 -0.061334 -0.315841   \n",
       "1    -0.199422    -0.194347    -0.173822           2 -0.727112 -0.814984   \n",
       "2    -0.199422    -0.194347    -0.173822           1 -0.603696 -0.647623   \n",
       "3    -0.199422    -0.194347    -0.173822           1  0.851827  0.518778   \n",
       "4    -0.199422    -0.194347    -0.173822           2 -1.681226 -1.367255   \n",
       "\n",
       "        min       max  \n",
       "0  0.213587  0.032529  \n",
       "1  0.213587 -0.549995  \n",
       "2  0.213587 -0.089965  \n",
       "3  0.213587  0.133245  \n",
       "4 -0.450339 -0.888893  \n",
       "\n",
       "[5 rows x 57 columns]"
      ]
     },
     "execution_count": 26,
     "metadata": {},
     "output_type": "execute_result"
    }
   ],
   "source": [
    "df.head()"
   ]
  },
  {
   "cell_type": "code",
   "execution_count": 27,
   "id": "64cf7bb4",
   "metadata": {
    "ExecuteTime": {
     "end_time": "2021-12-31T08:35:49.595872Z",
     "start_time": "2021-12-31T08:35:49.156597Z"
    }
   },
   "outputs": [],
   "source": [
    "X = df[FEATURES]\n",
    "y = df.Cover_Type"
   ]
  },
  {
   "cell_type": "code",
   "execution_count": 28,
   "id": "46ec27e9",
   "metadata": {
    "ExecuteTime": {
     "end_time": "2021-12-31T08:35:49.668583Z",
     "start_time": "2021-12-31T08:35:49.600533Z"
    }
   },
   "outputs": [
    {
     "data": {
      "text/html": [
       "<div>\n",
       "<style scoped>\n",
       "    .dataframe tbody tr th:only-of-type {\n",
       "        vertical-align: middle;\n",
       "    }\n",
       "\n",
       "    .dataframe tbody tr th {\n",
       "        vertical-align: top;\n",
       "    }\n",
       "\n",
       "    .dataframe thead th {\n",
       "        text-align: right;\n",
       "    }\n",
       "</style>\n",
       "<table border=\"1\" class=\"dataframe\">\n",
       "  <thead>\n",
       "    <tr style=\"text-align: right;\">\n",
       "      <th></th>\n",
       "      <th>Elevation</th>\n",
       "      <th>Aspect</th>\n",
       "      <th>Slope</th>\n",
       "      <th>Horizontal_Distance_To_Hydrology</th>\n",
       "      <th>Vertical_Distance_To_Hydrology</th>\n",
       "      <th>Horizontal_Distance_To_Roadways</th>\n",
       "      <th>Hillshade_9am</th>\n",
       "      <th>Hillshade_Noon</th>\n",
       "      <th>Hillshade_3pm</th>\n",
       "      <th>Horizontal_Distance_To_Fire_Points</th>\n",
       "      <th>...</th>\n",
       "      <th>Soil_Type35</th>\n",
       "      <th>Soil_Type36</th>\n",
       "      <th>Soil_Type37</th>\n",
       "      <th>Soil_Type38</th>\n",
       "      <th>Soil_Type39</th>\n",
       "      <th>Soil_Type40</th>\n",
       "      <th>mean</th>\n",
       "      <th>std</th>\n",
       "      <th>min</th>\n",
       "      <th>max</th>\n",
       "    </tr>\n",
       "  </thead>\n",
       "  <tbody>\n",
       "    <tr>\n",
       "      <th>0</th>\n",
       "      <td>1.219049</td>\n",
       "      <td>1.019027</td>\n",
       "      <td>-1.180371</td>\n",
       "      <td>0.298747</td>\n",
       "      <td>3.127593</td>\n",
       "      <td>-0.219226</td>\n",
       "      <td>-0.484649</td>\n",
       "      <td>0.355754</td>\n",
       "      <td>0.452704</td>\n",
       "      <td>-0.476386</td>\n",
       "      <td>...</td>\n",
       "      <td>-0.12689</td>\n",
       "      <td>-0.104996</td>\n",
       "      <td>-0.111585</td>\n",
       "      <td>-0.199422</td>\n",
       "      <td>5.145439</td>\n",
       "      <td>-0.173822</td>\n",
       "      <td>-0.061334</td>\n",
       "      <td>-0.315841</td>\n",
       "      <td>0.213587</td>\n",
       "      <td>0.032529</td>\n",
       "    </tr>\n",
       "    <tr>\n",
       "      <th>1</th>\n",
       "      <td>-0.484190</td>\n",
       "      <td>-0.763353</td>\n",
       "      <td>0.233113</td>\n",
       "      <td>-0.093904</td>\n",
       "      <td>2.906960</td>\n",
       "      <td>-0.283857</td>\n",
       "      <td>-0.484649</td>\n",
       "      <td>-0.596898</td>\n",
       "      <td>-1.212853</td>\n",
       "      <td>-0.759564</td>\n",
       "      <td>...</td>\n",
       "      <td>-0.12689</td>\n",
       "      <td>-0.104996</td>\n",
       "      <td>-0.111585</td>\n",
       "      <td>-0.199422</td>\n",
       "      <td>-0.194347</td>\n",
       "      <td>-0.173822</td>\n",
       "      <td>-0.727112</td>\n",
       "      <td>-0.814984</td>\n",
       "      <td>0.213587</td>\n",
       "      <td>-0.549995</td>\n",
       "    </tr>\n",
       "    <tr>\n",
       "      <th>2</th>\n",
       "      <td>0.860891</td>\n",
       "      <td>1.923927</td>\n",
       "      <td>-0.827000</td>\n",
       "      <td>0.439925</td>\n",
       "      <td>-0.240734</td>\n",
       "      <td>-0.761362</td>\n",
       "      <td>1.315615</td>\n",
       "      <td>0.219661</td>\n",
       "      <td>0.968792</td>\n",
       "      <td>-0.617520</td>\n",
       "      <td>...</td>\n",
       "      <td>-0.12689</td>\n",
       "      <td>-0.104996</td>\n",
       "      <td>-0.111585</td>\n",
       "      <td>-0.199422</td>\n",
       "      <td>-0.194347</td>\n",
       "      <td>-0.173822</td>\n",
       "      <td>-0.603696</td>\n",
       "      <td>-0.647623</td>\n",
       "      <td>0.213587</td>\n",
       "      <td>-0.089965</td>\n",
       "    </tr>\n",
       "    <tr>\n",
       "      <th>3</th>\n",
       "      <td>1.513534</td>\n",
       "      <td>-0.461720</td>\n",
       "      <td>2.353338</td>\n",
       "      <td>1.975234</td>\n",
       "      <td>-0.446658</td>\n",
       "      <td>-0.223028</td>\n",
       "      <td>1.053758</td>\n",
       "      <td>-0.642262</td>\n",
       "      <td>-2.198112</td>\n",
       "      <td>1.036936</td>\n",
       "      <td>...</td>\n",
       "      <td>-0.12689</td>\n",
       "      <td>-0.104996</td>\n",
       "      <td>-0.111585</td>\n",
       "      <td>-0.199422</td>\n",
       "      <td>-0.194347</td>\n",
       "      <td>-0.173822</td>\n",
       "      <td>0.851827</td>\n",
       "      <td>0.518778</td>\n",
       "      <td>0.213587</td>\n",
       "      <td>0.133245</td>\n",
       "    </tr>\n",
       "    <tr>\n",
       "      <th>4</th>\n",
       "      <td>-1.475092</td>\n",
       "      <td>-0.178367</td>\n",
       "      <td>-0.002468</td>\n",
       "      <td>-0.438025</td>\n",
       "      <td>-0.887923</td>\n",
       "      <td>-0.948411</td>\n",
       "      <td>-2.023056</td>\n",
       "      <td>-0.551534</td>\n",
       "      <td>-3.277205</td>\n",
       "      <td>-0.935299</td>\n",
       "      <td>...</td>\n",
       "      <td>-0.12689</td>\n",
       "      <td>-0.104996</td>\n",
       "      <td>-0.111585</td>\n",
       "      <td>-0.199422</td>\n",
       "      <td>-0.194347</td>\n",
       "      <td>-0.173822</td>\n",
       "      <td>-1.681226</td>\n",
       "      <td>-1.367255</td>\n",
       "      <td>-0.450339</td>\n",
       "      <td>-0.888893</td>\n",
       "    </tr>\n",
       "  </tbody>\n",
       "</table>\n",
       "<p>5 rows × 56 columns</p>\n",
       "</div>"
      ],
      "text/plain": [
       "   Elevation    Aspect     Slope  Horizontal_Distance_To_Hydrology  \\\n",
       "0   1.219049  1.019027 -1.180371                          0.298747   \n",
       "1  -0.484190 -0.763353  0.233113                         -0.093904   \n",
       "2   0.860891  1.923927 -0.827000                          0.439925   \n",
       "3   1.513534 -0.461720  2.353338                          1.975234   \n",
       "4  -1.475092 -0.178367 -0.002468                         -0.438025   \n",
       "\n",
       "   Vertical_Distance_To_Hydrology  Horizontal_Distance_To_Roadways  \\\n",
       "0                        3.127593                        -0.219226   \n",
       "1                        2.906960                        -0.283857   \n",
       "2                       -0.240734                        -0.761362   \n",
       "3                       -0.446658                        -0.223028   \n",
       "4                       -0.887923                        -0.948411   \n",
       "\n",
       "   Hillshade_9am  Hillshade_Noon  Hillshade_3pm  \\\n",
       "0      -0.484649        0.355754       0.452704   \n",
       "1      -0.484649       -0.596898      -1.212853   \n",
       "2       1.315615        0.219661       0.968792   \n",
       "3       1.053758       -0.642262      -2.198112   \n",
       "4      -2.023056       -0.551534      -3.277205   \n",
       "\n",
       "   Horizontal_Distance_To_Fire_Points  ...  Soil_Type35  Soil_Type36  \\\n",
       "0                           -0.476386  ...     -0.12689    -0.104996   \n",
       "1                           -0.759564  ...     -0.12689    -0.104996   \n",
       "2                           -0.617520  ...     -0.12689    -0.104996   \n",
       "3                            1.036936  ...     -0.12689    -0.104996   \n",
       "4                           -0.935299  ...     -0.12689    -0.104996   \n",
       "\n",
       "   Soil_Type37  Soil_Type38  Soil_Type39  Soil_Type40      mean       std  \\\n",
       "0    -0.111585    -0.199422     5.145439    -0.173822 -0.061334 -0.315841   \n",
       "1    -0.111585    -0.199422    -0.194347    -0.173822 -0.727112 -0.814984   \n",
       "2    -0.111585    -0.199422    -0.194347    -0.173822 -0.603696 -0.647623   \n",
       "3    -0.111585    -0.199422    -0.194347    -0.173822  0.851827  0.518778   \n",
       "4    -0.111585    -0.199422    -0.194347    -0.173822 -1.681226 -1.367255   \n",
       "\n",
       "        min       max  \n",
       "0  0.213587  0.032529  \n",
       "1  0.213587 -0.549995  \n",
       "2  0.213587 -0.089965  \n",
       "3  0.213587  0.133245  \n",
       "4 -0.450339 -0.888893  \n",
       "\n",
       "[5 rows x 56 columns]"
      ]
     },
     "execution_count": 28,
     "metadata": {},
     "output_type": "execute_result"
    }
   ],
   "source": [
    "X.head()"
   ]
  },
  {
   "cell_type": "code",
   "execution_count": 29,
   "id": "df742448",
   "metadata": {
    "ExecuteTime": {
     "end_time": "2021-12-31T08:35:50.301030Z",
     "start_time": "2021-12-31T08:35:49.675005Z"
    }
   },
   "outputs": [],
   "source": [
    "X_train, X_test, y_train, y_test = train_test_split(X,y, test_size=0.25, random_state=0)"
   ]
  },
  {
   "cell_type": "markdown",
   "id": "36383c2a",
   "metadata": {},
   "source": [
    "<a id='7'></a>\n",
    "# SVM model"
   ]
  },
  {
   "cell_type": "code",
   "execution_count": 86,
   "id": "96c3bad1",
   "metadata": {
    "ExecuteTime": {
     "end_time": "2021-12-27T14:24:09.317046Z",
     "start_time": "2021-12-27T14:24:09.310532Z"
    }
   },
   "outputs": [],
   "source": [
    "def train(model, model_name):\n",
    "    model.fit(X_train, y_train)\n",
    "    model_train_score = model.score(X_train, y_train)\n",
    "    model_test_score = model.score(X_test, y_test)\n",
    "    print(f\"{model_name} model score on Training data: {model_train_score * 100}%\\n{model_name} model score on Testing data: {model_test_score * 100}%\")"
   ]
  },
  {
   "cell_type": "markdown",
   "id": "2e65dfbe",
   "metadata": {},
   "source": [
    "<a id = '7.1'></a>\n",
    "***Accuarcy of the model***"
   ]
  },
  {
   "cell_type": "code",
   "execution_count": 31,
   "id": "8dfd868b",
   "metadata": {
    "ExecuteTime": {
     "end_time": "2021-12-27T12:46:02.046565Z",
     "start_time": "2021-12-27T10:38:07.332620Z"
    }
   },
   "outputs": [
    {
     "name": "stdout",
     "output_type": "stream",
     "text": [
      "SVM model score on Training data: 96.91733333333333%\n",
      "SVM model score on Testing data: 96.188%\n"
     ]
    }
   ],
   "source": [
    "svm_model = SVC()\n",
    "train(svm_model, \"SVM\")"
   ]
  },
  {
   "cell_type": "code",
   "execution_count": 33,
   "id": "db311ef7",
   "metadata": {
    "ExecuteTime": {
     "end_time": "2021-12-27T13:13:34.442584Z",
     "start_time": "2021-12-27T12:50:49.834935Z"
    }
   },
   "outputs": [],
   "source": [
    "y_pred = svm_model.predict(X_test)"
   ]
  },
  {
   "cell_type": "markdown",
   "id": "18276319",
   "metadata": {},
   "source": [
    "<a id='7.2'></a>\n",
    "***Confusion Matrix***"
   ]
  },
  {
   "cell_type": "code",
   "execution_count": 133,
   "id": "bf8874d2",
   "metadata": {
    "ExecuteTime": {
     "end_time": "2021-12-27T15:46:19.044450Z",
     "start_time": "2021-12-27T15:46:18.823726Z"
    }
   },
   "outputs": [
    {
     "data": {
      "text/plain": [
       "array([[45506,  2375],\n",
       "       [ 2390, 74729]], dtype=int64)"
      ]
     },
     "execution_count": 133,
     "metadata": {},
     "output_type": "execute_result"
    }
   ],
   "source": [
    "cm = confusion_matrix(y_test, y_pred)\n",
    "cm"
   ]
  },
  {
   "cell_type": "code",
   "execution_count": 134,
   "id": "d444eaf6",
   "metadata": {
    "ExecuteTime": {
     "end_time": "2021-12-27T15:46:19.850466Z",
     "start_time": "2021-12-27T15:46:19.402542Z"
    }
   },
   "outputs": [
    {
     "data": {
      "text/plain": [
       "<AxesSubplot:>"
      ]
     },
     "execution_count": 134,
     "metadata": {},
     "output_type": "execute_result"
    },
    {
     "data": {
      "image/png": "[encoded data removed]",
      "text/plain": [
       "<Figure size 648x504 with 2 Axes>"
      ]
     },
     "metadata": {
      "needs_background": "light"
     },
     "output_type": "display_data"
    }
   ],
   "source": [
    "plt.figure(figsize=(9,7))\n",
    "sns.heatmap(cm, annot=True, fmt='d')"
   ]
  },
  {
   "cell_type": "markdown",
   "id": "e6b742b1",
   "metadata": {},
   "source": [
    "<a id='7.3'></a>\n",
    "***ROC Curve***"
   ]
  },
  {
   "cell_type": "code",
   "execution_count": 42,
   "id": "a9fb2428",
   "metadata": {
    "ExecuteTime": {
     "end_time": "2021-12-27T14:12:43.726690Z",
     "start_time": "2021-12-27T13:50:44.837615Z"
    }
   },
   "outputs": [],
   "source": [
    "y_pred_svm = svm_model.decision_function(X_test)"
   ]
  },
  {
   "cell_type": "code",
   "execution_count": 47,
   "id": "4d4bfbb4",
   "metadata": {
    "ExecuteTime": {
     "end_time": "2021-12-27T14:16:20.250821Z",
     "start_time": "2021-12-27T14:16:20.237221Z"
    }
   },
   "outputs": [],
   "source": [
    "y_test_repl = y_test.replace(to_replace=[1,2], value=[0,1])"
   ]
  },
  {
   "cell_type": "code",
   "execution_count": 138,
   "id": "34bf098b",
   "metadata": {
    "ExecuteTime": {
     "end_time": "2021-12-27T15:48:38.413141Z",
     "start_time": "2021-12-27T15:48:37.897239Z"
    }
   },
   "outputs": [
    {
     "data": {
      "image/png": "[encoded data removed]",
      "text/plain": [
       "<Figure size 500x500 with 1 Axes>"
      ]
     },
     "metadata": {
      "needs_background": "light"
     },
     "output_type": "display_data"
    }
   ],
   "source": [
    "svm_fpr, svm_tpr, _ = roc_curve(y_test_repl, y_pred_svm)\n",
    "auc_svm = auc(svm_fpr, svm_tpr)\n",
    "\n",
    "plt.figure(figsize=(5, 5), dpi=100)\n",
    "plt.plot(svm_fpr, svm_tpr, color=\"darkorange\", label='SVM (auc = %0.3f)' % auc_svm)\n",
    "plt.plot([0, 1], [0, 1], color=\"navy\", lw=2, linestyle=\"--\")\n",
    "\n",
    "plt.xlabel('False Positive Rate -->')\n",
    "plt.ylabel('True Positive Rate -->')\n",
    "\n",
    "plt.legend()\n",
    "\n",
    "plt.show()"
   ]
  },
  {
   "cell_type": "code",
   "execution_count": 30,
   "id": "2741bab8",
   "metadata": {
    "ExecuteTime": {
     "end_time": "2021-12-31T08:36:10.471867Z",
     "start_time": "2021-12-31T08:36:10.185801Z"
    }
   },
   "outputs": [],
   "source": [
    "X_nn = df[FEATURES].to_numpy().astype(np.float32)\n",
    "y_nn = df['Cover_Type'].to_numpy().astype(np.float32)"
   ]
  },
  {
   "cell_type": "code",
   "execution_count": 31,
   "id": "ef20ea41",
   "metadata": {
    "ExecuteTime": {
     "end_time": "2021-12-31T08:36:10.964326Z",
     "start_time": "2021-12-31T08:36:10.955452Z"
    }
   },
   "outputs": [
    {
     "data": {
      "text/plain": [
       "array([[ 1.2190489 ,  1.0190269 , -1.1803707 , ..., -0.31584066,\n",
       "         0.21358654,  0.03252852],\n",
       "       [-0.48418957, -0.76335317,  0.2331126 , ..., -0.8149843 ,\n",
       "         0.21358654, -0.54999524],\n",
       "       [ 0.8608913 ,  1.9239274 , -0.82699984, ..., -0.6476225 ,\n",
       "         0.21358654, -0.08996479],\n",
       "       ...,\n",
       "       [ 3.4117694 , -0.95530176, -0.35583878, ...,  0.43904173,\n",
       "         0.21358654,  0.7824598 ],\n",
       "       [ 0.00529252, -0.13266484, -1.5337415 , ..., -0.8398522 ,\n",
       "         0.21358654, -0.3825877 ],\n",
       "       [-0.7269408 , -1.0649867 ,  0.11532233, ..., -1.1538353 ,\n",
       "         0.21358654, -0.63301843]], dtype=float32)"
      ]
     },
     "execution_count": 31,
     "metadata": {},
     "output_type": "execute_result"
    }
   ],
   "source": [
    "X_nn"
   ]
  },
  {
   "cell_type": "code",
   "execution_count": 32,
   "id": "0d77d2fb",
   "metadata": {
    "ExecuteTime": {
     "end_time": "2021-12-31T08:36:11.453017Z",
     "start_time": "2021-12-31T08:36:11.438111Z"
    }
   },
   "outputs": [
    {
     "data": {
      "text/plain": [
       "(500000, 56)"
      ]
     },
     "execution_count": 32,
     "metadata": {},
     "output_type": "execute_result"
    }
   ],
   "source": [
    "X_nn.shape"
   ]
  },
  {
   "cell_type": "code",
   "execution_count": 33,
   "id": "fd464936",
   "metadata": {
    "ExecuteTime": {
     "end_time": "2021-12-31T08:36:13.793287Z",
     "start_time": "2021-12-31T08:36:13.770123Z"
    }
   },
   "outputs": [
    {
     "data": {
      "text/plain": [
       "(500000,)"
      ]
     },
     "execution_count": 33,
     "metadata": {},
     "output_type": "execute_result"
    }
   ],
   "source": [
    "y_nn.shape"
   ]
  },
  {
   "cell_type": "markdown",
   "id": "66909624",
   "metadata": {},
   "source": [
    "<a id='8'></a>\n",
    "# ANN"
   ]
  },
  {
   "cell_type": "code",
   "execution_count": 34,
   "id": "02ced4b6",
   "metadata": {
    "ExecuteTime": {
     "end_time": "2021-12-31T08:36:41.369185Z",
     "start_time": "2021-12-31T08:36:41.287504Z"
    }
   },
   "outputs": [],
   "source": [
    "LE = LabelEncoder()\n",
    "y_nn_transform = to_categorical(LE.fit_transform(y_nn))"
   ]
  },
  {
   "cell_type": "code",
   "execution_count": 35,
   "id": "724e0d73",
   "metadata": {
    "ExecuteTime": {
     "end_time": "2021-12-31T08:36:41.629315Z",
     "start_time": "2021-12-31T08:36:41.614429Z"
    }
   },
   "outputs": [
    {
     "data": {
      "text/plain": [
       "array([[1., 0.],\n",
       "       [0., 1.],\n",
       "       [1., 0.],\n",
       "       ...,\n",
       "       [1., 0.],\n",
       "       [0., 1.],\n",
       "       [0., 1.]], dtype=float32)"
      ]
     },
     "execution_count": 35,
     "metadata": {},
     "output_type": "execute_result"
    }
   ],
   "source": [
    "y_nn_transform"
   ]
  },
  {
   "cell_type": "code",
   "execution_count": 36,
   "id": "e24a5731",
   "metadata": {
    "ExecuteTime": {
     "end_time": "2021-12-31T08:36:42.162838Z",
     "start_time": "2021-12-31T08:36:42.147823Z"
    }
   },
   "outputs": [
    {
     "data": {
      "text/plain": [
       "(500000, 2)"
      ]
     },
     "execution_count": 36,
     "metadata": {},
     "output_type": "execute_result"
    }
   ],
   "source": [
    "y_nn_transform.shape"
   ]
  },
  {
   "cell_type": "code",
   "execution_count": 37,
   "id": "cb48bc85",
   "metadata": {
    "ExecuteTime": {
     "end_time": "2021-12-31T08:36:42.694846Z",
     "start_time": "2021-12-31T08:36:42.681648Z"
    }
   },
   "outputs": [
    {
     "data": {
      "text/html": [
       "<div>\n",
       "<style scoped>\n",
       "    .dataframe tbody tr th:only-of-type {\n",
       "        vertical-align: middle;\n",
       "    }\n",
       "\n",
       "    .dataframe tbody tr th {\n",
       "        vertical-align: top;\n",
       "    }\n",
       "\n",
       "    .dataframe thead th {\n",
       "        text-align: right;\n",
       "    }\n",
       "</style>\n",
       "<table border=\"1\" class=\"dataframe\">\n",
       "  <thead>\n",
       "    <tr style=\"text-align: right;\">\n",
       "      <th></th>\n",
       "      <th>0</th>\n",
       "      <th>1</th>\n",
       "    </tr>\n",
       "  </thead>\n",
       "  <tbody>\n",
       "    <tr>\n",
       "      <th>0</th>\n",
       "      <td>1.0</td>\n",
       "      <td>0.0</td>\n",
       "    </tr>\n",
       "    <tr>\n",
       "      <th>1</th>\n",
       "      <td>0.0</td>\n",
       "      <td>1.0</td>\n",
       "    </tr>\n",
       "    <tr>\n",
       "      <th>2</th>\n",
       "      <td>1.0</td>\n",
       "      <td>0.0</td>\n",
       "    </tr>\n",
       "    <tr>\n",
       "      <th>3</th>\n",
       "      <td>1.0</td>\n",
       "      <td>0.0</td>\n",
       "    </tr>\n",
       "    <tr>\n",
       "      <th>4</th>\n",
       "      <td>0.0</td>\n",
       "      <td>1.0</td>\n",
       "    </tr>\n",
       "  </tbody>\n",
       "</table>\n",
       "</div>"
      ],
      "text/plain": [
       "     0    1\n",
       "0  1.0  0.0\n",
       "1  0.0  1.0\n",
       "2  1.0  0.0\n",
       "3  1.0  0.0\n",
       "4  0.0  1.0"
      ]
     },
     "execution_count": 37,
     "metadata": {},
     "output_type": "execute_result"
    }
   ],
   "source": [
    "trans_df = pd.DataFrame(y_nn_transform)\n",
    "trans_df.head()"
   ]
  },
  {
   "cell_type": "code",
   "execution_count": 38,
   "id": "265de9dd",
   "metadata": {
    "ExecuteTime": {
     "end_time": "2021-12-31T08:36:45.660215Z",
     "start_time": "2021-12-31T08:36:44.635913Z"
    }
   },
   "outputs": [],
   "source": [
    "X_train_nn, X_test_nn, y_train_nn, y_test_nn = train_test_split(X_nn,y_nn_transform, test_size=0.25, random_state=0)"
   ]
  },
  {
   "cell_type": "markdown",
   "id": "d4dcbcd6",
   "metadata": {},
   "source": [
    "<a id='8.1'></a>\n",
    "**Build and train Neural Network**"
   ]
  },
  {
   "cell_type": "code",
   "execution_count": 39,
   "id": "83eda6db",
   "metadata": {
    "ExecuteTime": {
     "end_time": "2021-12-31T09:15:14.412141Z",
     "start_time": "2021-12-31T08:36:46.213573Z"
    }
   },
   "outputs": [
    {
     "name": "stdout",
     "output_type": "stream",
     "text": [
      "Epoch 1/5\n",
      "11719/11719 [==============================] - 446s 38ms/step - loss: 0.1017 - acc: 0.9592 - val_loss: 0.0790 - val_acc: 0.9673\n",
      "Epoch 2/5\n",
      "11719/11719 [==============================] - 447s 38ms/step - loss: 0.0868 - acc: 0.9676 - val_loss: 0.0708 - val_acc: 0.9691\n",
      "Epoch 3/5\n",
      "11719/11719 [==============================] - 445s 38ms/step - loss: 0.0708 - acc: 0.9698 - val_loss: 0.0714 - val_acc: 0.9708\n",
      "Epoch 4/5\n",
      "11719/11719 [==============================] - 462s 39ms/step - loss: 0.0677 - acc: 0.9712 - val_loss: 0.0676 - val_acc: 0.9711\n",
      "Epoch 5/5\n",
      "11719/11719 [==============================] - 506s 43ms/step - loss: 0.0638 - acc: 0.9724 - val_loss: 0.0644 - val_acc: 0.9724\n"
     ]
    }
   ],
   "source": [
    "def load_model(): \n",
    "    model = Sequential([\n",
    "        Dense(2048, activation = 'swish', input_shape = [X.shape[1]]),\n",
    "        Dense(1024, activation ='swish'),\n",
    "        Dense(512, activation ='swish'),\n",
    "        Dense(2, activation='softmax'),\n",
    "    ])\n",
    "    model.compile(\n",
    "        optimizer= tf.keras.optimizers.Adam(learning_rate=0.001),\n",
    "        loss='categorical_crossentropy',\n",
    "        metrics=['acc'],\n",
    "    )\n",
    "    return model\n",
    "    \n",
    "\n",
    "nn_model = load_model()\n",
    "history = nn_model.fit(  X_train_nn , y_train_nn,\n",
    "                validation_data = (X_test_nn , y_test_nn),\n",
    "                epochs = 5\n",
    "              )"
   ]
  },
  {
   "cell_type": "markdown",
   "id": "8b71e0f5",
   "metadata": {},
   "source": [
    "<a id='8.2'></a>\n",
    "**Accuarcy of the NN**"
   ]
  },
  {
   "cell_type": "code",
   "execution_count": 40,
   "id": "dbeefd70",
   "metadata": {
    "ExecuteTime": {
     "end_time": "2021-12-31T09:44:02.882097Z",
     "start_time": "2021-12-31T09:43:17.755756Z"
    }
   },
   "outputs": [
    {
     "name": "stdout",
     "output_type": "stream",
     "text": [
      "3907/3907 [==============================] - 45s 12ms/step - loss: 0.0644 - acc: 0.9724\n"
     ]
    },
    {
     "data": {
      "text/plain": [
       "[0.06441473215818405, 0.9724400043487549]"
      ]
     },
     "execution_count": 40,
     "metadata": {},
     "output_type": "execute_result"
    }
   ],
   "source": [
    "nn_model.evaluate(X_test_nn, y_test_nn)"
   ]
  },
  {
   "cell_type": "markdown",
   "id": "693c0975",
   "metadata": {},
   "source": [
    "<a id='8.3'></a>\n",
    "**Loss Curve**"
   ]
  },
  {
   "cell_type": "code",
   "execution_count": 41,
   "id": "d7657de2",
   "metadata": {
    "ExecuteTime": {
     "end_time": "2021-12-31T09:48:25.383417Z",
     "start_time": "2021-12-31T09:48:24.902029Z"
    }
   },
   "outputs": [
    {
     "data": {
      "image/png": "[encoded data removed]",
      "text/plain": [
       "<Figure size 576x432 with 1 Axes>"
      ]
     },
     "metadata": {
      "needs_background": "light"
     },
     "output_type": "display_data"
    }
   ],
   "source": [
    "plt.figure(figsize=(8,6))\n",
    "loss_train = history.history['loss']\n",
    "loss_val = history.history['val_loss']\n",
    "epochs = range(1,6)\n",
    "plt.plot(epochs, loss_train, 'g', label='Training loss')\n",
    "plt.plot(epochs, loss_val, 'b', label='validation loss')\n",
    "plt.title('Training and Validation loss')\n",
    "plt.xlabel('Epochs')\n",
    "plt.ylabel('Loss')\n",
    "plt.xticks(np.arange(1,6))\n",
    "plt.legend()\n",
    "plt.show()"
   ]
  },
  {
   "cell_type": "code",
   "execution_count": 42,
   "id": "1f25ad3e",
   "metadata": {
    "ExecuteTime": {
     "end_time": "2021-12-31T09:49:12.310001Z",
     "start_time": "2021-12-31T09:48:34.147598Z"
    }
   },
   "outputs": [],
   "source": [
    "y_predicted = nn_model.predict(X_test_nn)"
   ]
  },
  {
   "cell_type": "code",
   "execution_count": 43,
   "id": "21c9d0d3",
   "metadata": {
    "ExecuteTime": {
     "end_time": "2021-12-31T09:49:12.328769Z",
     "start_time": "2021-12-31T09:49:12.311055Z"
    }
   },
   "outputs": [
    {
     "data": {
      "text/plain": [
       "array([[9.9860734e-01, 1.3926453e-03],\n",
       "       [9.9962831e-01, 3.7170653e-04],\n",
       "       [9.9999499e-01, 4.9707014e-06],\n",
       "       ...,\n",
       "       [7.6174758e-02, 9.2382520e-01],\n",
       "       [3.8169391e-19, 1.0000000e+00],\n",
       "       [9.7297013e-01, 2.7029809e-02]], dtype=float32)"
      ]
     },
     "execution_count": 43,
     "metadata": {},
     "output_type": "execute_result"
    }
   ],
   "source": [
    "y_predicted"
   ]
  },
  {
   "cell_type": "code",
   "execution_count": 44,
   "id": "157d4c26",
   "metadata": {
    "ExecuteTime": {
     "end_time": "2021-12-31T09:49:12.920194Z",
     "start_time": "2021-12-31T09:49:12.337100Z"
    }
   },
   "outputs": [],
   "source": [
    "y_predicted_labels = [np.argmax(i) for i in y_predicted]"
   ]
  },
  {
   "cell_type": "code",
   "execution_count": 45,
   "id": "fda02e2b",
   "metadata": {
    "ExecuteTime": {
     "end_time": "2021-12-31T09:49:12.991315Z",
     "start_time": "2021-12-31T09:49:12.920194Z"
    }
   },
   "outputs": [
    {
     "data": {
      "text/plain": [
       "[0,\n",
       " 0,\n",
       " 0,\n",
       " 1,\n",
       " 0,\n",
       " 0,\n",
       " 1,\n",
       " 1,\n",
       " 1,\n",
       " 1,\n",
       " 1,\n",
       " 0,\n",
       " 1,\n",
       " 1,\n",
       " 0,\n",
       " 0,\n",
       " 1,\n",
       " 0,\n",
       " 1,\n",
       " 0,\n",
       " 0,\n",
       " 0,\n",
       " 0,\n",
       " 1,\n",
       " 1,\n",
       " 1,\n",
       " 1,\n",
       " 1,\n",
       " 1,\n",
       " 1,\n",
       " 1,\n",
       " 0,\n",
       " 1,\n",
       " 1,\n",
       " 1,\n",
       " 0,\n",
       " 1,\n",
       " 1,\n",
       " 0,\n",
       " 0,\n",
       " 1,\n",
       " 0,\n",
       " 1,\n",
       " 0,\n",
       " 1,\n",
       " 1,\n",
       " 1,\n",
       " 0,\n",
       " 1,\n",
       " 1,\n",
       " 1,\n",
       " 0,\n",
       " 1,\n",
       " 1,\n",
       " 0,\n",
       " 0,\n",
       " 0,\n",
       " 1,\n",
       " 1,\n",
       " 0,\n",
       " 1,\n",
       " 1,\n",
       " 1,\n",
       " 1,\n",
       " 1,\n",
       " 1,\n",
       " 1,\n",
       " 1,\n",
       " 1,\n",
       " 1,\n",
       " 0,\n",
       " 1,\n",
       " 1,\n",
       " 0,\n",
       " 1,\n",
       " 0,\n",
       " 1,\n",
       " 0,\n",
       " 0,\n",
       " 1,\n",
       " 0,\n",
       " 0,\n",
       " 1,\n",
       " 1,\n",
       " 1,\n",
       " 1,\n",
       " 1,\n",
       " 1,\n",
       " 1,\n",
       " 1,\n",
       " 1,\n",
       " 1,\n",
       " 1,\n",
       " 0,\n",
       " 0,\n",
       " 0,\n",
       " 0,\n",
       " 0,\n",
       " 1,\n",
       " 0,\n",
       " 1,\n",
       " 1,\n",
       " 1,\n",
       " 1,\n",
       " 1,\n",
       " 0,\n",
       " 1,\n",
       " 0,\n",
       " 1,\n",
       " 0,\n",
       " 1,\n",
       " 0,\n",
       " 1,\n",
       " 1,\n",
       " 1,\n",
       " 1,\n",
       " 1,\n",
       " 0,\n",
       " 1,\n",
       " 1,\n",
       " 1,\n",
       " 1,\n",
       " 0,\n",
       " 1,\n",
       " 1,\n",
       " 1,\n",
       " 0,\n",
       " 1,\n",
       " 1,\n",
       " 0,\n",
       " 0,\n",
       " 0,\n",
       " 1,\n",
       " 1,\n",
       " 0,\n",
       " 1,\n",
       " 0,\n",
       " 1,\n",
       " 0,\n",
       " 1,\n",
       " 0,\n",
       " 1,\n",
       " 1,\n",
       " 0,\n",
       " 1,\n",
       " 0,\n",
       " 0,\n",
       " 1,\n",
       " 0,\n",
       " 1,\n",
       " 0,\n",
       " 0,\n",
       " 1,\n",
       " 1,\n",
       " 0,\n",
       " 1,\n",
       " 0,\n",
       " 0,\n",
       " 0,\n",
       " 1,\n",
       " 1,\n",
       " 1,\n",
       " 0,\n",
       " 0,\n",
       " 1,\n",
       " 0,\n",
       " 0,\n",
       " 1,\n",
       " 1,\n",
       " 1,\n",
       " 1,\n",
       " 1,\n",
       " 1,\n",
       " 0,\n",
       " 1,\n",
       " 0,\n",
       " 0,\n",
       " 1,\n",
       " 1,\n",
       " 0,\n",
       " 1,\n",
       " 1,\n",
       " 1,\n",
       " 1,\n",
       " 0,\n",
       " 0,\n",
       " 0,\n",
       " 1,\n",
       " 1,\n",
       " 1,\n",
       " 1,\n",
       " 1,\n",
       " 0,\n",
       " 1,\n",
       " 0,\n",
       " 0,\n",
       " 1,\n",
       " 1,\n",
       " 1,\n",
       " 1,\n",
       " 1,\n",
       " 1,\n",
       " 0,\n",
       " 0,\n",
       " 1,\n",
       " 1,\n",
       " 1,\n",
       " 0,\n",
       " 0,\n",
       " 0,\n",
       " 1,\n",
       " 0,\n",
       " 1,\n",
       " 1,\n",
       " 0,\n",
       " 1,\n",
       " 1,\n",
       " 1,\n",
       " 1,\n",
       " 0,\n",
       " 1,\n",
       " 1,\n",
       " 1,\n",
       " 1,\n",
       " 1,\n",
       " 1,\n",
       " 1,\n",
       " 1,\n",
       " 1,\n",
       " 1,\n",
       " 0,\n",
       " 0,\n",
       " 1,\n",
       " 0,\n",
       " 0,\n",
       " 1,\n",
       " 1,\n",
       " 1,\n",
       " 1,\n",
       " 1,\n",
       " 1,\n",
       " 1,\n",
       " 1,\n",
       " 1,\n",
       " 1,\n",
       " 1,\n",
       " 1,\n",
       " 1,\n",
       " 1,\n",
       " 1,\n",
       " 1,\n",
       " 1,\n",
       " 1,\n",
       " 1,\n",
       " 1,\n",
       " 1,\n",
       " 0,\n",
       " 0,\n",
       " 1,\n",
       " 1,\n",
       " 0,\n",
       " 1,\n",
       " 0,\n",
       " 1,\n",
       " 0,\n",
       " 1,\n",
       " 1,\n",
       " 0,\n",
       " 1,\n",
       " 1,\n",
       " 1,\n",
       " 1,\n",
       " 1,\n",
       " 0,\n",
       " 0,\n",
       " 1,\n",
       " 1,\n",
       " 1,\n",
       " 1,\n",
       " 0,\n",
       " 1,\n",
       " 1,\n",
       " 1,\n",
       " 0,\n",
       " 0,\n",
       " 0,\n",
       " 0,\n",
       " 1,\n",
       " 1,\n",
       " 0,\n",
       " 0,\n",
       " 1,\n",
       " 0,\n",
       " 1,\n",
       " 1,\n",
       " 1,\n",
       " 1,\n",
       " 1,\n",
       " 0,\n",
       " 0,\n",
       " 0,\n",
       " 1,\n",
       " 1,\n",
       " 0,\n",
       " 1,\n",
       " 1,\n",
       " 1,\n",
       " 0,\n",
       " 0,\n",
       " 1,\n",
       " 1,\n",
       " 1,\n",
       " 1,\n",
       " 1,\n",
       " 1,\n",
       " 1,\n",
       " 1,\n",
       " 1,\n",
       " 0,\n",
       " 1,\n",
       " 1,\n",
       " 0,\n",
       " 1,\n",
       " 0,\n",
       " 0,\n",
       " 1,\n",
       " 1,\n",
       " 0,\n",
       " 0,\n",
       " 1,\n",
       " 1,\n",
       " 0,\n",
       " 1,\n",
       " 1,\n",
       " 0,\n",
       " 1,\n",
       " 1,\n",
       " 0,\n",
       " 1,\n",
       " 1,\n",
       " 1,\n",
       " 1,\n",
       " 1,\n",
       " 0,\n",
       " 1,\n",
       " 1,\n",
       " 1,\n",
       " 1,\n",
       " 1,\n",
       " 0,\n",
       " 1,\n",
       " 1,\n",
       " 1,\n",
       " 1,\n",
       " 1,\n",
       " 0,\n",
       " 0,\n",
       " 0,\n",
       " 1,\n",
       " 1,\n",
       " 0,\n",
       " 0,\n",
       " 0,\n",
       " 1,\n",
       " 0,\n",
       " 1,\n",
       " 1,\n",
       " 0,\n",
       " 0,\n",
       " 1,\n",
       " 1,\n",
       " 0,\n",
       " 1,\n",
       " 0,\n",
       " 0,\n",
       " 1,\n",
       " 1,\n",
       " 1,\n",
       " 1,\n",
       " 1,\n",
       " 1,\n",
       " 1,\n",
       " 0,\n",
       " 0,\n",
       " 1,\n",
       " 1,\n",
       " 1,\n",
       " 1,\n",
       " 1,\n",
       " 1,\n",
       " 1,\n",
       " 1,\n",
       " 1,\n",
       " 1,\n",
       " 0,\n",
       " 0,\n",
       " 1,\n",
       " 1,\n",
       " 0,\n",
       " 1,\n",
       " 0,\n",
       " 0,\n",
       " 0,\n",
       " 1,\n",
       " 1,\n",
       " 1,\n",
       " 1,\n",
       " 1,\n",
       " 1,\n",
       " 1,\n",
       " 0,\n",
       " 1,\n",
       " 0,\n",
       " 0,\n",
       " 1,\n",
       " 0,\n",
       " 0,\n",
       " 1,\n",
       " 1,\n",
       " 0,\n",
       " 1,\n",
       " 1,\n",
       " 0,\n",
       " 0,\n",
       " 1,\n",
       " 1,\n",
       " 1,\n",
       " 1,\n",
       " 1,\n",
       " 1,\n",
       " 1,\n",
       " 0,\n",
       " 0,\n",
       " 0,\n",
       " 1,\n",
       " 0,\n",
       " 1,\n",
       " 1,\n",
       " 1,\n",
       " 0,\n",
       " 1,\n",
       " 0,\n",
       " 0,\n",
       " 1,\n",
       " 0,\n",
       " 1,\n",
       " 1,\n",
       " 1,\n",
       " 0,\n",
       " 0,\n",
       " 0,\n",
       " 1,\n",
       " 1,\n",
       " 0,\n",
       " 0,\n",
       " 1,\n",
       " 0,\n",
       " 1,\n",
       " 0,\n",
       " 1,\n",
       " 0,\n",
       " 0,\n",
       " 1,\n",
       " 1,\n",
       " 1,\n",
       " 1,\n",
       " 1,\n",
       " 0,\n",
       " 0,\n",
       " 1,\n",
       " 1,\n",
       " 0,\n",
       " 0,\n",
       " 1,\n",
       " 1,\n",
       " 1,\n",
       " 0,\n",
       " 1,\n",
       " 1,\n",
       " 0,\n",
       " 0,\n",
       " 1,\n",
       " 1,\n",
       " 1,\n",
       " 0,\n",
       " 1,\n",
       " 1,\n",
       " 1,\n",
       " 1,\n",
       " 0,\n",
       " 1,\n",
       " 1,\n",
       " 0,\n",
       " 0,\n",
       " 0,\n",
       " 1,\n",
       " 1,\n",
       " 0,\n",
       " 0,\n",
       " 1,\n",
       " 1,\n",
       " 0,\n",
       " 1,\n",
       " 0,\n",
       " 1,\n",
       " 1,\n",
       " 1,\n",
       " 1,\n",
       " 0,\n",
       " 1,\n",
       " 0,\n",
       " 1,\n",
       " 1,\n",
       " 0,\n",
       " 1,\n",
       " 1,\n",
       " 1,\n",
       " 1,\n",
       " 1,\n",
       " 1,\n",
       " 0,\n",
       " 1,\n",
       " 1,\n",
       " 1,\n",
       " 0,\n",
       " 1,\n",
       " 1,\n",
       " 1,\n",
       " 1,\n",
       " 0,\n",
       " 1,\n",
       " 0,\n",
       " 1,\n",
       " 0,\n",
       " 0,\n",
       " 1,\n",
       " 0,\n",
       " 1,\n",
       " 1,\n",
       " 0,\n",
       " 1,\n",
       " 0,\n",
       " 1,\n",
       " 1,\n",
       " 1,\n",
       " 1,\n",
       " 1,\n",
       " 1,\n",
       " 1,\n",
       " 1,\n",
       " 1,\n",
       " 1,\n",
       " 1,\n",
       " 0,\n",
       " 1,\n",
       " 1,\n",
       " 1,\n",
       " 1,\n",
       " 1,\n",
       " 1,\n",
       " 1,\n",
       " 1,\n",
       " 1,\n",
       " 0,\n",
       " 1,\n",
       " 1,\n",
       " 0,\n",
       " 1,\n",
       " 1,\n",
       " 1,\n",
       " 0,\n",
       " 0,\n",
       " 0,\n",
       " 0,\n",
       " 0,\n",
       " 0,\n",
       " 1,\n",
       " 1,\n",
       " 0,\n",
       " 0,\n",
       " 1,\n",
       " 0,\n",
       " 0,\n",
       " 0,\n",
       " 0,\n",
       " 1,\n",
       " 0,\n",
       " 1,\n",
       " 1,\n",
       " 1,\n",
       " 1,\n",
       " 1,\n",
       " 1,\n",
       " 0,\n",
       " 1,\n",
       " 1,\n",
       " 1,\n",
       " 1,\n",
       " 1,\n",
       " 1,\n",
       " 0,\n",
       " 1,\n",
       " 0,\n",
       " 1,\n",
       " 1,\n",
       " 0,\n",
       " 1,\n",
       " 1,\n",
       " 1,\n",
       " 1,\n",
       " 0,\n",
       " 1,\n",
       " 0,\n",
       " 1,\n",
       " 1,\n",
       " 1,\n",
       " 0,\n",
       " 1,\n",
       " 0,\n",
       " 1,\n",
       " 1,\n",
       " 0,\n",
       " 0,\n",
       " 1,\n",
       " 1,\n",
       " 1,\n",
       " 1,\n",
       " 1,\n",
       " 0,\n",
       " 0,\n",
       " 1,\n",
       " 1,\n",
       " 1,\n",
       " 1,\n",
       " 0,\n",
       " 1,\n",
       " 0,\n",
       " 1,\n",
       " 0,\n",
       " 1,\n",
       " 0,\n",
       " 0,\n",
       " 0,\n",
       " 1,\n",
       " 1,\n",
       " 0,\n",
       " 1,\n",
       " 1,\n",
       " 0,\n",
       " 0,\n",
       " 0,\n",
       " 1,\n",
       " 0,\n",
       " 1,\n",
       " 1,\n",
       " 0,\n",
       " 1,\n",
       " 1,\n",
       " 1,\n",
       " 1,\n",
       " 0,\n",
       " 0,\n",
       " 0,\n",
       " 1,\n",
       " 1,\n",
       " 0,\n",
       " 1,\n",
       " 0,\n",
       " 1,\n",
       " 1,\n",
       " 1,\n",
       " 0,\n",
       " 1,\n",
       " 1,\n",
       " 1,\n",
       " 0,\n",
       " 0,\n",
       " 0,\n",
       " 1,\n",
       " 0,\n",
       " 1,\n",
       " 1,\n",
       " 1,\n",
       " 0,\n",
       " 1,\n",
       " 1,\n",
       " 0,\n",
       " 1,\n",
       " 1,\n",
       " 0,\n",
       " 0,\n",
       " 0,\n",
       " 1,\n",
       " 1,\n",
       " 1,\n",
       " 1,\n",
       " 0,\n",
       " 1,\n",
       " 1,\n",
       " 0,\n",
       " 1,\n",
       " 1,\n",
       " 0,\n",
       " 1,\n",
       " 1,\n",
       " 0,\n",
       " 1,\n",
       " 1,\n",
       " 1,\n",
       " 1,\n",
       " 1,\n",
       " 1,\n",
       " 0,\n",
       " 1,\n",
       " 0,\n",
       " 1,\n",
       " 1,\n",
       " 1,\n",
       " 1,\n",
       " 1,\n",
       " 1,\n",
       " 0,\n",
       " 0,\n",
       " 0,\n",
       " 1,\n",
       " 1,\n",
       " 1,\n",
       " 0,\n",
       " 1,\n",
       " 0,\n",
       " 1,\n",
       " 1,\n",
       " 1,\n",
       " 1,\n",
       " 1,\n",
       " 1,\n",
       " 1,\n",
       " 1,\n",
       " 1,\n",
       " 0,\n",
       " 0,\n",
       " 1,\n",
       " 1,\n",
       " 1,\n",
       " 1,\n",
       " 0,\n",
       " 0,\n",
       " 1,\n",
       " 1,\n",
       " 1,\n",
       " 1,\n",
       " 0,\n",
       " 0,\n",
       " 0,\n",
       " 0,\n",
       " 0,\n",
       " 0,\n",
       " 0,\n",
       " 0,\n",
       " 1,\n",
       " 0,\n",
       " 1,\n",
       " 1,\n",
       " 0,\n",
       " 1,\n",
       " 1,\n",
       " 1,\n",
       " 1,\n",
       " 1,\n",
       " 1,\n",
       " 0,\n",
       " 1,\n",
       " 1,\n",
       " 1,\n",
       " 1,\n",
       " 1,\n",
       " 1,\n",
       " 0,\n",
       " 1,\n",
       " 1,\n",
       " 0,\n",
       " 1,\n",
       " 1,\n",
       " 1,\n",
       " 1,\n",
       " 1,\n",
       " 0,\n",
       " 1,\n",
       " 1,\n",
       " 1,\n",
       " 0,\n",
       " 0,\n",
       " 1,\n",
       " 0,\n",
       " 1,\n",
       " 0,\n",
       " 1,\n",
       " 1,\n",
       " 1,\n",
       " 0,\n",
       " 1,\n",
       " 0,\n",
       " 1,\n",
       " 1,\n",
       " 1,\n",
       " 0,\n",
       " 0,\n",
       " 1,\n",
       " 0,\n",
       " 1,\n",
       " 0,\n",
       " 1,\n",
       " 1,\n",
       " 1,\n",
       " 0,\n",
       " 0,\n",
       " 1,\n",
       " 1,\n",
       " 1,\n",
       " 0,\n",
       " 0,\n",
       " 1,\n",
       " 1,\n",
       " 1,\n",
       " 0,\n",
       " 0,\n",
       " 0,\n",
       " 1,\n",
       " 1,\n",
       " 1,\n",
       " 1,\n",
       " 0,\n",
       " 0,\n",
       " 0,\n",
       " 0,\n",
       " 1,\n",
       " 1,\n",
       " 1,\n",
       " 1,\n",
       " 1,\n",
       " 0,\n",
       " 1,\n",
       " 1,\n",
       " 0,\n",
       " 0,\n",
       " 1,\n",
       " 1,\n",
       " 1,\n",
       " 1,\n",
       " 1,\n",
       " 1,\n",
       " 1,\n",
       " 0,\n",
       " 1,\n",
       " 1,\n",
       " 0,\n",
       " 0,\n",
       " 1,\n",
       " 1,\n",
       " 1,\n",
       " 0,\n",
       " 0,\n",
       " 0,\n",
       " 1,\n",
       " 1,\n",
       " 1,\n",
       " 1,\n",
       " 1,\n",
       " 0,\n",
       " 1,\n",
       " 1,\n",
       " 0,\n",
       " 1,\n",
       " 1,\n",
       " 1,\n",
       " 1,\n",
       " 0,\n",
       " 1,\n",
       " 0,\n",
       " 0,\n",
       " 1,\n",
       " 1,\n",
       " 1,\n",
       " 1,\n",
       " 0,\n",
       " 0,\n",
       " 0,\n",
       " 1,\n",
       " 1,\n",
       " 1,\n",
       " 1,\n",
       " 1,\n",
       " 1,\n",
       " 1,\n",
       " 0,\n",
       " 1,\n",
       " 1,\n",
       " 0,\n",
       " 1,\n",
       " 0,\n",
       " 1,\n",
       " 1,\n",
       " 0,\n",
       " 1,\n",
       " 1,\n",
       " 0,\n",
       " 0,\n",
       " 1,\n",
       " 0,\n",
       " 0,\n",
       " 1,\n",
       " 1,\n",
       " 0,\n",
       " 0,\n",
       " 0,\n",
       " 0,\n",
       " 1,\n",
       " 1,\n",
       " 1,\n",
       " 0,\n",
       " 1,\n",
       " 1,\n",
       " 1,\n",
       " 1,\n",
       " 0,\n",
       " 0,\n",
       " 0,\n",
       " 1,\n",
       " 0,\n",
       " 0,\n",
       " 1,\n",
       " 1,\n",
       " 1,\n",
       " 1,\n",
       " 1,\n",
       " 1,\n",
       " 1,\n",
       " 1,\n",
       " 0,\n",
       " 0,\n",
       " 1,\n",
       " 0,\n",
       " 0,\n",
       " 0,\n",
       " 0,\n",
       " 1,\n",
       " 0,\n",
       " 1,\n",
       " 1,\n",
       " 1,\n",
       " 1,\n",
       " 1,\n",
       " 1,\n",
       " 0,\n",
       " 1,\n",
       " 0,\n",
       " 1,\n",
       " 1,\n",
       " 1,\n",
       " 1,\n",
       " 0,\n",
       " 0,\n",
       " 1,\n",
       " 0,\n",
       " 1,\n",
       " 0,\n",
       " 1,\n",
       " 0,\n",
       " 0,\n",
       " 1,\n",
       " 1,\n",
       " 1,\n",
       " 0,\n",
       " 1,\n",
       " 1,\n",
       " 1,\n",
       " 1,\n",
       " 0,\n",
       " 1,\n",
       " 0,\n",
       " 0,\n",
       " 1,\n",
       " 0,\n",
       " 1,\n",
       " 1,\n",
       " 1,\n",
       " 1,\n",
       " 1,\n",
       " 0,\n",
       " 1,\n",
       " 0,\n",
       " 1,\n",
       " 1,\n",
       " 0,\n",
       " 0,\n",
       " 1,\n",
       " 1,\n",
       " 1,\n",
       " 0,\n",
       " 1,\n",
       " ...]"
      ]
     },
     "execution_count": 45,
     "metadata": {},
     "output_type": "execute_result"
    }
   ],
   "source": [
    "y_predicted_labels"
   ]
  },
  {
   "cell_type": "code",
   "execution_count": 46,
   "id": "fec13e1b",
   "metadata": {
    "ExecuteTime": {
     "end_time": "2021-12-31T09:49:56.631996Z",
     "start_time": "2021-12-31T09:49:56.601458Z"
    }
   },
   "outputs": [
    {
     "data": {
      "text/plain": [
       "(125000,)"
      ]
     },
     "execution_count": 46,
     "metadata": {},
     "output_type": "execute_result"
    }
   ],
   "source": [
    "y_predicted_labels = np.array(y_predicted_labels)\n",
    "y_predicted_labels.shape"
   ]
  },
  {
   "cell_type": "code",
   "execution_count": 52,
   "id": "246b3aa9",
   "metadata": {
    "ExecuteTime": {
     "end_time": "2021-12-31T09:51:36.124324Z",
     "start_time": "2021-12-31T09:51:35.157853Z"
    }
   },
   "outputs": [],
   "source": [
    "X_train_nn, X_test_nn, y_train_nn, y_test_nn = train_test_split(X_nn,y_nn, test_size=0.25, random_state=0)"
   ]
  },
  {
   "cell_type": "code",
   "execution_count": 53,
   "id": "07f39da1",
   "metadata": {
    "ExecuteTime": {
     "end_time": "2021-12-31T09:51:36.142780Z",
     "start_time": "2021-12-31T09:51:36.130573Z"
    }
   },
   "outputs": [
    {
     "data": {
      "text/plain": [
       "(125000,)"
      ]
     },
     "execution_count": 53,
     "metadata": {},
     "output_type": "execute_result"
    }
   ],
   "source": [
    "y_test_nn.shape"
   ]
  },
  {
   "cell_type": "code",
   "execution_count": 56,
   "id": "302e7315",
   "metadata": {
    "ExecuteTime": {
     "end_time": "2021-12-31T09:53:39.609302Z",
     "start_time": "2021-12-31T09:53:39.599381Z"
    }
   },
   "outputs": [
    {
     "data": {
      "text/plain": [
       "array([1., 1., 1., ..., 2., 2., 1.], dtype=float32)"
      ]
     },
     "execution_count": 56,
     "metadata": {},
     "output_type": "execute_result"
    }
   ],
   "source": [
    "y_test_nn"
   ]
  },
  {
   "cell_type": "code",
   "execution_count": 65,
   "id": "cc085998",
   "metadata": {
    "ExecuteTime": {
     "end_time": "2021-12-31T09:55:35.697171Z",
     "start_time": "2021-12-31T09:55:35.685539Z"
    }
   },
   "outputs": [],
   "source": [
    "y_test_nn_replace = np.where(y_test_nn==1, 0, y_test_nn) \n",
    "y_test_nn_replace = np.where(y_test_nn_replace==2, 1, y_test_nn_replace) "
   ]
  },
  {
   "cell_type": "code",
   "execution_count": 66,
   "id": "cdaaf30b",
   "metadata": {
    "ExecuteTime": {
     "end_time": "2021-12-31T09:55:41.327811Z",
     "start_time": "2021-12-31T09:55:41.311834Z"
    }
   },
   "outputs": [
    {
     "data": {
      "text/plain": [
       "array([0., 0., 0., ..., 1., 1., 0.], dtype=float32)"
      ]
     },
     "execution_count": 66,
     "metadata": {},
     "output_type": "execute_result"
    }
   ],
   "source": [
    "y_test_nn_replace"
   ]
  },
  {
   "cell_type": "code",
   "execution_count": 67,
   "id": "48480e47",
   "metadata": {
    "ExecuteTime": {
     "end_time": "2021-12-31T09:55:43.098790Z",
     "start_time": "2021-12-31T09:55:43.062532Z"
    }
   },
   "outputs": [
    {
     "data": {
      "text/plain": [
       "<tf.Tensor: shape=(2, 2), dtype=int32, numpy=\n",
       "array([[45614,  2267],\n",
       "       [ 1178, 75941]])>"
      ]
     },
     "execution_count": 67,
     "metadata": {},
     "output_type": "execute_result"
    }
   ],
   "source": [
    "cm = tf.math.confusion_matrix(labels=y_test_nn_replace, predictions=y_predicted_labels)\n",
    "cm"
   ]
  },
  {
   "cell_type": "markdown",
   "id": "9f9db911",
   "metadata": {},
   "source": [
    "<a id='8.4'></a>\n",
    "**Confusion Matrix**"
   ]
  },
  {
   "cell_type": "code",
   "execution_count": 68,
   "id": "6235621c",
   "metadata": {
    "ExecuteTime": {
     "end_time": "2021-12-31T09:55:48.955474Z",
     "start_time": "2021-12-31T09:55:48.490921Z"
    }
   },
   "outputs": [
    {
     "data": {
      "text/plain": [
       "<AxesSubplot:>"
      ]
     },
     "execution_count": 68,
     "metadata": {},
     "output_type": "execute_result"
    },
    {
     "data": {
      "image/png": "[encoded data removed]",
      "text/plain": [
       "<Figure size 648x504 with 2 Axes>"
      ]
     },
     "metadata": {
      "needs_background": "light"
     },
     "output_type": "display_data"
    }
   ],
   "source": [
    "plt.figure(figsize=(9,7))\n",
    "sns.heatmap(cm, annot=True, fmt='d')"
   ]
  },
  {
   "cell_type": "code",
   "execution_count": null,
   "id": "cbda15bf",
   "metadata": {},
   "outputs": [],
   "source": []
  }
 ],
 "metadata": {
  "kernelspec": {
   "display_name": "Python 3",
   "language": "python",
   "name": "python3"
  },
  "language_info": {
   "codemirror_mode": {
    "name": "ipython",
    "version": 3
   },
   "file_extension": ".py",
   "mimetype": "text/x-python",
   "name": "python",
   "nbconvert_exporter": "python",
   "pygments_lexer": "ipython3",
   "version": "3.8.8"
  },
  "toc": {
   "base_numbering": 1,
   "nav_menu": {},
   "number_sections": true,
   "sideBar": true,
   "skip_h1_title": false,
   "title_cell": "Table of Contents",
   "title_sidebar": "Contents",
   "toc_cell": false,
   "toc_position": {},
   "toc_section_display": true,
   "toc_window_display": false
  }
 },
 "nbformat": 4,
 "nbformat_minor": 5
}
