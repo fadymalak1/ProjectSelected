{
 "cells": [
  {
   "cell_type": "markdown",
   "id": "91eb0923",
   "metadata": {},
   "source": [
    "# Table of Contents\n",
    "<a id=\"toc\"></a>\n",
    "- [1. Data Description](#1)\n",
    "- [2. Import Necssaries Libraries](#2)\n",
    "- [3. Explore the Data](#3)\n",
    "    - [3.1 Information about Data](#3.1)\n",
    "    - [3.2 Visualization](#3.2)\n",
    "- [4. Assign Features and target Variable](#4)\n",
    "- [5. Spliting the data into Training and Testing Data](#5)\n",
    "- [6. SVM Model](#6)\n",
    "    - [6.1 Cross Validation](#6.1)\n",
    "    - [6.2 Accuarcy of the model](#6.2)\n",
    "    - [6.3 Confusion Matrix](#6.3)\n",
    "    - [6.4 ROC Curve](#6.5)\n",
    "- [7. ANN](#8)\n",
    "    - [7.1 Build and Train NN](#7.1)\n",
    "    - [7.2 Accuracy of the NN](#7.2)\n",
    "    - [7.3 Loss Curve](#7.3)\n",
    "    - [7.4 Confusion Matrix](#7.4)"
   ]
  },
  {
   "cell_type": "markdown",
   "id": "4bdea92c",
   "metadata": {},
   "source": [
    "<a id=\"1\"></a>\n",
    "# Data Description"
   ]
  },
  {
   "cell_type": "markdown",
   "id": "65f85b45",
   "metadata": {
    "ExecuteTime": {
     "end_time": "2021-12-26T20:22:04.076140Z",
     "start_time": "2021-12-26T20:22:04.066167Z"
    }
   },
   "source": [
    "***The data contains 5 Bayern Munich players and each player has about 100 random images collected from Google <br>\n",
    "so our data have 5 classes:***\n",
    " - Kingsley Coman\n",
    " - Joshua Kimmich\n",
    " - Robert Lewandowski\n",
    " - Manuel Neuer\n",
    " - Leory Sane<br><br>\n",
    "\n",
    "***Kingsley Coman Class 0***\n",
    "<img src = 'kingsley_coman.png' width=800, hight=800>\n",
    "***Joshua Kimmich Class 1***\n",
    "<img src = 'Joshua Kimmich.jpg' width=400, hight=400>\n",
    "***Robert Lewandowski Class 2***\n",
    "<img src = 'Robert-Lewandowski.png' width=400, hight=400>\n",
    "***Manuel Neuer Class 3***\n",
    "<img src = 'Manuel Neuer.jpg' width=400, hight=400>\n",
    "***Leory Sane Class 4***\n",
    "<img src = 'FC Bayern Munich.png' width=800, hight=800>"
   ]
  },
  {
   "cell_type": "markdown",
   "id": "8201ea2a",
   "metadata": {},
   "source": [
    "<a d='2'></a>\n",
    "# Import Necssaries Libraries"
   ]
  },
  {
   "cell_type": "code",
   "execution_count": 1,
   "id": "4feab9d1",
   "metadata": {
    "ExecuteTime": {
     "end_time": "2021-12-31T08:49:27.232040Z",
     "start_time": "2021-12-31T08:48:55.324089Z"
    }
   },
   "outputs": [],
   "source": [
    "import numpy as np\n",
    "import pandas as pd\n",
    "from matplotlib import pyplot as plt\n",
    "%matplotlib inline\n",
    "import seaborn as sns\n",
    "from math import sqrt\n",
    "\n",
    "from sklearn.model_selection import train_test_split, cross_val_score\n",
    "from sklearn.preprocessing import LabelEncoder\n",
    "from sklearn.metrics import confusion_matrix, roc_curve, auc\n",
    "from sklearn.svm import SVC\n",
    "from sklearn.preprocessing import label_binarize\n",
    "from sklearn.multiclass import OneVsRestClassifier\n",
    "\n",
    "import tensorflow as tf\n",
    "from tensorflow.keras import Sequential\n",
    "from tensorflow.keras.layers import Dense\n",
    "from tensorflow.keras.utils import to_categorical"
   ]
  },
  {
   "cell_type": "markdown",
   "id": "7dec77aa",
   "metadata": {},
   "source": [
    "<a id='3'></a>\n",
    "# Explore the Data"
   ]
  },
  {
   "cell_type": "code",
   "execution_count": 2,
   "id": "9f999d9a",
   "metadata": {
    "ExecuteTime": {
     "end_time": "2021-12-31T08:49:31.331259Z",
     "start_time": "2021-12-31T08:49:27.240009Z"
    }
   },
   "outputs": [
    {
     "data": {
      "text/html": [
       "<div>\n",
       "<style scoped>\n",
       "    .dataframe tbody tr th:only-of-type {\n",
       "        vertical-align: middle;\n",
       "    }\n",
       "\n",
       "    .dataframe tbody tr th {\n",
       "        vertical-align: top;\n",
       "    }\n",
       "\n",
       "    .dataframe thead th {\n",
       "        text-align: right;\n",
       "    }\n",
       "</style>\n",
       "<table border=\"1\" class=\"dataframe\">\n",
       "  <thead>\n",
       "    <tr style=\"text-align: right;\">\n",
       "      <th></th>\n",
       "      <th>0</th>\n",
       "      <th>1</th>\n",
       "      <th>2</th>\n",
       "      <th>3</th>\n",
       "      <th>4</th>\n",
       "      <th>5</th>\n",
       "      <th>6</th>\n",
       "      <th>7</th>\n",
       "      <th>8</th>\n",
       "      <th>9</th>\n",
       "      <th>...</th>\n",
       "      <th>4087</th>\n",
       "      <th>4088</th>\n",
       "      <th>4089</th>\n",
       "      <th>4090</th>\n",
       "      <th>4091</th>\n",
       "      <th>4092</th>\n",
       "      <th>4093</th>\n",
       "      <th>4094</th>\n",
       "      <th>4095</th>\n",
       "      <th>Target</th>\n",
       "    </tr>\n",
       "  </thead>\n",
       "  <tbody>\n",
       "    <tr>\n",
       "      <th>0</th>\n",
       "      <td>-0.546423</td>\n",
       "      <td>-0.469034</td>\n",
       "      <td>-0.428041</td>\n",
       "      <td>-0.517843</td>\n",
       "      <td>-0.435312</td>\n",
       "      <td>-0.348801</td>\n",
       "      <td>-0.850974</td>\n",
       "      <td>-0.840747</td>\n",
       "      <td>-0.771325</td>\n",
       "      <td>-0.871919</td>\n",
       "      <td>...</td>\n",
       "      <td>-1.567344</td>\n",
       "      <td>-1.331507</td>\n",
       "      <td>-1.362581</td>\n",
       "      <td>-1.257846</td>\n",
       "      <td>0.200789</td>\n",
       "      <td>0.265214</td>\n",
       "      <td>1.329462</td>\n",
       "      <td>0.883151</td>\n",
       "      <td>0.512070</td>\n",
       "      <td>2</td>\n",
       "    </tr>\n",
       "    <tr>\n",
       "      <th>1</th>\n",
       "      <td>0.325346</td>\n",
       "      <td>0.279344</td>\n",
       "      <td>0.084231</td>\n",
       "      <td>0.399309</td>\n",
       "      <td>0.380096</td>\n",
       "      <td>0.206045</td>\n",
       "      <td>0.489867</td>\n",
       "      <td>0.451229</td>\n",
       "      <td>0.328466</td>\n",
       "      <td>0.416079</td>\n",
       "      <td>...</td>\n",
       "      <td>0.876615</td>\n",
       "      <td>-1.331507</td>\n",
       "      <td>-0.055136</td>\n",
       "      <td>-1.178855</td>\n",
       "      <td>-0.962345</td>\n",
       "      <td>1.009106</td>\n",
       "      <td>-0.909622</td>\n",
       "      <td>-0.524674</td>\n",
       "      <td>-0.613211</td>\n",
       "      <td>3</td>\n",
       "    </tr>\n",
       "    <tr>\n",
       "      <th>2</th>\n",
       "      <td>0.293645</td>\n",
       "      <td>0.550034</td>\n",
       "      <td>0.596503</td>\n",
       "      <td>0.219475</td>\n",
       "      <td>0.466842</td>\n",
       "      <td>0.597702</td>\n",
       "      <td>0.004055</td>\n",
       "      <td>0.340488</td>\n",
       "      <td>0.379226</td>\n",
       "      <td>0.029680</td>\n",
       "      <td>...</td>\n",
       "      <td>0.692551</td>\n",
       "      <td>0.844015</td>\n",
       "      <td>0.849262</td>\n",
       "      <td>1.171127</td>\n",
       "      <td>1.303238</td>\n",
       "      <td>1.351688</td>\n",
       "      <td>-1.020568</td>\n",
       "      <td>-0.881732</td>\n",
       "      <td>-0.921916</td>\n",
       "      <td>1</td>\n",
       "    </tr>\n",
       "    <tr>\n",
       "      <th>3</th>\n",
       "      <td>1.197114</td>\n",
       "      <td>1.059568</td>\n",
       "      <td>0.549933</td>\n",
       "      <td>1.532262</td>\n",
       "      <td>1.316948</td>\n",
       "      <td>0.711935</td>\n",
       "      <td>1.752978</td>\n",
       "      <td>1.466353</td>\n",
       "      <td>0.785303</td>\n",
       "      <td>2.133410</td>\n",
       "      <td>...</td>\n",
       "      <td>0.723229</td>\n",
       "      <td>0.755419</td>\n",
       "      <td>0.770619</td>\n",
       "      <td>-0.981377</td>\n",
       "      <td>-0.840974</td>\n",
       "      <td>-0.860413</td>\n",
       "      <td>-0.687731</td>\n",
       "      <td>-0.932740</td>\n",
       "      <td>-0.921916</td>\n",
       "      <td>3</td>\n",
       "    </tr>\n",
       "    <tr>\n",
       "      <th>4</th>\n",
       "      <td>0.087590</td>\n",
       "      <td>0.215652</td>\n",
       "      <td>-0.024432</td>\n",
       "      <td>0.255442</td>\n",
       "      <td>0.362747</td>\n",
       "      <td>0.075493</td>\n",
       "      <td>0.353840</td>\n",
       "      <td>0.432772</td>\n",
       "      <td>0.108508</td>\n",
       "      <td>0.394613</td>\n",
       "      <td>...</td>\n",
       "      <td>-0.841314</td>\n",
       "      <td>-1.105095</td>\n",
       "      <td>-1.362581</td>\n",
       "      <td>1.171127</td>\n",
       "      <td>1.080725</td>\n",
       "      <td>1.351688</td>\n",
       "      <td>-0.899536</td>\n",
       "      <td>-0.667497</td>\n",
       "      <td>1.487977</td>\n",
       "      <td>2</td>\n",
       "    </tr>\n",
       "  </tbody>\n",
       "</table>\n",
       "<p>5 rows × 4097 columns</p>\n",
       "</div>"
      ],
      "text/plain": [
       "          0         1         2         3         4         5         6  \\\n",
       "0 -0.546423 -0.469034 -0.428041 -0.517843 -0.435312 -0.348801 -0.850974   \n",
       "1  0.325346  0.279344  0.084231  0.399309  0.380096  0.206045  0.489867   \n",
       "2  0.293645  0.550034  0.596503  0.219475  0.466842  0.597702  0.004055   \n",
       "3  1.197114  1.059568  0.549933  1.532262  1.316948  0.711935  1.752978   \n",
       "4  0.087590  0.215652 -0.024432  0.255442  0.362747  0.075493  0.353840   \n",
       "\n",
       "          7         8         9  ...      4087      4088      4089      4090  \\\n",
       "0 -0.840747 -0.771325 -0.871919  ... -1.567344 -1.331507 -1.362581 -1.257846   \n",
       "1  0.451229  0.328466  0.416079  ...  0.876615 -1.331507 -0.055136 -1.178855   \n",
       "2  0.340488  0.379226  0.029680  ...  0.692551  0.844015  0.849262  1.171127   \n",
       "3  1.466353  0.785303  2.133410  ...  0.723229  0.755419  0.770619 -0.981377   \n",
       "4  0.432772  0.108508  0.394613  ... -0.841314 -1.105095 -1.362581  1.171127   \n",
       "\n",
       "       4091      4092      4093      4094      4095  Target  \n",
       "0  0.200789  0.265214  1.329462  0.883151  0.512070       2  \n",
       "1 -0.962345  1.009106 -0.909622 -0.524674 -0.613211       3  \n",
       "2  1.303238  1.351688 -1.020568 -0.881732 -0.921916       1  \n",
       "3 -0.840974 -0.860413 -0.687731 -0.932740 -0.921916       3  \n",
       "4  1.080725  1.351688 -0.899536 -0.667497  1.487977       2  \n",
       "\n",
       "[5 rows x 4097 columns]"
      ]
     },
     "execution_count": 2,
     "metadata": {},
     "output_type": "execute_result"
    }
   ],
   "source": [
    "df = pd.read_csv(\"Bayern.csv\") # read the data\n",
    "df.head()"
   ]
  },
  {
   "cell_type": "markdown",
   "id": "c1d785e6",
   "metadata": {},
   "source": [
    "<a id='3.1'></a>\n",
    "**Information about data**"
   ]
  },
  {
   "cell_type": "code",
   "execution_count": 3,
   "id": "40e8de21",
   "metadata": {
    "ExecuteTime": {
     "end_time": "2021-12-31T08:49:31.372568Z",
     "start_time": "2021-12-31T08:49:31.345249Z"
    }
   },
   "outputs": [
    {
     "name": "stdout",
     "output_type": "stream",
     "text": [
      "The data contains 230 images\n",
      "Each image is 64 * 64 Pixels\n",
      "Data contains 5 Classes\n"
     ]
    }
   ],
   "source": [
    "print(f\"The data contains {len(df)} images\")\n",
    "print(f\"Each image is {int(sqrt(df.shape[1] - 1))} * {int(sqrt(df.shape[1]-1))} Pixels\")\n",
    "print(f\"Data contains {len(df.Target.unique())} Classes\")"
   ]
  },
  {
   "cell_type": "code",
   "execution_count": 4,
   "id": "3b67e881",
   "metadata": {
    "ExecuteTime": {
     "end_time": "2021-12-31T08:49:31.416700Z",
     "start_time": "2021-12-31T08:49:31.383222Z"
    },
    "scrolled": true
   },
   "outputs": [
    {
     "data": {
      "text/plain": [
       "3    59\n",
       "1    52\n",
       "2    45\n",
       "4    43\n",
       "0    31\n",
       "Name: Target, dtype: int64"
      ]
     },
     "execution_count": 4,
     "metadata": {},
     "output_type": "execute_result"
    }
   ],
   "source": [
    "df.Target.value_counts()"
   ]
  },
  {
   "cell_type": "markdown",
   "id": "624cc14a",
   "metadata": {},
   "source": [
    "<a id='3.2'></a>\n",
    "**Visualization**"
   ]
  },
  {
   "cell_type": "code",
   "execution_count": 5,
   "id": "7953e359",
   "metadata": {
    "ExecuteTime": {
     "end_time": "2021-12-31T08:49:34.784708Z",
     "start_time": "2021-12-31T08:49:31.425324Z"
    }
   },
   "outputs": [
    {
     "data": {
      "image/png": "[encoded data removed]",
      "text/plain": [
       "<Figure size 1296x864 with 2 Axes>"
      ]
     },
     "metadata": {
      "needs_background": "light"
     },
     "output_type": "display_data"
    }
   ],
   "source": [
    "plt.figure(figsize=(18,12))\n",
    "plt.subplot(2,2,1)\n",
    "sns.countplot(x='Target', data=df);\n",
    "\n",
    "plt.subplot(2,2,2)\n",
    "coman = df.Target[df.Target == 0].count()\n",
    "kimmich = df.Target[df.Target == 1].count()\n",
    "lewa = df.Target[df.Target == 2].count()\n",
    "neuer = df.Target[df.Target == 3].count()\n",
    "sane = df.Target[df.Target == 4].count()\n",
    "weights = [coman, kimmich, lewa, neuer, sane]\n",
    "labels = ['Coman', 'Kimmich', 'Lewandowski', 'Neuer', 'Sane']\n",
    "plt.pie(weights, labels=labels, autopct='%.2f%%', explode=[0.01,0.01,0.01,0.01,0.01])\n",
    "my_circle = plt.Circle( (0,0), 0.4, color='white')\n",
    "plt.gcf().gca().add_artist(my_circle)\n",
    "plt.legend(bbox_to_anchor=(1, 1))\n",
    "plt.show()"
   ]
  },
  {
   "cell_type": "markdown",
   "id": "82dfc8d3",
   "metadata": {},
   "source": [
    "<a id='4'></a>\n",
    "# Assign Feature and Target Variable"
   ]
  },
  {
   "cell_type": "code",
   "execution_count": 6,
   "id": "b73d7c78",
   "metadata": {
    "ExecuteTime": {
     "end_time": "2021-12-31T08:49:34.843206Z",
     "start_time": "2021-12-31T08:49:34.796402Z"
    }
   },
   "outputs": [],
   "source": [
    "X = df.drop(\"Target\", axis=1)\n",
    "y = df.Target"
   ]
  },
  {
   "cell_type": "code",
   "execution_count": 7,
   "id": "0e0619e4",
   "metadata": {
    "ExecuteTime": {
     "end_time": "2021-12-31T08:49:34.882990Z",
     "start_time": "2021-12-31T08:49:34.852167Z"
    }
   },
   "outputs": [
    {
     "data": {
      "text/plain": [
       "(230, 4096)"
      ]
     },
     "execution_count": 7,
     "metadata": {},
     "output_type": "execute_result"
    }
   ],
   "source": [
    "X.shape"
   ]
  },
  {
   "cell_type": "code",
   "execution_count": 8,
   "id": "da3ef9f1",
   "metadata": {
    "ExecuteTime": {
     "end_time": "2021-12-31T08:49:34.909396Z",
     "start_time": "2021-12-31T08:49:34.895041Z"
    }
   },
   "outputs": [
    {
     "data": {
      "text/plain": [
       "(230,)"
      ]
     },
     "execution_count": 8,
     "metadata": {},
     "output_type": "execute_result"
    }
   ],
   "source": [
    "y.shape"
   ]
  },
  {
   "cell_type": "markdown",
   "id": "e63ce88f",
   "metadata": {},
   "source": [
    "<a id='5'></a>\n",
    "# Splitting the data into Training and Testing Data"
   ]
  },
  {
   "cell_type": "code",
   "execution_count": 23,
   "id": "82a8ec77",
   "metadata": {
    "ExecuteTime": {
     "end_time": "2021-12-31T08:52:10.615920Z",
     "start_time": "2021-12-31T08:52:10.574561Z"
    }
   },
   "outputs": [],
   "source": [
    "X_train, X_test, y_train, y_test = train_test_split(X,y, test_size=0.25, random_state=150)"
   ]
  },
  {
   "cell_type": "code",
   "execution_count": 24,
   "id": "1e0b107a",
   "metadata": {
    "ExecuteTime": {
     "end_time": "2021-12-31T08:52:10.981078Z",
     "start_time": "2021-12-31T08:52:10.970040Z"
    }
   },
   "outputs": [
    {
     "name": "stdout",
     "output_type": "stream",
     "text": [
      "Number of Training data: 172\n",
      "Number of Testing data: 58\n"
     ]
    }
   ],
   "source": [
    "print(f\"Number of Training data: {len(X_train)}\")\n",
    "print(f\"Number of Testing data: {len(X_test)}\")"
   ]
  },
  {
   "cell_type": "code",
   "execution_count": 25,
   "id": "10183a86",
   "metadata": {
    "ExecuteTime": {
     "end_time": "2021-12-31T08:52:11.508636Z",
     "start_time": "2021-12-31T08:52:11.491152Z"
    }
   },
   "outputs": [
    {
     "data": {
      "text/plain": [
       "(172, 4096)"
      ]
     },
     "execution_count": 25,
     "metadata": {},
     "output_type": "execute_result"
    }
   ],
   "source": [
    "X_train.shape"
   ]
  },
  {
   "cell_type": "code",
   "execution_count": 26,
   "id": "ae0fba92",
   "metadata": {
    "ExecuteTime": {
     "end_time": "2021-12-31T08:52:12.102301Z",
     "start_time": "2021-12-31T08:52:12.089198Z"
    }
   },
   "outputs": [
    {
     "data": {
      "text/plain": [
       "(172,)"
      ]
     },
     "execution_count": 26,
     "metadata": {},
     "output_type": "execute_result"
    }
   ],
   "source": [
    "y_train.shape"
   ]
  },
  {
   "cell_type": "markdown",
   "id": "904aa154",
   "metadata": {},
   "source": [
    "<a id='6'></a>\n",
    "# SVM Model"
   ]
  },
  {
   "cell_type": "markdown",
   "id": "d613e343",
   "metadata": {},
   "source": [
    "<a id='6.1'></a>\n",
    "**Cross Validation**"
   ]
  },
  {
   "cell_type": "code",
   "execution_count": 27,
   "id": "55059038",
   "metadata": {
    "ExecuteTime": {
     "end_time": "2021-12-31T08:52:25.490852Z",
     "start_time": "2021-12-31T08:52:12.690632Z"
    }
   },
   "outputs": [
    {
     "data": {
      "text/plain": [
       "0.8434782608695652"
      ]
     },
     "execution_count": 27,
     "metadata": {},
     "output_type": "execute_result"
    }
   ],
   "source": [
    "svm_model = SVC(kernel='linear', gamma='auto')\n",
    "scores = cross_val_score(svm_model,X,y, cv=10)\n",
    "np.average(scores)"
   ]
  },
  {
   "cell_type": "code",
   "execution_count": 28,
   "id": "89b93e16",
   "metadata": {
    "ExecuteTime": {
     "end_time": "2021-12-31T08:52:26.294658Z",
     "start_time": "2021-12-31T08:52:25.499207Z"
    }
   },
   "outputs": [
    {
     "data": {
      "text/plain": [
       "SVC(gamma='auto', kernel='linear')"
      ]
     },
     "execution_count": 28,
     "metadata": {},
     "output_type": "execute_result"
    }
   ],
   "source": [
    "svm_model.fit(X_train, y_train)"
   ]
  },
  {
   "cell_type": "markdown",
   "id": "50875e36",
   "metadata": {},
   "source": [
    "<a id='6.2'></a>\n",
    "**Score of the model**"
   ]
  },
  {
   "cell_type": "code",
   "execution_count": 29,
   "id": "f40e2209",
   "metadata": {
    "ExecuteTime": {
     "end_time": "2021-12-31T08:52:26.676289Z",
     "start_time": "2021-12-31T08:52:26.305363Z"
    }
   },
   "outputs": [
    {
     "data": {
      "text/plain": [
       "0.896551724137931"
      ]
     },
     "execution_count": 29,
     "metadata": {},
     "output_type": "execute_result"
    }
   ],
   "source": [
    "svm_model.score(X_test, y_test)"
   ]
  },
  {
   "cell_type": "markdown",
   "id": "8e663bac",
   "metadata": {},
   "source": [
    "<a id='6.3'></a>\n",
    "**Confusion Matrix**"
   ]
  },
  {
   "cell_type": "code",
   "execution_count": 30,
   "id": "e9ebf3d6",
   "metadata": {
    "ExecuteTime": {
     "end_time": "2021-12-31T09:08:55.466280Z",
     "start_time": "2021-12-31T09:08:54.783493Z"
    }
   },
   "outputs": [
    {
     "data": {
      "text/plain": [
       "array([[ 4,  1,  0,  0,  0],\n",
       "       [ 0, 13,  1,  0,  1],\n",
       "       [ 0,  0, 12,  0,  1],\n",
       "       [ 0,  1,  0, 14,  0],\n",
       "       [ 0,  1,  0,  0,  9]], dtype=int64)"
      ]
     },
     "execution_count": 30,
     "metadata": {},
     "output_type": "execute_result"
    }
   ],
   "source": [
    "cm = confusion_matrix(y_test, svm_model.predict(X_test))\n",
    "cm"
   ]
  },
  {
   "cell_type": "code",
   "execution_count": 31,
   "id": "51d3ce20",
   "metadata": {
    "ExecuteTime": {
     "end_time": "2021-12-31T09:08:58.114513Z",
     "start_time": "2021-12-31T09:08:55.520180Z"
    }
   },
   "outputs": [
    {
     "data": {
      "image/png": "[encoded data removed]",
      "text/plain": [
       "<Figure size 648x504 with 2 Axes>"
      ]
     },
     "metadata": {
      "needs_background": "light"
     },
     "output_type": "display_data"
    }
   ],
   "source": [
    "plt.figure(figsize=(9,7))\n",
    "sns.heatmap(cm, annot=True);"
   ]
  },
  {
   "cell_type": "code",
   "execution_count": 32,
   "id": "c7ee391a",
   "metadata": {
    "ExecuteTime": {
     "end_time": "2021-12-31T09:08:58.764211Z",
     "start_time": "2021-12-31T09:08:58.738300Z"
    }
   },
   "outputs": [
    {
     "data": {
      "text/plain": [
       "(230, 5)"
      ]
     },
     "execution_count": 32,
     "metadata": {},
     "output_type": "execute_result"
    }
   ],
   "source": [
    "y_binarize = label_binarize(y, classes=[0,1,2,3,4])\n",
    "y_binarize.shape"
   ]
  },
  {
   "cell_type": "code",
   "execution_count": 33,
   "id": "e858f73f",
   "metadata": {
    "ExecuteTime": {
     "end_time": "2021-12-31T09:08:59.469070Z",
     "start_time": "2021-12-31T09:08:59.424339Z"
    }
   },
   "outputs": [
    {
     "data": {
      "text/html": [
       "<div>\n",
       "<style scoped>\n",
       "    .dataframe tbody tr th:only-of-type {\n",
       "        vertical-align: middle;\n",
       "    }\n",
       "\n",
       "    .dataframe tbody tr th {\n",
       "        vertical-align: top;\n",
       "    }\n",
       "\n",
       "    .dataframe thead th {\n",
       "        text-align: right;\n",
       "    }\n",
       "</style>\n",
       "<table border=\"1\" class=\"dataframe\">\n",
       "  <thead>\n",
       "    <tr style=\"text-align: right;\">\n",
       "      <th></th>\n",
       "      <th>0</th>\n",
       "      <th>1</th>\n",
       "      <th>2</th>\n",
       "      <th>3</th>\n",
       "      <th>4</th>\n",
       "    </tr>\n",
       "  </thead>\n",
       "  <tbody>\n",
       "    <tr>\n",
       "      <th>0</th>\n",
       "      <td>0</td>\n",
       "      <td>0</td>\n",
       "      <td>1</td>\n",
       "      <td>0</td>\n",
       "      <td>0</td>\n",
       "    </tr>\n",
       "    <tr>\n",
       "      <th>1</th>\n",
       "      <td>0</td>\n",
       "      <td>0</td>\n",
       "      <td>0</td>\n",
       "      <td>1</td>\n",
       "      <td>0</td>\n",
       "    </tr>\n",
       "    <tr>\n",
       "      <th>2</th>\n",
       "      <td>0</td>\n",
       "      <td>1</td>\n",
       "      <td>0</td>\n",
       "      <td>0</td>\n",
       "      <td>0</td>\n",
       "    </tr>\n",
       "    <tr>\n",
       "      <th>3</th>\n",
       "      <td>0</td>\n",
       "      <td>0</td>\n",
       "      <td>0</td>\n",
       "      <td>1</td>\n",
       "      <td>0</td>\n",
       "    </tr>\n",
       "    <tr>\n",
       "      <th>4</th>\n",
       "      <td>0</td>\n",
       "      <td>0</td>\n",
       "      <td>1</td>\n",
       "      <td>0</td>\n",
       "      <td>0</td>\n",
       "    </tr>\n",
       "  </tbody>\n",
       "</table>\n",
       "</div>"
      ],
      "text/plain": [
       "   0  1  2  3  4\n",
       "0  0  0  1  0  0\n",
       "1  0  0  0  1  0\n",
       "2  0  1  0  0  0\n",
       "3  0  0  0  1  0\n",
       "4  0  0  1  0  0"
      ]
     },
     "execution_count": 33,
     "metadata": {},
     "output_type": "execute_result"
    }
   ],
   "source": [
    "binarize_df = pd.DataFrame(y_binarize)\n",
    "binarize_df.head()"
   ]
  },
  {
   "cell_type": "code",
   "execution_count": 34,
   "id": "84d5a7c0",
   "metadata": {
    "ExecuteTime": {
     "end_time": "2021-12-31T09:09:00.131551Z",
     "start_time": "2021-12-31T09:09:00.112381Z"
    }
   },
   "outputs": [
    {
     "data": {
      "text/plain": [
       "(230, 5)"
      ]
     },
     "execution_count": 34,
     "metadata": {},
     "output_type": "execute_result"
    }
   ],
   "source": [
    "y_binarize.shape"
   ]
  },
  {
   "cell_type": "code",
   "execution_count": 35,
   "id": "f7d4500f",
   "metadata": {
    "ExecuteTime": {
     "end_time": "2021-12-31T09:09:01.215551Z",
     "start_time": "2021-12-31T09:09:01.199590Z"
    }
   },
   "outputs": [],
   "source": [
    "n_classes = y_binarize.shape[1]"
   ]
  },
  {
   "cell_type": "code",
   "execution_count": 36,
   "id": "3556b461",
   "metadata": {
    "ExecuteTime": {
     "end_time": "2021-12-31T09:09:02.012150Z",
     "start_time": "2021-12-31T09:09:01.958974Z"
    }
   },
   "outputs": [],
   "source": [
    "X_train, X_test, y_train, y_test = train_test_split(X,y_binarize, test_size=0.25, random_state=150)"
   ]
  },
  {
   "cell_type": "code",
   "execution_count": 37,
   "id": "6e1ab518",
   "metadata": {
    "ExecuteTime": {
     "end_time": "2021-12-31T09:09:02.704661Z",
     "start_time": "2021-12-31T09:09:02.689545Z"
    }
   },
   "outputs": [],
   "source": [
    "classifier = OneVsRestClassifier(\n",
    "    SVC(kernel='linear', gamma='auto')\n",
    ")"
   ]
  },
  {
   "cell_type": "code",
   "execution_count": 38,
   "id": "0359c808",
   "metadata": {
    "ExecuteTime": {
     "end_time": "2021-12-31T09:09:09.889610Z",
     "start_time": "2021-12-31T09:09:03.350423Z"
    }
   },
   "outputs": [
    {
     "data": {
      "text/plain": [
       "array([[-1.60718728, -0.53090481,  0.45276391, -1.06483396, -1.54857426],\n",
       "       [-1.45358902, -0.15197821,  0.45329613, -1.30316109, -1.75755374],\n",
       "       [-0.96029124, -0.48775536, -0.55695755, -0.70340374, -1.03364717],\n",
       "       [-1.12629182,  0.89286103, -1.22104886, -1.46364358, -1.12694796],\n",
       "       [ 0.29978422, -1.54328804, -1.14093989, -0.83258053, -0.71658257],\n",
       "       [-1.37584739, -0.83757238, -1.05435026, -1.51100426,  0.89661788],\n",
       "       [ 0.09915965, -0.55963698, -1.75003327, -0.8779454 , -0.65074421],\n",
       "       [-0.64237263, -0.58172674, -1.40021309, -1.3171007 , -0.49273075],\n",
       "       [-0.8366869 , -1.15729182, -1.52930615,  0.5153049 , -0.97559869],\n",
       "       [-2.65785193, -0.15551489, -0.12722061, -1.0855031 , -0.46024263],\n",
       "       [-2.23995423, -0.21418857, -0.84856656,  1.27353092, -2.24445902],\n",
       "       [-2.12524358, -0.56071553, -0.89237212,  0.91868392, -1.46806529],\n",
       "       [-0.7969668 , -1.27062128, -0.48643173, -1.83239938, -0.18644436],\n",
       "       [-1.02599581, -0.49727724, -1.42581931, -0.38692495, -0.32721157],\n",
       "       [-1.88189551,  0.56581354, -0.87228394, -0.93899309, -0.89102409],\n",
       "       [-3.32823223, -1.41839062, -0.55869451,  1.47436411, -0.95521584],\n",
       "       [-1.00969093, -0.93650995, -0.56861304, -1.36060423,  0.24837614],\n",
       "       [-1.56008757,  0.94876483, -1.27460053, -0.51946955, -1.20552719],\n",
       "       [-2.67266066, -0.75930063,  0.08533009, -0.86613216, -0.27253764],\n",
       "       [-1.40959788, -0.98214701, -1.44703178,  0.92808622, -0.89270246],\n",
       "       [-0.99989013,  0.99985813, -1.42385284, -1.89933819, -1.00033618],\n",
       "       [-1.85932366, -1.39606797, -0.93007505, -0.40107787,  0.06530725],\n",
       "       [-1.96361708,  0.32634468, -0.56056024, -1.05518933, -0.8348233 ],\n",
       "       [-1.18716954,  0.04069779, -0.67859774, -1.39689763, -0.6372438 ],\n",
       "       [-1.71312969, -0.8329204 , -0.89477422, -0.23625725, -0.46687045],\n",
       "       [-1.58493847, -0.68267739,  0.40582694, -0.98127211, -0.69678048],\n",
       "       [-1.51309508, -1.10197574, -1.07695811,  0.06013696, -0.6211791 ],\n",
       "       [ 0.95293926, -0.74357308, -0.86980654, -1.37772727, -2.25931921],\n",
       "       [-1.90761756, -0.75864242, -0.94892178,  0.4030821 , -1.06647139],\n",
       "       [-2.03779119,  0.2172206 , -1.18706402, -0.38923965, -0.79802192],\n",
       "       [-1.53025292, -0.79024016,  0.79033309, -1.06717461, -1.3751314 ],\n",
       "       [-2.24103257, -0.52888273, -1.1336735 , -0.23290094,  0.16177823],\n",
       "       [-1.77582999, -0.50118587, -1.57325647,  0.3316261 , -1.06115484],\n",
       "       [-1.51631063, -0.58878169,  0.70511443, -0.9440918 , -1.87420618],\n",
       "       [-2.00290861,  0.03566397, -0.85674694, -0.31272417, -0.91825169],\n",
       "       [-0.9941436 ,  0.61530225, -1.15978092, -1.25517728, -1.09585116],\n",
       "       [-0.61264469, -0.6935144 , -0.56137402, -0.86603651, -1.36051005],\n",
       "       [-1.60987388, -1.36308368,  0.27826185, -0.97033085, -0.74325968],\n",
       "       [ 0.27989446, -1.23685974, -2.01554546, -1.11617607,  0.61972014],\n",
       "       [-1.90715312,  0.87769725, -1.49920745,  0.21188709, -1.72608941],\n",
       "       [-1.34998212, -1.06396378,  0.54331108, -1.0929141 , -0.82091554],\n",
       "       [-1.55991018, -0.82938329, -1.15802812,  1.42761806, -1.47710091],\n",
       "       [-1.29810143, -0.09144517, -1.16642707, -0.43410375, -1.13358852],\n",
       "       [-1.5776464 , -1.0547929 , -0.99564723,  0.35581537, -0.95823792],\n",
       "       [-1.13532244, -1.45619146, -0.77929109, -0.87865956,  0.29932248],\n",
       "       [-1.43752834,  0.16232499, -0.18744946, -1.65354255, -1.34622448],\n",
       "       [-0.53759517, -1.41933942,  0.33573994, -0.59564071, -1.67002523],\n",
       "       [-0.52606904, -0.70076272, -1.11705236, -1.64596206,  0.6400631 ],\n",
       "       [-1.1153212 , -1.38111816,  0.42411127, -1.23209963, -0.75623453],\n",
       "       [ 1.31020559, -1.75228862, -0.41025034, -1.66244798, -1.16450545],\n",
       "       [-0.10196358, -0.87940579, -0.95621765, -1.80142847,  0.55596446],\n",
       "       [-2.84104442,  0.86461021, -0.86769792, -1.11743453, -0.26930897],\n",
       "       [-2.22738045, -0.9998392 , -1.03136402,  0.45137957, -0.61186938],\n",
       "       [-1.93322122, -0.83306244, -1.1868581 , -0.81431468,  0.47928439],\n",
       "       [-1.80194189, -1.07682723, -0.74000761,  0.30684707, -0.62092905],\n",
       "       [-2.33677028,  0.16860201,  0.67171187, -0.75832486, -2.47185268],\n",
       "       [-1.74339022, -0.05478195,  0.43430027, -1.85022214, -1.23226784],\n",
       "       [-2.87688708, -0.82784112, -0.88069971,  0.83340661, -1.16231684]])"
      ]
     },
     "execution_count": 38,
     "metadata": {},
     "output_type": "execute_result"
    }
   ],
   "source": [
    "y_score = classifier.fit(X_train, y_train).decision_function(X_test)\n",
    "y_score"
   ]
  },
  {
   "cell_type": "code",
   "execution_count": 39,
   "id": "c4b33e94",
   "metadata": {
    "ExecuteTime": {
     "end_time": "2021-12-31T09:09:09.922217Z",
     "start_time": "2021-12-31T09:09:09.892202Z"
    }
   },
   "outputs": [
    {
     "data": {
      "text/plain": [
       "(58, 5)"
      ]
     },
     "execution_count": 39,
     "metadata": {},
     "output_type": "execute_result"
    }
   ],
   "source": [
    "y_score.shape"
   ]
  },
  {
   "cell_type": "code",
   "execution_count": 40,
   "id": "626c1a7c",
   "metadata": {
    "ExecuteTime": {
     "end_time": "2021-12-31T09:09:09.962866Z",
     "start_time": "2021-12-31T09:09:09.930884Z"
    }
   },
   "outputs": [],
   "source": [
    "fpr = dict()\n",
    "tpr = dict()\n",
    "roc_auc = dict()\n",
    "for i in range(n_classes):\n",
    "    fpr[i], tpr[i], _ = roc_curve(y_test[:, i], y_score[:, i])\n",
    "    roc_auc[i] = auc(fpr[i], tpr[i])"
   ]
  },
  {
   "cell_type": "code",
   "execution_count": 41,
   "id": "5de06129",
   "metadata": {
    "ExecuteTime": {
     "end_time": "2021-12-31T09:09:09.989575Z",
     "start_time": "2021-12-31T09:09:09.969611Z"
    }
   },
   "outputs": [
    {
     "data": {
      "text/plain": [
       "{0: array([0. , 0.2, 0.6, 0.6, 0.8, 0.8, 1. , 1. ]),\n",
       " 1: array([0.        , 0.06666667, 0.6       , 0.6       , 0.73333333,\n",
       "        0.73333333, 0.8       , 0.8       , 0.86666667, 0.86666667,\n",
       "        0.93333333, 0.93333333, 1.        , 1.        ]),\n",
       " 2: array([0.        , 0.07692308, 0.76923077, 0.76923077, 0.84615385,\n",
       "        0.84615385, 0.92307692, 0.92307692, 1.        , 1.        ]),\n",
       " 3: array([0.        , 0.06666667, 0.8       , 0.8       , 0.86666667,\n",
       "        0.86666667, 0.93333333, 0.93333333, 1.        , 1.        ]),\n",
       " 4: array([0. , 0.1, 0.8, 0.8, 0.9, 0.9, 1. , 1. ])}"
      ]
     },
     "execution_count": 41,
     "metadata": {},
     "output_type": "execute_result"
    }
   ],
   "source": [
    "tpr"
   ]
  },
  {
   "cell_type": "code",
   "execution_count": 42,
   "id": "fcd77d75",
   "metadata": {
    "ExecuteTime": {
     "end_time": "2021-12-31T09:09:10.021657Z",
     "start_time": "2021-12-31T09:09:09.994883Z"
    }
   },
   "outputs": [],
   "source": [
    "# Compute micro-average ROC curve and ROC area\n",
    "fpr[\"micro\"], tpr[\"micro\"], _ = roc_curve(y_test.ravel(), y_score.ravel())\n",
    "roc_auc[\"micro\"] = auc(fpr[\"micro\"], tpr[\"micro\"])"
   ]
  },
  {
   "cell_type": "code",
   "execution_count": 43,
   "id": "77b3338d",
   "metadata": {
    "ExecuteTime": {
     "end_time": "2021-12-31T09:09:10.047206Z",
     "start_time": "2021-12-31T09:09:10.028170Z"
    }
   },
   "outputs": [
    {
     "data": {
      "text/plain": [
       "array([0.        , 0.        , 0.        , 0.00862069, 0.00862069,\n",
       "       0.02155172, 0.02155172, 0.02586207, 0.02586207, 0.03017241,\n",
       "       0.03017241, 0.04310345, 0.04310345, 0.05172414, 0.05172414,\n",
       "       0.10775862, 0.10775862, 0.18103448, 0.18103448, 0.22413793,\n",
       "       0.22413793, 0.38793103, 0.38793103, 0.68534483, 0.68534483,\n",
       "       1.        ])"
      ]
     },
     "execution_count": 43,
     "metadata": {},
     "output_type": "execute_result"
    }
   ],
   "source": [
    "fpr[\"micro\"]"
   ]
  },
  {
   "cell_type": "code",
   "execution_count": 44,
   "id": "13996ab0",
   "metadata": {
    "ExecuteTime": {
     "end_time": "2021-12-31T09:09:10.080655Z",
     "start_time": "2021-12-31T09:09:10.056124Z"
    }
   },
   "outputs": [
    {
     "data": {
      "text/plain": [
       "array([0.        , 0.01724138, 0.67241379, 0.67241379, 0.70689655,\n",
       "       0.70689655, 0.75862069, 0.75862069, 0.81034483, 0.81034483,\n",
       "       0.82758621, 0.82758621, 0.87931034, 0.87931034, 0.89655172,\n",
       "       0.89655172, 0.93103448, 0.93103448, 0.94827586, 0.94827586,\n",
       "       0.96551724, 0.96551724, 0.98275862, 0.98275862, 1.        ,\n",
       "       1.        ])"
      ]
     },
     "execution_count": 44,
     "metadata": {},
     "output_type": "execute_result"
    }
   ],
   "source": [
    "tpr[\"micro\"]"
   ]
  },
  {
   "cell_type": "code",
   "execution_count": 45,
   "id": "bdf8e92f",
   "metadata": {
    "ExecuteTime": {
     "end_time": "2021-12-31T09:09:10.120125Z",
     "start_time": "2021-12-31T09:09:10.089143Z"
    }
   },
   "outputs": [
    {
     "data": {
      "text/plain": [
       "0.9644024970273484"
      ]
     },
     "execution_count": 45,
     "metadata": {},
     "output_type": "execute_result"
    }
   ],
   "source": [
    "roc_auc[\"micro\"]"
   ]
  },
  {
   "cell_type": "markdown",
   "id": "959a6eb8",
   "metadata": {},
   "source": [
    "<a id='6.5'></a>\n",
    "**ROC Curve**"
   ]
  },
  {
   "cell_type": "code",
   "execution_count": 46,
   "id": "365c8d59",
   "metadata": {
    "ExecuteTime": {
     "end_time": "2021-12-31T09:09:13.120764Z",
     "start_time": "2021-12-31T09:09:11.780412Z"
    }
   },
   "outputs": [
    {
     "data": {
      "image/png": "[encoded data removed]",
      "text/plain": [
       "<Figure size 720x504 with 1 Axes>"
      ]
     },
     "metadata": {
      "needs_background": "light"
     },
     "output_type": "display_data"
    }
   ],
   "source": [
    "plt.figure(figsize=(10,7))\n",
    "lw = 2\n",
    "plt.plot(\n",
    "    fpr[2],\n",
    "    tpr[2],\n",
    "    color=\"darkorange\",\n",
    "    lw=lw,\n",
    "    label=\"ROC curve (area = %0.2f)\" % roc_auc[2],\n",
    ")\n",
    "plt.plot([0, 1], [0, 1], color=\"navy\", lw=lw, linestyle=\"--\")\n",
    "plt.xlabel(\"False Positive Rate\")\n",
    "plt.ylabel(\"True Positive Rate\")\n",
    "plt.title(\"Receiver operating characteristic\")\n",
    "plt.legend(loc=\"lower right\")\n",
    "plt.show()"
   ]
  },
  {
   "cell_type": "markdown",
   "id": "d5e90297",
   "metadata": {},
   "source": [
    "<a id=\"7\"></a>\n",
    "# ANN"
   ]
  },
  {
   "cell_type": "code",
   "execution_count": 47,
   "id": "2a657749",
   "metadata": {
    "ExecuteTime": {
     "end_time": "2021-12-31T09:09:17.108188Z",
     "start_time": "2021-12-31T09:09:17.092742Z"
    }
   },
   "outputs": [],
   "source": [
    "FEATURES = [col for col in df.columns if col not in ['Target']]"
   ]
  },
  {
   "cell_type": "code",
   "execution_count": 48,
   "id": "91247a29",
   "metadata": {
    "ExecuteTime": {
     "end_time": "2021-12-31T09:09:17.605737Z",
     "start_time": "2021-12-31T09:09:17.571824Z"
    },
    "scrolled": true
   },
   "outputs": [],
   "source": [
    "X_nn = df[FEATURES].to_numpy()\n",
    "y_nn = df['Target'].to_numpy()"
   ]
  },
  {
   "cell_type": "code",
   "execution_count": 49,
   "id": "fa1c36b0",
   "metadata": {
    "ExecuteTime": {
     "end_time": "2021-12-31T09:09:18.137468Z",
     "start_time": "2021-12-31T09:09:18.126836Z"
    }
   },
   "outputs": [
    {
     "data": {
      "text/plain": [
       "(230, 4096)"
      ]
     },
     "execution_count": 49,
     "metadata": {},
     "output_type": "execute_result"
    }
   ],
   "source": [
    "X_nn.shape"
   ]
  },
  {
   "cell_type": "code",
   "execution_count": 50,
   "id": "7c5f3ca0",
   "metadata": {
    "ExecuteTime": {
     "end_time": "2021-12-31T09:09:18.697844Z",
     "start_time": "2021-12-31T09:09:18.674367Z"
    }
   },
   "outputs": [
    {
     "data": {
      "text/plain": [
       "(230,)"
      ]
     },
     "execution_count": 50,
     "metadata": {},
     "output_type": "execute_result"
    }
   ],
   "source": [
    "y_nn.shape"
   ]
  },
  {
   "cell_type": "code",
   "execution_count": 51,
   "id": "afe34613",
   "metadata": {
    "ExecuteTime": {
     "end_time": "2021-12-31T09:09:19.355922Z",
     "start_time": "2021-12-31T09:09:19.339001Z"
    }
   },
   "outputs": [
    {
     "data": {
      "text/plain": [
       "(4096,)"
      ]
     },
     "execution_count": 51,
     "metadata": {},
     "output_type": "execute_result"
    }
   ],
   "source": [
    "X_nn[0].shape"
   ]
  },
  {
   "cell_type": "code",
   "execution_count": 52,
   "id": "adfa2906",
   "metadata": {
    "ExecuteTime": {
     "end_time": "2021-12-31T09:09:20.071465Z",
     "start_time": "2021-12-31T09:09:20.047879Z"
    }
   },
   "outputs": [
    {
     "data": {
      "text/plain": [
       "array([2, 3, 1, 3, 2, 3, 2, 2, 1, 4, 4, 3, 4, 1, 3, 4, 1, 4, 3, 4, 4, 0,\n",
       "       2, 2, 1, 4, 2, 2, 0, 3, 2, 2, 2, 4, 2, 2, 2, 0, 1, 3, 0, 0, 4, 1,\n",
       "       1, 3, 0, 3, 2, 3, 1, 0, 4, 1, 3, 3, 1, 4, 3, 3, 1, 4, 0, 2, 2, 2,\n",
       "       3, 4, 3, 2, 2, 3, 1, 4, 2, 0, 2, 1, 1, 3, 1, 1, 4, 4, 0, 3, 1, 0,\n",
       "       1, 4, 1, 3, 1, 0, 0, 0, 4, 1, 0, 0, 2, 3, 3, 3, 4, 4, 1, 1, 3, 3,\n",
       "       1, 3, 4, 0, 2, 3, 2, 3, 3, 1, 1, 3, 2, 3, 3, 1, 3, 4, 1, 4, 3, 4,\n",
       "       4, 1, 3, 3, 3, 3, 2, 1, 4, 1, 3, 4, 1, 3, 0, 0, 1, 3, 1, 2, 4, 1,\n",
       "       1, 4, 3, 4, 1, 0, 2, 4, 0, 3, 0, 3, 2, 2, 1, 0, 0, 1, 3, 1, 4, 3,\n",
       "       4, 2, 1, 1, 1, 0, 2, 3, 4, 2, 3, 0, 3, 0, 4, 2, 3, 4, 1, 0, 0, 2,\n",
       "       2, 4, 1, 4, 1, 3, 3, 3, 1, 0, 4, 1, 2, 2, 2, 3, 1, 3, 3, 2, 2, 3,\n",
       "       1, 1, 2, 2, 4, 0, 4, 4, 3, 2], dtype=int64)"
      ]
     },
     "execution_count": 52,
     "metadata": {},
     "output_type": "execute_result"
    }
   ],
   "source": [
    "y_nn"
   ]
  },
  {
   "cell_type": "code",
   "execution_count": 53,
   "id": "1e98bef0",
   "metadata": {
    "ExecuteTime": {
     "end_time": "2021-12-31T09:09:25.642245Z",
     "start_time": "2021-12-31T09:09:25.625680Z"
    }
   },
   "outputs": [],
   "source": [
    "LE = LabelEncoder()\n",
    "y_nn_cat = to_categorical(LE.fit_transform(y_nn))"
   ]
  },
  {
   "cell_type": "code",
   "execution_count": 54,
   "id": "7020c0f5",
   "metadata": {
    "ExecuteTime": {
     "end_time": "2021-12-31T09:09:27.356408Z",
     "start_time": "2021-12-31T09:09:27.339478Z"
    }
   },
   "outputs": [
    {
     "data": {
      "text/plain": [
       "(230, 5)"
      ]
     },
     "execution_count": 54,
     "metadata": {},
     "output_type": "execute_result"
    }
   ],
   "source": [
    "y_nn_cat.shape"
   ]
  },
  {
   "cell_type": "code",
   "execution_count": 55,
   "id": "3a361741",
   "metadata": {
    "ExecuteTime": {
     "end_time": "2021-12-31T09:09:28.073825Z",
     "start_time": "2021-12-31T09:09:28.027635Z"
    }
   },
   "outputs": [],
   "source": [
    "X_train_nn, X_test_nn, y_train_nn, y_test_nn = train_test_split(X_nn,y_nn_cat, test_size=0.25, random_state=100)"
   ]
  },
  {
   "cell_type": "markdown",
   "id": "1887e869",
   "metadata": {},
   "source": [
    "<a id=\"7.1\"></a>\n",
    "**Build and Train NN**"
   ]
  },
  {
   "cell_type": "code",
   "execution_count": 60,
   "id": "852ea450",
   "metadata": {
    "ExecuteTime": {
     "end_time": "2021-12-31T09:38:38.850782Z",
     "start_time": "2021-12-31T09:38:15.570250Z"
    },
    "scrolled": true
   },
   "outputs": [
    {
     "name": "stdout",
     "output_type": "stream",
     "text": [
      "Epoch 1/8\n",
      "18/18 [==============================] - 4s 167ms/step - loss: 1.2414 - acc: 0.4884 - val_loss: 0.9505 - val_acc: 0.6034\n",
      "Epoch 2/8\n",
      "18/18 [==============================] - 3s 148ms/step - loss: 0.1372 - acc: 0.9709 - val_loss: 0.6025 - val_acc: 0.7241\n",
      "Epoch 3/8\n",
      "18/18 [==============================] - 3s 148ms/step - loss: 0.0240 - acc: 1.0000 - val_loss: 0.6345 - val_acc: 0.8276\n",
      "Epoch 4/8\n",
      "18/18 [==============================] - 3s 149ms/step - loss: 0.0085 - acc: 1.0000 - val_loss: 0.6010 - val_acc: 0.8448\n",
      "Epoch 5/8\n",
      "18/18 [==============================] - 3s 152ms/step - loss: 0.0023 - acc: 1.0000 - val_loss: 0.5470 - val_acc: 0.8621\n",
      "Epoch 6/8\n",
      "18/18 [==============================] - 3s 153ms/step - loss: 0.0016 - acc: 1.0000 - val_loss: 0.5557 - val_acc: 0.8621\n",
      "Epoch 7/8\n",
      "18/18 [==============================] - 3s 151ms/step - loss: 0.0012 - acc: 1.0000 - val_loss: 0.5645 - val_acc: 0.8793\n",
      "Epoch 8/8\n",
      "18/18 [==============================] - 3s 150ms/step - loss: 9.8589e-04 - acc: 1.0000 - val_loss: 0.5565 - val_acc: 0.8793\n"
     ]
    }
   ],
   "source": [
    "def load_model(): \n",
    "    model = Sequential([\n",
    "        Dense(4096, activation ='relu', input_shape = [X.shape[1]]),\n",
    "        Dense(2048, activation ='relu'),\n",
    "        Dense(1024, activation ='relu'),\n",
    "        Dense(512, activation ='relu'),\n",
    "        Dense(5, activation='softmax'),\n",
    "    ])\n",
    "    model.compile(\n",
    "        optimizer=  tf.keras.optimizers.Adam(learning_rate = 0.0001),\n",
    "        loss='categorical_crossentropy',\n",
    "        metrics=['acc'],\n",
    "    )\n",
    "    return model\n",
    "    \n",
    "nn_model = load_model()\n",
    "history = nn_model.fit(  X_train_nn , y_train_nn,\n",
    "                validation_data = (X_test_nn , y_test_nn),\n",
    "                epochs = 8,\n",
    "                batch_size = 10,\n",
    "              )"
   ]
  },
  {
   "cell_type": "markdown",
   "id": "10d73f67",
   "metadata": {},
   "source": [
    "<a id=\"7.2\"></a>\n",
    "**Accuracy of ANN**"
   ]
  },
  {
   "cell_type": "code",
   "execution_count": 62,
   "id": "b8888a85",
   "metadata": {
    "ExecuteTime": {
     "end_time": "2021-12-31T09:39:25.799823Z",
     "start_time": "2021-12-31T09:39:25.580245Z"
    }
   },
   "outputs": [
    {
     "name": "stdout",
     "output_type": "stream",
     "text": [
      "2/2 [==============================] - 0s 55ms/step - loss: 0.5565 - acc: 0.8793\n"
     ]
    },
    {
     "data": {
      "text/plain": [
       "[0.5564684271812439, 0.8793103694915771]"
      ]
     },
     "execution_count": 62,
     "metadata": {},
     "output_type": "execute_result"
    }
   ],
   "source": [
    "nn_model.evaluate(X_test_nn, y_test_nn)"
   ]
  },
  {
   "cell_type": "markdown",
   "id": "d04a2862",
   "metadata": {},
   "source": [
    "<a id='7.3'></a>\n",
    "**Loss Curve**"
   ]
  },
  {
   "cell_type": "code",
   "execution_count": 64,
   "id": "6334a8f8",
   "metadata": {
    "ExecuteTime": {
     "end_time": "2021-12-31T09:39:53.432833Z",
     "start_time": "2021-12-31T09:39:52.934717Z"
    }
   },
   "outputs": [
    {
     "data": {
      "image/png": "[encoded data removed]",
      "text/plain": [
       "<Figure size 576x432 with 1 Axes>"
      ]
     },
     "metadata": {
      "needs_background": "light"
     },
     "output_type": "display_data"
    }
   ],
   "source": [
    "plt.figure(figsize=(8,6))\n",
    "loss_train = history.history['loss']\n",
    "loss_val = history.history['val_loss']\n",
    "epochs = range(1,9)\n",
    "plt.plot(epochs, loss_train, 'g', label='Training loss')\n",
    "plt.plot(epochs, loss_val, 'b', label='validation loss')\n",
    "plt.title('Training and Validation loss')\n",
    "plt.xlabel('Epochs')\n",
    "plt.ylabel('Loss')\n",
    "plt.xticks(np.arange(1,10))\n",
    "plt.legend()\n",
    "plt.show()"
   ]
  },
  {
   "cell_type": "code",
   "execution_count": 65,
   "id": "17db5da6",
   "metadata": {
    "ExecuteTime": {
     "end_time": "2021-12-31T09:40:06.042165Z",
     "start_time": "2021-12-31T09:40:05.310686Z"
    }
   },
   "outputs": [],
   "source": [
    "y_predicted = nn_model.predict(X_test_nn)"
   ]
  },
  {
   "cell_type": "code",
   "execution_count": 66,
   "id": "a56973f8",
   "metadata": {
    "ExecuteTime": {
     "end_time": "2021-12-31T09:40:06.085544Z",
     "start_time": "2021-12-31T09:40:06.042165Z"
    }
   },
   "outputs": [
    {
     "data": {
      "text/plain": [
       "array([[9.64173436e-01, 1.73854751e-05, 3.37773054e-05, 1.70756437e-04,\n",
       "        3.56045552e-02],\n",
       "       [8.15547755e-05, 8.61108482e-01, 8.09811801e-02, 1.51307127e-02,\n",
       "        4.26980630e-02],\n",
       "       [2.51496341e-02, 2.06680726e-02, 5.16358437e-03, 6.97127163e-01,\n",
       "        2.51891583e-01],\n",
       "       [2.98139112e-05, 9.80977774e-01, 4.86336387e-04, 1.74615793e-02,\n",
       "        1.04439131e-03],\n",
       "       [1.44344041e-04, 7.97470158e-04, 9.96545494e-01, 8.44929134e-04,\n",
       "        1.66774529e-03],\n",
       "       [1.31185295e-03, 8.09621662e-02, 3.89274349e-03, 9.08251703e-01,\n",
       "        5.58154285e-03],\n",
       "       [1.10423731e-04, 1.23891346e-02, 1.54961389e-03, 9.84227479e-01,\n",
       "        1.72332022e-03],\n",
       "       [9.68839884e-01, 2.67171505e-04, 2.24526229e-05, 1.04134015e-04,\n",
       "        3.07663921e-02],\n",
       "       [1.11350371e-02, 5.45673370e-01, 7.15861246e-02, 1.77564994e-01,\n",
       "        1.94040537e-01],\n",
       "       [1.20193974e-04, 4.27131192e-04, 3.84727085e-04, 2.17664128e-04,\n",
       "        9.98850226e-01],\n",
       "       [2.02252631e-05, 4.89679258e-03, 2.04889715e-04, 9.92468178e-01,\n",
       "        2.40993197e-03],\n",
       "       [1.18912998e-04, 1.05632714e-03, 9.95645940e-01, 1.92220288e-03,\n",
       "        1.25654729e-03],\n",
       "       [2.30860460e-04, 5.32328757e-03, 2.26334222e-02, 9.71239388e-01,\n",
       "        5.73134748e-04],\n",
       "       [8.44346583e-01, 5.17327047e-04, 2.75353115e-04, 1.07640726e-03,\n",
       "        1.53784275e-01],\n",
       "       [7.27939696e-05, 5.37179224e-03, 2.60977249e-04, 9.94108796e-01,\n",
       "        1.85657365e-04],\n",
       "       [4.22702335e-08, 3.81660095e-04, 6.32273222e-05, 9.99554336e-01,\n",
       "        7.52191795e-07],\n",
       "       [5.68455551e-04, 6.45890906e-02, 9.23991978e-01, 5.94693236e-03,\n",
       "        4.90353024e-03],\n",
       "       [1.25236295e-06, 2.01930859e-04, 9.99321580e-01, 4.46110469e-04,\n",
       "        2.90601220e-05],\n",
       "       [3.56132659e-06, 9.09137949e-02, 9.04001109e-03, 9.00015295e-01,\n",
       "        2.72928701e-05],\n",
       "       [1.12455152e-03, 1.70143366e-01, 1.87942073e-01, 6.35265946e-01,\n",
       "        5.52412542e-03],\n",
       "       [8.37184896e-04, 2.47741476e-01, 7.05162287e-01, 8.40611104e-03,\n",
       "        3.78528945e-02],\n",
       "       [2.44503935e-05, 4.24327375e-03, 2.28846772e-03, 9.86029685e-01,\n",
       "        7.41423247e-03],\n",
       "       [2.56241108e-08, 7.31072575e-03, 9.83599663e-01, 9.08365846e-03,\n",
       "        6.00129488e-06],\n",
       "       [1.44726492e-03, 1.53947677e-02, 8.35604131e-01, 1.46548763e-01,\n",
       "        1.00506470e-03],\n",
       "       [3.03821962e-05, 3.73848714e-02, 9.60038900e-01, 1.47356372e-03,\n",
       "        1.07230421e-03],\n",
       "       [7.18708397e-05, 7.61383235e-01, 1.81511134e-01, 4.10895869e-02,\n",
       "        1.59442127e-02],\n",
       "       [3.56992777e-03, 7.22586155e-01, 2.11197257e-01, 4.37840857e-02,\n",
       "        1.88625790e-02],\n",
       "       [9.58381176e-01, 5.96931623e-03, 1.28298230e-03, 3.39250937e-02,\n",
       "        4.41390177e-04],\n",
       "       [1.52935655e-07, 1.43843265e-02, 2.18932191e-03, 9.83423114e-01,\n",
       "        3.22324695e-06],\n",
       "       [2.16789660e-03, 1.33868586e-02, 4.50507738e-03, 2.42439955e-02,\n",
       "        9.55696166e-01],\n",
       "       [1.10293622e-05, 9.05677795e-01, 7.12475320e-03, 7.33127594e-02,\n",
       "        1.38736293e-02],\n",
       "       [3.01322962e-06, 4.99690652e-01, 7.81227350e-02, 4.21798408e-01,\n",
       "        3.85211286e-04],\n",
       "       [9.26485136e-02, 1.89714450e-02, 3.20417294e-03, 2.36482378e-02,\n",
       "        8.61527562e-01],\n",
       "       [3.20903258e-03, 1.30477563e-01, 5.21363974e-01, 1.30372355e-02,\n",
       "        3.31912220e-01],\n",
       "       [7.83910218e-05, 1.23743797e-02, 1.15565971e-01, 1.21442648e-03,\n",
       "        8.70766819e-01],\n",
       "       [1.41036280e-05, 7.77454913e-01, 5.47856977e-03, 2.13679388e-01,\n",
       "        3.37303500e-03],\n",
       "       [8.62368906e-04, 3.93285677e-02, 2.93575287e-01, 5.88187754e-01,\n",
       "        7.80459940e-02],\n",
       "       [9.99937892e-01, 7.86897886e-07, 5.02636067e-06, 2.68867680e-05,\n",
       "        2.94932852e-05],\n",
       "       [2.19287263e-04, 2.01230526e-01, 1.35436624e-01, 6.56290233e-01,\n",
       "        6.82331668e-03],\n",
       "       [1.25104398e-03, 3.30929995e-01, 7.01703653e-02, 3.92971873e-01,\n",
       "        2.04676658e-01],\n",
       "       [9.78203535e-01, 7.61076575e-04, 2.89829204e-05, 4.76271380e-03,\n",
       "        1.62436571e-02],\n",
       "       [5.33007920e-01, 5.67515306e-02, 2.73734123e-01, 1.30988792e-01,\n",
       "        5.51754981e-03],\n",
       "       [1.12113333e-03, 5.88974237e-01, 7.53609510e-03, 3.52039963e-01,\n",
       "        5.03285825e-02],\n",
       "       [3.52379546e-04, 4.83836653e-03, 7.05966214e-03, 3.98464472e-04,\n",
       "        9.87351120e-01],\n",
       "       [1.36835398e-02, 1.51171796e-02, 2.46280760e-01, 7.55122304e-02,\n",
       "        6.49406314e-01],\n",
       "       [1.20813559e-06, 3.50411981e-02, 1.59456424e-04, 9.64674294e-01,\n",
       "        1.23885751e-04],\n",
       "       [2.97342171e-03, 7.33325165e-03, 9.84298229e-01, 3.10423854e-03,\n",
       "        2.29082839e-03],\n",
       "       [2.32516572e-06, 7.17192233e-05, 9.99836445e-01, 4.79681876e-05,\n",
       "        4.15175200e-05],\n",
       "       [1.21156496e-04, 2.83768377e-03, 3.67390327e-02, 1.21693290e-03,\n",
       "        9.59085226e-01],\n",
       "       [3.76610114e-04, 7.64145749e-04, 6.87817112e-04, 4.82501491e-05,\n",
       "        9.98123109e-01],\n",
       "       [1.28008978e-05, 4.66725193e-02, 9.41440642e-01, 4.52936208e-03,\n",
       "        7.34467013e-03],\n",
       "       [5.73953672e-04, 2.21221894e-01, 7.83201680e-03, 7.54175603e-01,\n",
       "        1.61964279e-02],\n",
       "       [9.46498418e-04, 2.69089651e-04, 2.78435782e-05, 2.45452648e-05,\n",
       "        9.98732030e-01],\n",
       "       [1.29710678e-02, 3.19859060e-03, 1.46749022e-03, 2.37522996e-03,\n",
       "        9.79987621e-01],\n",
       "       [9.54334617e-01, 1.10766203e-04, 5.84156332e-05, 1.06059527e-03,\n",
       "        4.44356613e-02],\n",
       "       [4.78980131e-03, 7.73486076e-03, 8.12879324e-01, 1.40484367e-02,\n",
       "        1.60547614e-01],\n",
       "       [3.36688681e-04, 9.75616217e-01, 1.79193588e-03, 1.89819112e-02,\n",
       "        3.27322120e-03],\n",
       "       [6.17705664e-05, 9.03639942e-03, 9.90332663e-01, 3.46462650e-04,\n",
       "        2.22776376e-04]], dtype=float32)"
      ]
     },
     "execution_count": 66,
     "metadata": {},
     "output_type": "execute_result"
    }
   ],
   "source": [
    "y_predicted"
   ]
  },
  {
   "cell_type": "code",
   "execution_count": 67,
   "id": "925d71ff",
   "metadata": {
    "ExecuteTime": {
     "end_time": "2021-12-31T09:40:06.710452Z",
     "start_time": "2021-12-31T09:40:06.694347Z"
    }
   },
   "outputs": [],
   "source": [
    "y_predicted_labels = [np.argmax(i) for i in y_predicted]"
   ]
  },
  {
   "cell_type": "code",
   "execution_count": 68,
   "id": "70daf59d",
   "metadata": {
    "ExecuteTime": {
     "end_time": "2021-12-31T09:40:07.808408Z",
     "start_time": "2021-12-31T09:40:07.795097Z"
    }
   },
   "outputs": [
    {
     "data": {
      "text/plain": [
       "[0,\n",
       " 1,\n",
       " 3,\n",
       " 1,\n",
       " 2,\n",
       " 3,\n",
       " 3,\n",
       " 0,\n",
       " 1,\n",
       " 4,\n",
       " 3,\n",
       " 2,\n",
       " 3,\n",
       " 0,\n",
       " 3,\n",
       " 3,\n",
       " 2,\n",
       " 2,\n",
       " 3,\n",
       " 3,\n",
       " 2,\n",
       " 3,\n",
       " 2,\n",
       " 2,\n",
       " 2,\n",
       " 1,\n",
       " 1,\n",
       " 0,\n",
       " 3,\n",
       " 4,\n",
       " 1,\n",
       " 1,\n",
       " 4,\n",
       " 2,\n",
       " 4,\n",
       " 1,\n",
       " 3,\n",
       " 0,\n",
       " 3,\n",
       " 3,\n",
       " 0,\n",
       " 0,\n",
       " 1,\n",
       " 4,\n",
       " 4,\n",
       " 3,\n",
       " 2,\n",
       " 2,\n",
       " 4,\n",
       " 4,\n",
       " 2,\n",
       " 3,\n",
       " 4,\n",
       " 4,\n",
       " 0,\n",
       " 2,\n",
       " 1,\n",
       " 2]"
      ]
     },
     "execution_count": 68,
     "metadata": {},
     "output_type": "execute_result"
    }
   ],
   "source": [
    "y_predicted_labels"
   ]
  },
  {
   "cell_type": "code",
   "execution_count": 69,
   "id": "98e54808",
   "metadata": {
    "ExecuteTime": {
     "end_time": "2021-12-31T09:40:10.841227Z",
     "start_time": "2021-12-31T09:40:10.833926Z"
    }
   },
   "outputs": [
    {
     "data": {
      "text/plain": [
       "(58,)"
      ]
     },
     "execution_count": 69,
     "metadata": {},
     "output_type": "execute_result"
    }
   ],
   "source": [
    "y_predicted_labels = np.array(y_predicted_labels)\n",
    "y_predicted_labels.shape"
   ]
  },
  {
   "cell_type": "code",
   "execution_count": 70,
   "id": "dc605ee4",
   "metadata": {
    "ExecuteTime": {
     "end_time": "2021-12-31T09:40:13.346850Z",
     "start_time": "2021-12-31T09:40:13.313029Z"
    }
   },
   "outputs": [],
   "source": [
    "X_train_nn, X_test_nn, y_train_nn, y_test_nn = train_test_split(X_nn,y_nn, test_size=0.25, random_state=100)"
   ]
  },
  {
   "cell_type": "code",
   "execution_count": 71,
   "id": "06acb831",
   "metadata": {
    "ExecuteTime": {
     "end_time": "2021-12-31T09:40:13.747693Z",
     "start_time": "2021-12-31T09:40:13.739088Z"
    }
   },
   "outputs": [
    {
     "data": {
      "text/plain": [
       "(58,)"
      ]
     },
     "execution_count": 71,
     "metadata": {},
     "output_type": "execute_result"
    }
   ],
   "source": [
    "y_test_nn.shape"
   ]
  },
  {
   "cell_type": "code",
   "execution_count": 72,
   "id": "e6d02f7d",
   "metadata": {
    "ExecuteTime": {
     "end_time": "2021-12-31T09:40:14.197136Z",
     "start_time": "2021-12-31T09:40:14.151327Z"
    }
   },
   "outputs": [
    {
     "data": {
      "text/plain": [
       "<tf.Tensor: shape=(5, 5), dtype=int32, numpy=\n",
       "array([[ 7,  0,  0,  0,  0],\n",
       "       [ 0,  8,  0,  3,  0],\n",
       "       [ 0,  0, 13,  0,  0],\n",
       "       [ 0,  2,  0, 13,  0],\n",
       "       [ 1,  0,  1,  0, 10]])>"
      ]
     },
     "execution_count": 72,
     "metadata": {},
     "output_type": "execute_result"
    }
   ],
   "source": [
    "cm = tf.math.confusion_matrix(labels=y_test_nn, predictions=y_predicted_labels)\n",
    "cm"
   ]
  },
  {
   "cell_type": "markdown",
   "id": "6bee20e9",
   "metadata": {},
   "source": [
    "<a id='7.4'></a>\n",
    "**Confusion Matrix**"
   ]
  },
  {
   "cell_type": "code",
   "execution_count": 73,
   "id": "1702bc7c",
   "metadata": {
    "ExecuteTime": {
     "end_time": "2021-12-31T09:40:15.623398Z",
     "start_time": "2021-12-31T09:40:14.729857Z"
    }
   },
   "outputs": [
    {
     "data": {
      "text/plain": [
       "<AxesSubplot:>"
      ]
     },
     "execution_count": 73,
     "metadata": {},
     "output_type": "execute_result"
    },
    {
     "data": {
      "image/png": "[encoded data removed]",
      "text/plain": [
       "<Figure size 648x504 with 2 Axes>"
      ]
     },
     "metadata": {
      "needs_background": "light"
     },
     "output_type": "display_data"
    }
   ],
   "source": [
    "plt.figure(figsize=(9,7))\n",
    "sns.heatmap(cm, annot=True)"
   ]
  },
  {
   "cell_type": "code",
   "execution_count": null,
   "id": "b2833d99",
   "metadata": {},
   "outputs": [],
   "source": []
  }
 ],
 "metadata": {
  "kernelspec": {
   "display_name": "Python 3",
   "language": "python",
   "name": "python3"
  },
  "language_info": {
   "codemirror_mode": {
    "name": "ipython",
    "version": 3
   },
   "file_extension": ".py",
   "mimetype": "text/x-python",
   "name": "python",
   "nbconvert_exporter": "python",
   "pygments_lexer": "ipython3",
   "version": "3.8.8"
  },
  "toc": {
   "base_numbering": 1,
   "nav_menu": {},
   "number_sections": true,
   "sideBar": true,
   "skip_h1_title": false,
   "title_cell": "Table of Contents",
   "title_sidebar": "Contents",
   "toc_cell": false,
   "toc_position": {},
   "toc_section_display": true,
   "toc_window_display": false
  }
 },
 "nbformat": 4,
 "nbformat_minor": 5
}
